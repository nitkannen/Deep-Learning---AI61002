{
  "nbformat": 4,
  "nbformat_minor": 0,
  "metadata": {
    "kernelspec": {
      "display_name": "Python 3",
      "language": "python",
      "name": "python3"
    },
    "language_info": {
      "codemirror_mode": {
        "name": "ipython",
        "version": 3
      },
      "file_extension": ".py",
      "mimetype": "text/x-python",
      "name": "python",
      "nbconvert_exporter": "python",
      "pygments_lexer": "ipython3",
      "version": "3.7.4"
    },
    "colab": {
      "name": "FullyConnected_18EE30016_NithishKannen.ipynb",
      "provenance": [],
      "collapsed_sections": []
    },
    "widgets": {
      "application/vnd.jupyter.widget-state+json": {
        "185d60f01f6047ee88ee4a2d3d22efd4": {
          "model_module": "@jupyter-widgets/controls",
          "model_name": "HBoxModel",
          "state": {
            "_view_name": "HBoxView",
            "_dom_classes": [],
            "_model_name": "HBoxModel",
            "_view_module": "@jupyter-widgets/controls",
            "_model_module_version": "1.5.0",
            "_view_count": null,
            "_view_module_version": "1.5.0",
            "box_style": "",
            "layout": "IPY_MODEL_e22faa55d7cb435ba935b4d8816269a0",
            "_model_module": "@jupyter-widgets/controls",
            "children": [
              "IPY_MODEL_8e5463deb0f24bcda27432f525ce1989",
              "IPY_MODEL_202e7a43a4e34bb4813dd4ce21de9549"
            ]
          }
        },
        "e22faa55d7cb435ba935b4d8816269a0": {
          "model_module": "@jupyter-widgets/base",
          "model_name": "LayoutModel",
          "state": {
            "_view_name": "LayoutView",
            "grid_template_rows": null,
            "right": null,
            "justify_content": null,
            "_view_module": "@jupyter-widgets/base",
            "overflow": null,
            "_model_module_version": "1.2.0",
            "_view_count": null,
            "flex_flow": null,
            "width": null,
            "min_width": null,
            "border": null,
            "align_items": null,
            "bottom": null,
            "_model_module": "@jupyter-widgets/base",
            "top": null,
            "grid_column": null,
            "overflow_y": null,
            "overflow_x": null,
            "grid_auto_flow": null,
            "grid_area": null,
            "grid_template_columns": null,
            "flex": null,
            "_model_name": "LayoutModel",
            "justify_items": null,
            "grid_row": null,
            "max_height": null,
            "align_content": null,
            "visibility": null,
            "align_self": null,
            "height": null,
            "min_height": null,
            "padding": null,
            "grid_auto_rows": null,
            "grid_gap": null,
            "max_width": null,
            "order": null,
            "_view_module_version": "1.2.0",
            "grid_template_areas": null,
            "object_position": null,
            "object_fit": null,
            "grid_auto_columns": null,
            "margin": null,
            "display": null,
            "left": null
          }
        },
        "8e5463deb0f24bcda27432f525ce1989": {
          "model_module": "@jupyter-widgets/controls",
          "model_name": "FloatProgressModel",
          "state": {
            "_view_name": "ProgressView",
            "style": "IPY_MODEL_a710a2ebe9274dfbb051dedd5f1cd17e",
            "_dom_classes": [],
            "description": "",
            "_model_name": "FloatProgressModel",
            "bar_style": "info",
            "max": 1,
            "_view_module": "@jupyter-widgets/controls",
            "_model_module_version": "1.5.0",
            "value": 1,
            "_view_count": null,
            "_view_module_version": "1.5.0",
            "orientation": "horizontal",
            "min": 0,
            "description_tooltip": null,
            "_model_module": "@jupyter-widgets/controls",
            "layout": "IPY_MODEL_291ddfb51efe4adea0faafb178a47cc1"
          }
        },
        "202e7a43a4e34bb4813dd4ce21de9549": {
          "model_module": "@jupyter-widgets/controls",
          "model_name": "HTMLModel",
          "state": {
            "_view_name": "HTMLView",
            "style": "IPY_MODEL_1519435158ff4f8fbf82305e166442fa",
            "_dom_classes": [],
            "description": "",
            "_model_name": "HTMLModel",
            "placeholder": "​",
            "_view_module": "@jupyter-widgets/controls",
            "_model_module_version": "1.5.0",
            "value": " 9920512/? [00:20&lt;00:00, 23919465.21it/s]",
            "_view_count": null,
            "_view_module_version": "1.5.0",
            "description_tooltip": null,
            "_model_module": "@jupyter-widgets/controls",
            "layout": "IPY_MODEL_dafb20393e8c4d6cb095d32958844312"
          }
        },
        "a710a2ebe9274dfbb051dedd5f1cd17e": {
          "model_module": "@jupyter-widgets/controls",
          "model_name": "ProgressStyleModel",
          "state": {
            "_view_name": "StyleView",
            "_model_name": "ProgressStyleModel",
            "description_width": "initial",
            "_view_module": "@jupyter-widgets/base",
            "_model_module_version": "1.5.0",
            "_view_count": null,
            "_view_module_version": "1.2.0",
            "bar_color": null,
            "_model_module": "@jupyter-widgets/controls"
          }
        },
        "291ddfb51efe4adea0faafb178a47cc1": {
          "model_module": "@jupyter-widgets/base",
          "model_name": "LayoutModel",
          "state": {
            "_view_name": "LayoutView",
            "grid_template_rows": null,
            "right": null,
            "justify_content": null,
            "_view_module": "@jupyter-widgets/base",
            "overflow": null,
            "_model_module_version": "1.2.0",
            "_view_count": null,
            "flex_flow": null,
            "width": null,
            "min_width": null,
            "border": null,
            "align_items": null,
            "bottom": null,
            "_model_module": "@jupyter-widgets/base",
            "top": null,
            "grid_column": null,
            "overflow_y": null,
            "overflow_x": null,
            "grid_auto_flow": null,
            "grid_area": null,
            "grid_template_columns": null,
            "flex": null,
            "_model_name": "LayoutModel",
            "justify_items": null,
            "grid_row": null,
            "max_height": null,
            "align_content": null,
            "visibility": null,
            "align_self": null,
            "height": null,
            "min_height": null,
            "padding": null,
            "grid_auto_rows": null,
            "grid_gap": null,
            "max_width": null,
            "order": null,
            "_view_module_version": "1.2.0",
            "grid_template_areas": null,
            "object_position": null,
            "object_fit": null,
            "grid_auto_columns": null,
            "margin": null,
            "display": null,
            "left": null
          }
        },
        "1519435158ff4f8fbf82305e166442fa": {
          "model_module": "@jupyter-widgets/controls",
          "model_name": "DescriptionStyleModel",
          "state": {
            "_view_name": "StyleView",
            "_model_name": "DescriptionStyleModel",
            "description_width": "",
            "_view_module": "@jupyter-widgets/base",
            "_model_module_version": "1.5.0",
            "_view_count": null,
            "_view_module_version": "1.2.0",
            "_model_module": "@jupyter-widgets/controls"
          }
        },
        "dafb20393e8c4d6cb095d32958844312": {
          "model_module": "@jupyter-widgets/base",
          "model_name": "LayoutModel",
          "state": {
            "_view_name": "LayoutView",
            "grid_template_rows": null,
            "right": null,
            "justify_content": null,
            "_view_module": "@jupyter-widgets/base",
            "overflow": null,
            "_model_module_version": "1.2.0",
            "_view_count": null,
            "flex_flow": null,
            "width": null,
            "min_width": null,
            "border": null,
            "align_items": null,
            "bottom": null,
            "_model_module": "@jupyter-widgets/base",
            "top": null,
            "grid_column": null,
            "overflow_y": null,
            "overflow_x": null,
            "grid_auto_flow": null,
            "grid_area": null,
            "grid_template_columns": null,
            "flex": null,
            "_model_name": "LayoutModel",
            "justify_items": null,
            "grid_row": null,
            "max_height": null,
            "align_content": null,
            "visibility": null,
            "align_self": null,
            "height": null,
            "min_height": null,
            "padding": null,
            "grid_auto_rows": null,
            "grid_gap": null,
            "max_width": null,
            "order": null,
            "_view_module_version": "1.2.0",
            "grid_template_areas": null,
            "object_position": null,
            "object_fit": null,
            "grid_auto_columns": null,
            "margin": null,
            "display": null,
            "left": null
          }
        },
        "c3dda65ab6324094957c1c862ae96ebb": {
          "model_module": "@jupyter-widgets/controls",
          "model_name": "HBoxModel",
          "state": {
            "_view_name": "HBoxView",
            "_dom_classes": [],
            "_model_name": "HBoxModel",
            "_view_module": "@jupyter-widgets/controls",
            "_model_module_version": "1.5.0",
            "_view_count": null,
            "_view_module_version": "1.5.0",
            "box_style": "",
            "layout": "IPY_MODEL_002daf6cc2854699a69b55098537bbde",
            "_model_module": "@jupyter-widgets/controls",
            "children": [
              "IPY_MODEL_f6aef99164ce4ea3967afe98381aceef",
              "IPY_MODEL_22d67c9bb0eb4edbaa251864798d21cb"
            ]
          }
        },
        "002daf6cc2854699a69b55098537bbde": {
          "model_module": "@jupyter-widgets/base",
          "model_name": "LayoutModel",
          "state": {
            "_view_name": "LayoutView",
            "grid_template_rows": null,
            "right": null,
            "justify_content": null,
            "_view_module": "@jupyter-widgets/base",
            "overflow": null,
            "_model_module_version": "1.2.0",
            "_view_count": null,
            "flex_flow": null,
            "width": null,
            "min_width": null,
            "border": null,
            "align_items": null,
            "bottom": null,
            "_model_module": "@jupyter-widgets/base",
            "top": null,
            "grid_column": null,
            "overflow_y": null,
            "overflow_x": null,
            "grid_auto_flow": null,
            "grid_area": null,
            "grid_template_columns": null,
            "flex": null,
            "_model_name": "LayoutModel",
            "justify_items": null,
            "grid_row": null,
            "max_height": null,
            "align_content": null,
            "visibility": null,
            "align_self": null,
            "height": null,
            "min_height": null,
            "padding": null,
            "grid_auto_rows": null,
            "grid_gap": null,
            "max_width": null,
            "order": null,
            "_view_module_version": "1.2.0",
            "grid_template_areas": null,
            "object_position": null,
            "object_fit": null,
            "grid_auto_columns": null,
            "margin": null,
            "display": null,
            "left": null
          }
        },
        "f6aef99164ce4ea3967afe98381aceef": {
          "model_module": "@jupyter-widgets/controls",
          "model_name": "FloatProgressModel",
          "state": {
            "_view_name": "ProgressView",
            "style": "IPY_MODEL_3b17fbe7f28b4bcdada687467748cfcd",
            "_dom_classes": [],
            "description": "",
            "_model_name": "FloatProgressModel",
            "bar_style": "success",
            "max": 1,
            "_view_module": "@jupyter-widgets/controls",
            "_model_module_version": "1.5.0",
            "value": 1,
            "_view_count": null,
            "_view_module_version": "1.5.0",
            "orientation": "horizontal",
            "min": 0,
            "description_tooltip": null,
            "_model_module": "@jupyter-widgets/controls",
            "layout": "IPY_MODEL_5e8d3cf6f9b243a3b27c6b7dff2ee183"
          }
        },
        "22d67c9bb0eb4edbaa251864798d21cb": {
          "model_module": "@jupyter-widgets/controls",
          "model_name": "HTMLModel",
          "state": {
            "_view_name": "HTMLView",
            "style": "IPY_MODEL_5c28583e59624c8ba86310def5760bb0",
            "_dom_classes": [],
            "description": "",
            "_model_name": "HTMLModel",
            "placeholder": "​",
            "_view_module": "@jupyter-widgets/controls",
            "_model_module_version": "1.5.0",
            "value": " 32768/? [00:00&lt;00:00, 358430.12it/s]",
            "_view_count": null,
            "_view_module_version": "1.5.0",
            "description_tooltip": null,
            "_model_module": "@jupyter-widgets/controls",
            "layout": "IPY_MODEL_7e8e84f3ae4f4484b5ae82132e2e93dd"
          }
        },
        "3b17fbe7f28b4bcdada687467748cfcd": {
          "model_module": "@jupyter-widgets/controls",
          "model_name": "ProgressStyleModel",
          "state": {
            "_view_name": "StyleView",
            "_model_name": "ProgressStyleModel",
            "description_width": "initial",
            "_view_module": "@jupyter-widgets/base",
            "_model_module_version": "1.5.0",
            "_view_count": null,
            "_view_module_version": "1.2.0",
            "bar_color": null,
            "_model_module": "@jupyter-widgets/controls"
          }
        },
        "5e8d3cf6f9b243a3b27c6b7dff2ee183": {
          "model_module": "@jupyter-widgets/base",
          "model_name": "LayoutModel",
          "state": {
            "_view_name": "LayoutView",
            "grid_template_rows": null,
            "right": null,
            "justify_content": null,
            "_view_module": "@jupyter-widgets/base",
            "overflow": null,
            "_model_module_version": "1.2.0",
            "_view_count": null,
            "flex_flow": null,
            "width": null,
            "min_width": null,
            "border": null,
            "align_items": null,
            "bottom": null,
            "_model_module": "@jupyter-widgets/base",
            "top": null,
            "grid_column": null,
            "overflow_y": null,
            "overflow_x": null,
            "grid_auto_flow": null,
            "grid_area": null,
            "grid_template_columns": null,
            "flex": null,
            "_model_name": "LayoutModel",
            "justify_items": null,
            "grid_row": null,
            "max_height": null,
            "align_content": null,
            "visibility": null,
            "align_self": null,
            "height": null,
            "min_height": null,
            "padding": null,
            "grid_auto_rows": null,
            "grid_gap": null,
            "max_width": null,
            "order": null,
            "_view_module_version": "1.2.0",
            "grid_template_areas": null,
            "object_position": null,
            "object_fit": null,
            "grid_auto_columns": null,
            "margin": null,
            "display": null,
            "left": null
          }
        },
        "5c28583e59624c8ba86310def5760bb0": {
          "model_module": "@jupyter-widgets/controls",
          "model_name": "DescriptionStyleModel",
          "state": {
            "_view_name": "StyleView",
            "_model_name": "DescriptionStyleModel",
            "description_width": "",
            "_view_module": "@jupyter-widgets/base",
            "_model_module_version": "1.5.0",
            "_view_count": null,
            "_view_module_version": "1.2.0",
            "_model_module": "@jupyter-widgets/controls"
          }
        },
        "7e8e84f3ae4f4484b5ae82132e2e93dd": {
          "model_module": "@jupyter-widgets/base",
          "model_name": "LayoutModel",
          "state": {
            "_view_name": "LayoutView",
            "grid_template_rows": null,
            "right": null,
            "justify_content": null,
            "_view_module": "@jupyter-widgets/base",
            "overflow": null,
            "_model_module_version": "1.2.0",
            "_view_count": null,
            "flex_flow": null,
            "width": null,
            "min_width": null,
            "border": null,
            "align_items": null,
            "bottom": null,
            "_model_module": "@jupyter-widgets/base",
            "top": null,
            "grid_column": null,
            "overflow_y": null,
            "overflow_x": null,
            "grid_auto_flow": null,
            "grid_area": null,
            "grid_template_columns": null,
            "flex": null,
            "_model_name": "LayoutModel",
            "justify_items": null,
            "grid_row": null,
            "max_height": null,
            "align_content": null,
            "visibility": null,
            "align_self": null,
            "height": null,
            "min_height": null,
            "padding": null,
            "grid_auto_rows": null,
            "grid_gap": null,
            "max_width": null,
            "order": null,
            "_view_module_version": "1.2.0",
            "grid_template_areas": null,
            "object_position": null,
            "object_fit": null,
            "grid_auto_columns": null,
            "margin": null,
            "display": null,
            "left": null
          }
        },
        "d4f6149834b041439eafc6debede1e03": {
          "model_module": "@jupyter-widgets/controls",
          "model_name": "HBoxModel",
          "state": {
            "_view_name": "HBoxView",
            "_dom_classes": [],
            "_model_name": "HBoxModel",
            "_view_module": "@jupyter-widgets/controls",
            "_model_module_version": "1.5.0",
            "_view_count": null,
            "_view_module_version": "1.5.0",
            "box_style": "",
            "layout": "IPY_MODEL_2caf98e8c2bd487795dd28f17b68e267",
            "_model_module": "@jupyter-widgets/controls",
            "children": [
              "IPY_MODEL_a122e973caa04d3baafa073e33fa00ca",
              "IPY_MODEL_ffb3d17dc8f4407cbaefd74d8f7103ff"
            ]
          }
        },
        "2caf98e8c2bd487795dd28f17b68e267": {
          "model_module": "@jupyter-widgets/base",
          "model_name": "LayoutModel",
          "state": {
            "_view_name": "LayoutView",
            "grid_template_rows": null,
            "right": null,
            "justify_content": null,
            "_view_module": "@jupyter-widgets/base",
            "overflow": null,
            "_model_module_version": "1.2.0",
            "_view_count": null,
            "flex_flow": null,
            "width": null,
            "min_width": null,
            "border": null,
            "align_items": null,
            "bottom": null,
            "_model_module": "@jupyter-widgets/base",
            "top": null,
            "grid_column": null,
            "overflow_y": null,
            "overflow_x": null,
            "grid_auto_flow": null,
            "grid_area": null,
            "grid_template_columns": null,
            "flex": null,
            "_model_name": "LayoutModel",
            "justify_items": null,
            "grid_row": null,
            "max_height": null,
            "align_content": null,
            "visibility": null,
            "align_self": null,
            "height": null,
            "min_height": null,
            "padding": null,
            "grid_auto_rows": null,
            "grid_gap": null,
            "max_width": null,
            "order": null,
            "_view_module_version": "1.2.0",
            "grid_template_areas": null,
            "object_position": null,
            "object_fit": null,
            "grid_auto_columns": null,
            "margin": null,
            "display": null,
            "left": null
          }
        },
        "a122e973caa04d3baafa073e33fa00ca": {
          "model_module": "@jupyter-widgets/controls",
          "model_name": "FloatProgressModel",
          "state": {
            "_view_name": "ProgressView",
            "style": "IPY_MODEL_1f7380e6a2ac4467aaffc7d2fe77201b",
            "_dom_classes": [],
            "description": "",
            "_model_name": "FloatProgressModel",
            "bar_style": "info",
            "max": 1,
            "_view_module": "@jupyter-widgets/controls",
            "_model_module_version": "1.5.0",
            "value": 1,
            "_view_count": null,
            "_view_module_version": "1.5.0",
            "orientation": "horizontal",
            "min": 0,
            "description_tooltip": null,
            "_model_module": "@jupyter-widgets/controls",
            "layout": "IPY_MODEL_4e670279bdc142ebb7d4e1df010898e5"
          }
        },
        "ffb3d17dc8f4407cbaefd74d8f7103ff": {
          "model_module": "@jupyter-widgets/controls",
          "model_name": "HTMLModel",
          "state": {
            "_view_name": "HTMLView",
            "style": "IPY_MODEL_3a9acb64f2bc4cc9a8be510f9b013ac6",
            "_dom_classes": [],
            "description": "",
            "_model_name": "HTMLModel",
            "placeholder": "​",
            "_view_module": "@jupyter-widgets/controls",
            "_model_module_version": "1.5.0",
            "value": " 1654784/? [00:19&lt;00:00, 120480.59it/s]",
            "_view_count": null,
            "_view_module_version": "1.5.0",
            "description_tooltip": null,
            "_model_module": "@jupyter-widgets/controls",
            "layout": "IPY_MODEL_e836248162bf481abc4872f742c51d35"
          }
        },
        "1f7380e6a2ac4467aaffc7d2fe77201b": {
          "model_module": "@jupyter-widgets/controls",
          "model_name": "ProgressStyleModel",
          "state": {
            "_view_name": "StyleView",
            "_model_name": "ProgressStyleModel",
            "description_width": "initial",
            "_view_module": "@jupyter-widgets/base",
            "_model_module_version": "1.5.0",
            "_view_count": null,
            "_view_module_version": "1.2.0",
            "bar_color": null,
            "_model_module": "@jupyter-widgets/controls"
          }
        },
        "4e670279bdc142ebb7d4e1df010898e5": {
          "model_module": "@jupyter-widgets/base",
          "model_name": "LayoutModel",
          "state": {
            "_view_name": "LayoutView",
            "grid_template_rows": null,
            "right": null,
            "justify_content": null,
            "_view_module": "@jupyter-widgets/base",
            "overflow": null,
            "_model_module_version": "1.2.0",
            "_view_count": null,
            "flex_flow": null,
            "width": null,
            "min_width": null,
            "border": null,
            "align_items": null,
            "bottom": null,
            "_model_module": "@jupyter-widgets/base",
            "top": null,
            "grid_column": null,
            "overflow_y": null,
            "overflow_x": null,
            "grid_auto_flow": null,
            "grid_area": null,
            "grid_template_columns": null,
            "flex": null,
            "_model_name": "LayoutModel",
            "justify_items": null,
            "grid_row": null,
            "max_height": null,
            "align_content": null,
            "visibility": null,
            "align_self": null,
            "height": null,
            "min_height": null,
            "padding": null,
            "grid_auto_rows": null,
            "grid_gap": null,
            "max_width": null,
            "order": null,
            "_view_module_version": "1.2.0",
            "grid_template_areas": null,
            "object_position": null,
            "object_fit": null,
            "grid_auto_columns": null,
            "margin": null,
            "display": null,
            "left": null
          }
        },
        "3a9acb64f2bc4cc9a8be510f9b013ac6": {
          "model_module": "@jupyter-widgets/controls",
          "model_name": "DescriptionStyleModel",
          "state": {
            "_view_name": "StyleView",
            "_model_name": "DescriptionStyleModel",
            "description_width": "",
            "_view_module": "@jupyter-widgets/base",
            "_model_module_version": "1.5.0",
            "_view_count": null,
            "_view_module_version": "1.2.0",
            "_model_module": "@jupyter-widgets/controls"
          }
        },
        "e836248162bf481abc4872f742c51d35": {
          "model_module": "@jupyter-widgets/base",
          "model_name": "LayoutModel",
          "state": {
            "_view_name": "LayoutView",
            "grid_template_rows": null,
            "right": null,
            "justify_content": null,
            "_view_module": "@jupyter-widgets/base",
            "overflow": null,
            "_model_module_version": "1.2.0",
            "_view_count": null,
            "flex_flow": null,
            "width": null,
            "min_width": null,
            "border": null,
            "align_items": null,
            "bottom": null,
            "_model_module": "@jupyter-widgets/base",
            "top": null,
            "grid_column": null,
            "overflow_y": null,
            "overflow_x": null,
            "grid_auto_flow": null,
            "grid_area": null,
            "grid_template_columns": null,
            "flex": null,
            "_model_name": "LayoutModel",
            "justify_items": null,
            "grid_row": null,
            "max_height": null,
            "align_content": null,
            "visibility": null,
            "align_self": null,
            "height": null,
            "min_height": null,
            "padding": null,
            "grid_auto_rows": null,
            "grid_gap": null,
            "max_width": null,
            "order": null,
            "_view_module_version": "1.2.0",
            "grid_template_areas": null,
            "object_position": null,
            "object_fit": null,
            "grid_auto_columns": null,
            "margin": null,
            "display": null,
            "left": null
          }
        },
        "fc7af524018c4a87ba68a5b90eff4bd7": {
          "model_module": "@jupyter-widgets/controls",
          "model_name": "HBoxModel",
          "state": {
            "_view_name": "HBoxView",
            "_dom_classes": [],
            "_model_name": "HBoxModel",
            "_view_module": "@jupyter-widgets/controls",
            "_model_module_version": "1.5.0",
            "_view_count": null,
            "_view_module_version": "1.5.0",
            "box_style": "",
            "layout": "IPY_MODEL_9e6492b6c0ce459e876125a8cf0dbb0f",
            "_model_module": "@jupyter-widgets/controls",
            "children": [
              "IPY_MODEL_27fb1259fb774628bce535e9bb130aef",
              "IPY_MODEL_5d8c93b5bae34417a3519df00d766ef0"
            ]
          }
        },
        "9e6492b6c0ce459e876125a8cf0dbb0f": {
          "model_module": "@jupyter-widgets/base",
          "model_name": "LayoutModel",
          "state": {
            "_view_name": "LayoutView",
            "grid_template_rows": null,
            "right": null,
            "justify_content": null,
            "_view_module": "@jupyter-widgets/base",
            "overflow": null,
            "_model_module_version": "1.2.0",
            "_view_count": null,
            "flex_flow": null,
            "width": null,
            "min_width": null,
            "border": null,
            "align_items": null,
            "bottom": null,
            "_model_module": "@jupyter-widgets/base",
            "top": null,
            "grid_column": null,
            "overflow_y": null,
            "overflow_x": null,
            "grid_auto_flow": null,
            "grid_area": null,
            "grid_template_columns": null,
            "flex": null,
            "_model_name": "LayoutModel",
            "justify_items": null,
            "grid_row": null,
            "max_height": null,
            "align_content": null,
            "visibility": null,
            "align_self": null,
            "height": null,
            "min_height": null,
            "padding": null,
            "grid_auto_rows": null,
            "grid_gap": null,
            "max_width": null,
            "order": null,
            "_view_module_version": "1.2.0",
            "grid_template_areas": null,
            "object_position": null,
            "object_fit": null,
            "grid_auto_columns": null,
            "margin": null,
            "display": null,
            "left": null
          }
        },
        "27fb1259fb774628bce535e9bb130aef": {
          "model_module": "@jupyter-widgets/controls",
          "model_name": "FloatProgressModel",
          "state": {
            "_view_name": "ProgressView",
            "style": "IPY_MODEL_a24c85609c444c98be2bf894b00cfda7",
            "_dom_classes": [],
            "description": "",
            "_model_name": "FloatProgressModel",
            "bar_style": "success",
            "max": 1,
            "_view_module": "@jupyter-widgets/controls",
            "_model_module_version": "1.5.0",
            "value": 1,
            "_view_count": null,
            "_view_module_version": "1.5.0",
            "orientation": "horizontal",
            "min": 0,
            "description_tooltip": null,
            "_model_module": "@jupyter-widgets/controls",
            "layout": "IPY_MODEL_83eda3ec65f4458b82ab6d6949fdcca1"
          }
        },
        "5d8c93b5bae34417a3519df00d766ef0": {
          "model_module": "@jupyter-widgets/controls",
          "model_name": "HTMLModel",
          "state": {
            "_view_name": "HTMLView",
            "style": "IPY_MODEL_c4c77c2980734535a9394b651a31daf5",
            "_dom_classes": [],
            "description": "",
            "_model_name": "HTMLModel",
            "placeholder": "​",
            "_view_module": "@jupyter-widgets/controls",
            "_model_module_version": "1.5.0",
            "value": " 8192/? [00:07&lt;00:00, 1044.48it/s]",
            "_view_count": null,
            "_view_module_version": "1.5.0",
            "description_tooltip": null,
            "_model_module": "@jupyter-widgets/controls",
            "layout": "IPY_MODEL_db975c0aa3f2452c9d8643edbe16d703"
          }
        },
        "a24c85609c444c98be2bf894b00cfda7": {
          "model_module": "@jupyter-widgets/controls",
          "model_name": "ProgressStyleModel",
          "state": {
            "_view_name": "StyleView",
            "_model_name": "ProgressStyleModel",
            "description_width": "initial",
            "_view_module": "@jupyter-widgets/base",
            "_model_module_version": "1.5.0",
            "_view_count": null,
            "_view_module_version": "1.2.0",
            "bar_color": null,
            "_model_module": "@jupyter-widgets/controls"
          }
        },
        "83eda3ec65f4458b82ab6d6949fdcca1": {
          "model_module": "@jupyter-widgets/base",
          "model_name": "LayoutModel",
          "state": {
            "_view_name": "LayoutView",
            "grid_template_rows": null,
            "right": null,
            "justify_content": null,
            "_view_module": "@jupyter-widgets/base",
            "overflow": null,
            "_model_module_version": "1.2.0",
            "_view_count": null,
            "flex_flow": null,
            "width": null,
            "min_width": null,
            "border": null,
            "align_items": null,
            "bottom": null,
            "_model_module": "@jupyter-widgets/base",
            "top": null,
            "grid_column": null,
            "overflow_y": null,
            "overflow_x": null,
            "grid_auto_flow": null,
            "grid_area": null,
            "grid_template_columns": null,
            "flex": null,
            "_model_name": "LayoutModel",
            "justify_items": null,
            "grid_row": null,
            "max_height": null,
            "align_content": null,
            "visibility": null,
            "align_self": null,
            "height": null,
            "min_height": null,
            "padding": null,
            "grid_auto_rows": null,
            "grid_gap": null,
            "max_width": null,
            "order": null,
            "_view_module_version": "1.2.0",
            "grid_template_areas": null,
            "object_position": null,
            "object_fit": null,
            "grid_auto_columns": null,
            "margin": null,
            "display": null,
            "left": null
          }
        },
        "c4c77c2980734535a9394b651a31daf5": {
          "model_module": "@jupyter-widgets/controls",
          "model_name": "DescriptionStyleModel",
          "state": {
            "_view_name": "StyleView",
            "_model_name": "DescriptionStyleModel",
            "description_width": "",
            "_view_module": "@jupyter-widgets/base",
            "_model_module_version": "1.5.0",
            "_view_count": null,
            "_view_module_version": "1.2.0",
            "_model_module": "@jupyter-widgets/controls"
          }
        },
        "db975c0aa3f2452c9d8643edbe16d703": {
          "model_module": "@jupyter-widgets/base",
          "model_name": "LayoutModel",
          "state": {
            "_view_name": "LayoutView",
            "grid_template_rows": null,
            "right": null,
            "justify_content": null,
            "_view_module": "@jupyter-widgets/base",
            "overflow": null,
            "_model_module_version": "1.2.0",
            "_view_count": null,
            "flex_flow": null,
            "width": null,
            "min_width": null,
            "border": null,
            "align_items": null,
            "bottom": null,
            "_model_module": "@jupyter-widgets/base",
            "top": null,
            "grid_column": null,
            "overflow_y": null,
            "overflow_x": null,
            "grid_auto_flow": null,
            "grid_area": null,
            "grid_template_columns": null,
            "flex": null,
            "_model_name": "LayoutModel",
            "justify_items": null,
            "grid_row": null,
            "max_height": null,
            "align_content": null,
            "visibility": null,
            "align_self": null,
            "height": null,
            "min_height": null,
            "padding": null,
            "grid_auto_rows": null,
            "grid_gap": null,
            "max_width": null,
            "order": null,
            "_view_module_version": "1.2.0",
            "grid_template_areas": null,
            "object_position": null,
            "object_fit": null,
            "grid_auto_columns": null,
            "margin": null,
            "display": null,
            "left": null
          }
        }
      }
    }
  },
  "cells": [
    {
      "cell_type": "code",
      "metadata": {
        "id": "hPO58_YRjZ7u"
      },
      "source": [
        "#### Name : Nithish Kannen S\n",
        "#### Roll Number: 18EE30016\n",
        "\n",
        "#Imports\n",
        "import torch\n",
        "import numpy as np\n",
        "import torch.nn as nn\n",
        "import torch.optim as optim\n",
        "import torch.nn.functional as F\n",
        "from torch.utils.data import DataLoader\n",
        "import torchvision.datasets as datasets\n",
        "import torchvision.transforms as transforms\n",
        "import matplotlib.pyplot as plt\n",
        "import seaborn as sns"
      ],
      "execution_count": 1,
      "outputs": []
    },
    {
      "cell_type": "code",
      "metadata": {
        "colab": {
          "base_uri": "https://localhost:8080/",
          "height": 391,
          "referenced_widgets": [
            "185d60f01f6047ee88ee4a2d3d22efd4",
            "e22faa55d7cb435ba935b4d8816269a0",
            "8e5463deb0f24bcda27432f525ce1989",
            "202e7a43a4e34bb4813dd4ce21de9549",
            "a710a2ebe9274dfbb051dedd5f1cd17e",
            "291ddfb51efe4adea0faafb178a47cc1",
            "1519435158ff4f8fbf82305e166442fa",
            "dafb20393e8c4d6cb095d32958844312",
            "c3dda65ab6324094957c1c862ae96ebb",
            "002daf6cc2854699a69b55098537bbde",
            "f6aef99164ce4ea3967afe98381aceef",
            "22d67c9bb0eb4edbaa251864798d21cb",
            "3b17fbe7f28b4bcdada687467748cfcd",
            "5e8d3cf6f9b243a3b27c6b7dff2ee183",
            "5c28583e59624c8ba86310def5760bb0",
            "7e8e84f3ae4f4484b5ae82132e2e93dd",
            "d4f6149834b041439eafc6debede1e03",
            "2caf98e8c2bd487795dd28f17b68e267",
            "a122e973caa04d3baafa073e33fa00ca",
            "ffb3d17dc8f4407cbaefd74d8f7103ff",
            "1f7380e6a2ac4467aaffc7d2fe77201b",
            "4e670279bdc142ebb7d4e1df010898e5",
            "3a9acb64f2bc4cc9a8be510f9b013ac6",
            "e836248162bf481abc4872f742c51d35",
            "fc7af524018c4a87ba68a5b90eff4bd7",
            "9e6492b6c0ce459e876125a8cf0dbb0f",
            "27fb1259fb774628bce535e9bb130aef",
            "5d8c93b5bae34417a3519df00d766ef0",
            "a24c85609c444c98be2bf894b00cfda7",
            "83eda3ec65f4458b82ab6d6949fdcca1",
            "c4c77c2980734535a9394b651a31daf5",
            "db975c0aa3f2452c9d8643edbe16d703"
          ]
        },
        "id": "yr2xph3sjZ7x",
        "outputId": "6ad25146-a083-4a15-9016-c2cdf3637da6"
      },
      "source": [
        "train_dataset = datasets.MNIST(root='./data', \n",
        "                                           train=True, \n",
        "                                           transform=transforms.ToTensor(),  \n",
        "                                           download=True)\n",
        "test_dataset = datasets.MNIST(root='./data', \n",
        "                                           train=False, \n",
        "                                           transform=transforms.ToTensor(),  \n",
        "                                           download=True)"
      ],
      "execution_count": 2,
      "outputs": [
        {
          "output_type": "stream",
          "text": [
            "Downloading http://yann.lecun.com/exdb/mnist/train-images-idx3-ubyte.gz to ./data/MNIST/raw/train-images-idx3-ubyte.gz\n"
          ],
          "name": "stdout"
        },
        {
          "output_type": "display_data",
          "data": {
            "application/vnd.jupyter.widget-view+json": {
              "model_id": "185d60f01f6047ee88ee4a2d3d22efd4",
              "version_minor": 0,
              "version_major": 2
            },
            "text/plain": [
              "HBox(children=(FloatProgress(value=1.0, bar_style='info', max=1.0), HTML(value='')))"
            ]
          },
          "metadata": {
            "tags": []
          }
        },
        {
          "output_type": "stream",
          "text": [
            "Extracting ./data/MNIST/raw/train-images-idx3-ubyte.gz to ./data/MNIST/raw\n",
            "Downloading http://yann.lecun.com/exdb/mnist/train-labels-idx1-ubyte.gz to ./data/MNIST/raw/train-labels-idx1-ubyte.gz\n"
          ],
          "name": "stdout"
        },
        {
          "output_type": "display_data",
          "data": {
            "application/vnd.jupyter.widget-view+json": {
              "model_id": "c3dda65ab6324094957c1c862ae96ebb",
              "version_minor": 0,
              "version_major": 2
            },
            "text/plain": [
              "HBox(children=(FloatProgress(value=1.0, bar_style='info', max=1.0), HTML(value='')))"
            ]
          },
          "metadata": {
            "tags": []
          }
        },
        {
          "output_type": "stream",
          "text": [
            "Extracting ./data/MNIST/raw/train-labels-idx1-ubyte.gz to ./data/MNIST/raw\n",
            "Downloading http://yann.lecun.com/exdb/mnist/t10k-images-idx3-ubyte.gz to ./data/MNIST/raw/t10k-images-idx3-ubyte.gz\n",
            "\n"
          ],
          "name": "stdout"
        },
        {
          "output_type": "display_data",
          "data": {
            "application/vnd.jupyter.widget-view+json": {
              "model_id": "d4f6149834b041439eafc6debede1e03",
              "version_minor": 0,
              "version_major": 2
            },
            "text/plain": [
              "HBox(children=(FloatProgress(value=1.0, bar_style='info', max=1.0), HTML(value='')))"
            ]
          },
          "metadata": {
            "tags": []
          }
        },
        {
          "output_type": "stream",
          "text": [
            "Extracting ./data/MNIST/raw/t10k-images-idx3-ubyte.gz to ./data/MNIST/raw\n",
            "Downloading http://yann.lecun.com/exdb/mnist/t10k-labels-idx1-ubyte.gz to ./data/MNIST/raw/t10k-labels-idx1-ubyte.gz\n"
          ],
          "name": "stdout"
        },
        {
          "output_type": "display_data",
          "data": {
            "application/vnd.jupyter.widget-view+json": {
              "model_id": "fc7af524018c4a87ba68a5b90eff4bd7",
              "version_minor": 0,
              "version_major": 2
            },
            "text/plain": [
              "HBox(children=(FloatProgress(value=1.0, bar_style='info', max=1.0), HTML(value='')))"
            ]
          },
          "metadata": {
            "tags": []
          }
        },
        {
          "output_type": "stream",
          "text": [
            "Extracting ./data/MNIST/raw/t10k-labels-idx1-ubyte.gz to ./data/MNIST/raw\n",
            "Processing...\n",
            "Done!\n"
          ],
          "name": "stdout"
        },
        {
          "output_type": "stream",
          "text": [
            "/usr/local/lib/python3.7/dist-packages/torchvision/datasets/mnist.py:480: UserWarning: The given NumPy array is not writeable, and PyTorch does not support non-writeable tensors. This means you can write to the underlying (supposedly non-writeable) NumPy array using the tensor. You may want to copy the array to protect its data or make it writeable before converting it to a tensor. This type of warning will be suppressed for the rest of this program. (Triggered internally at  /pytorch/torch/csrc/utils/tensor_numpy.cpp:141.)\n",
            "  return torch.from_numpy(parsed.astype(m[2], copy=False)).view(*s)\n"
          ],
          "name": "stderr"
        }
      ]
    },
    {
      "cell_type": "code",
      "metadata": {
        "id": "M1vvT8LLjZ7y"
      },
      "source": [
        "### This is the DataLoader which is a class that loads the Dataset in Batches of Fixed size\n",
        "### This helps us to Forward Propogate and Backporogate a fixed number of training samples at a time\n",
        "train_loader_256 = DataLoader(dataset = train_dataset, batch_size = 256, shuffle = True)\n",
        "train_loader_128 = DataLoader(dataset = train_dataset, batch_size = 128, shuffle = True)\n",
        "train_loader_64 = DataLoader(dataset = train_dataset, batch_size = 64, shuffle = True)\n"
      ],
      "execution_count": 3,
      "outputs": []
    },
    {
      "cell_type": "code",
      "metadata": {
        "id": "X2cRhU9HjZ7z"
      },
      "source": [
        "##Thought the batch size of test dataset wont make a difference, it is there for memory issues\n",
        "test_loader = DataLoader(dataset = test_dataset, batch_size = 256, shuffle = True)"
      ],
      "execution_count": 4,
      "outputs": []
    },
    {
      "cell_type": "code",
      "metadata": {
        "colab": {
          "base_uri": "https://localhost:8080/"
        },
        "id": "Zi_pIvbUjZ7z",
        "outputId": "49b8d26d-c853-429e-85c6-a39dc17989d1"
      },
      "source": [
        "device = torch.device('cuda' if torch.cuda.is_available() else 'cpu')"
      ],
      "execution_count": 5,
      "outputs": [
        {
          "output_type": "stream",
          "text": [
            "\n"
          ],
          "name": "stdout"
        }
      ]
    },
    {
      "cell_type": "code",
      "metadata": {
        "colab": {
          "base_uri": "https://localhost:8080/"
        },
        "id": "1FvRAQj8jZ70",
        "outputId": "f826c2b9-59be-4458-83ea-cd2f4be6f740"
      },
      "source": [
        "print(\"Number of Train datapoints: {}\".format(str(len(train_loader_64.dataset))))\n",
        "print(\"Number of Test datapoints: {}\".format(str(len(test_loader.dataset))))"
      ],
      "execution_count": 6,
      "outputs": [
        {
          "output_type": "stream",
          "text": [
            "Number of Train datapoints: 60000\n",
            "Number of Test datapoints: 10000\n"
          ],
          "name": "stdout"
        }
      ]
    },
    {
      "cell_type": "code",
      "metadata": {
        "id": "yLyx8TR9jZ71"
      },
      "source": [
        "class FullyConnected(nn.Module):\n",
        "    \n",
        "    \"\"\"\n",
        "    This is the Neural Network Class:\n",
        "    No. of hidden layers = 1\n",
        "    •No. of neurons in the hidden layer1= 100\n",
        "    •Activation function of hidden layer: Sigmoid function\n",
        "    •No. of neurons in the output layer = 10\n",
        "    •Activation function in output layer: SoftMaxfunction•Input: MNIST data (28*28)\n",
        "    Instantiating and object of this class will help us to train a Neural Network\n",
        "    \"\"\"\n",
        "    \n",
        "    def __init__(self, input_size, hidden_size, output_size):\n",
        "        \"\"\"\n",
        "        This is the constructor, that initalises the Different Layers of the Neural Network\n",
        "        Instance with the specified values passes as params\n",
        "        args: input_size: # of neurons of input layer\n",
        "              hidden_size:  # of neurons of hidden layer \n",
        "              output_size: # of neurons of outptu layer\n",
        "        \"\"\"\n",
        "        super(FullyConnected, self).__init__()\n",
        "        self.fc1 = nn.Linear(input_size, hidden_size)\n",
        "        self.fc2 = nn.Linear(hidden_size, output_size)\n",
        "        self.sigmoid = nn.Sigmoid()\n",
        "        \n",
        "    def forward(self, x):\n",
        "        \"\"\"\n",
        "        Function to feedward the input\n",
        "        args: x : input\n",
        "        returns output\n",
        "        \"\"\"\n",
        "        \n",
        "        x = self.fc1(x)\n",
        "        x = self.sigmoid(x)\n",
        "        x = (self.fc2(x))\n",
        "        \n",
        "        return x\n",
        "        "
      ],
      "execution_count": 7,
      "outputs": []
    },
    {
      "cell_type": "code",
      "metadata": {
        "id": "BzQPf-MQjZ78"
      },
      "source": [
        "learning_rate1 = 0.025\n",
        "learning_rate2 = 0.05\n",
        "learning_rate3 = 0.1\n",
        "learning_rate4 = 0.2\n",
        "learning_rate5 =  0.5"
      ],
      "execution_count": 20,
      "outputs": []
    },
    {
      "cell_type": "code",
      "metadata": {
        "id": "bD0DvvQkj5Ok"
      },
      "source": [
        "def test_accuracy(model, loader, flag, test):\r\n",
        "    \"\"\"\r\n",
        "    This function tests accuarcy for a given model, the parameters decide if it is for the training or the\r\n",
        "    testing data\r\n",
        "    It returns the Percentage accuracy of the Given Model for the given data\r\n",
        "\r\n",
        "    \"\"\"\r\n",
        "    data = 60000\r\n",
        "    if(test):\r\n",
        "      data = 10000\r\n",
        "    correct_pred = 0\r\n",
        "\r\n",
        "    for X, y in loader:\r\n",
        "\r\n",
        "        X = X.to(device)\r\n",
        "        y = y.to(device)\r\n",
        "        X = X.view(X.shape[0], -1)\r\n",
        "        logits = model.forward(X)\r\n",
        "        predictions = torch.argmax(logits, dim = 1)\r\n",
        "        correct_pred += torch.sum(predictions == y)\r\n",
        "\r\n",
        "    return correct_pred/data*100\r\n",
        " \r\n",
        "\r\n",
        "\r\n",
        "   \r\n"
      ],
      "execution_count": 8,
      "outputs": []
    },
    {
      "cell_type": "code",
      "metadata": {
        "id": "NQc84mzb8d5t"
      },
      "source": [
        "def test_loss(model, loader, flag, test):\r\n",
        "    \"\"\"\r\n",
        "    This function tests loss for a given model, the parameters decide if it is for the training or the\r\n",
        "    testing data\r\n",
        "    It returns the Loss per Batch of the Given Model for the given data\r\n",
        "\r\n",
        "    \"\"\"\r\n",
        "    data = 60000\r\n",
        "    if(test):\r\n",
        "      data = 10000\r\n",
        "    running_loss = 0\r\n",
        "    \r\n",
        "    for batch_index, (X, y) in enumerate(loader):\r\n",
        "\r\n",
        "        X = X.to(device)\r\n",
        "        y = y.to(device)\r\n",
        "        X = X.view(X.shape[0], -1)\r\n",
        "        logits = model.forward(X)\r\n",
        "        predictions = torch.argmax(logits, dim = 1)\r\n",
        "        running_loss += loss(logits, y)\r\n",
        "\r\n",
        "    \r\n",
        "\r\n",
        "\r\n",
        "    return running_loss/(batch_index + 1)"
      ],
      "execution_count": 28,
      "outputs": []
    },
    {
      "cell_type": "markdown",
      "metadata": {
        "id": "vei4IA7X8eaI"
      },
      "source": [
        "## Question **3**"
      ]
    },
    {
      "cell_type": "code",
      "metadata": {
        "colab": {
          "base_uri": "https://localhost:8080/"
        },
        "id": "fwo-s5Sk8Rzq",
        "outputId": "30fa0e0a-d623-4387-f8d0-45b140dd17d9"
      },
      "source": [
        "### This Cell is the Training Cell, we use the SGD Optimizer and train the Network for 50 Epochs\r\n",
        "### Learning Rate = 0.5, Batch Size = 64\r\n",
        "\r\n",
        "input_size = 784\r\n",
        "hidden_size = 100\r\n",
        "output_size = 10\r\n",
        "model = FullyConnected(input_size, hidden_size, output_size).to(device)\r\n",
        "loss = nn.CrossEntropyLoss()\r\n",
        "optimizer = optim.SGD( model.parameters(), lr = learning_rate5,  momentum=0.9 )\r\n",
        "EPOCHS = 50\r\n",
        "train_loss =  []\r\n",
        "train_acc = []\r\n",
        "test_acc = []\r\n",
        "test_losses = []\r\n",
        "\r\n",
        "print(\" Batch Size = 64 \\n\")\r\n",
        "\r\n",
        "for epoch in range(EPOCHS):\r\n",
        "    \r\n",
        "\r\n",
        "    running_loss = 0\r\n",
        "    correct_predictions = 0\r\n",
        "    \r\n",
        "    for batch_index, (image_data, classes) in enumerate(train_loader_64):\r\n",
        "        \r\n",
        "        X = image_data.to(device)\r\n",
        "        y = classes.to(device)\r\n",
        "        \r\n",
        "        X = X.view(X.shape[0], -1)  ## do this for the FCC part\r\n",
        "        \r\n",
        "        logits = model.forward(X)\r\n",
        "        \r\n",
        "        predictions = torch.argmax(logits, dim = 1)\r\n",
        "        \r\n",
        "        running_loss += loss(logits, y)\r\n",
        "        \r\n",
        "        #print(classes)\r\n",
        "        correct_predictions += torch.sum(predictions == y)\r\n",
        "        \r\n",
        "        optimizer.zero_grad()\r\n",
        "        \r\n",
        "    totalLoss = running_loss/(batch_index + 1)\r\n",
        "    \r\n",
        "    totalLoss.backward()\r\n",
        "    \r\n",
        "    optimizer.step()\r\n",
        "    \r\n",
        "    epoch_loss = running_loss.item()/(batch_index + 1)\r\n",
        "    epoch_acc = correct_predictions/(60000)\r\n",
        "    \r\n",
        "    train_loss.append(epoch_loss)\r\n",
        "    train_acc.append(epoch_acc)\r\n",
        "    test_acc.append(test_accuracy(model, test_loader, 0, True).item())\r\n",
        "    test_losses.append(test_loss(model, test_loader, 0, True).item())\r\n",
        "    \r\n",
        "    print(\"Epoch: {} ........... Training Accuracy: {:.4f}%.....Training Loss: {:.4f}.....Test Accuracy : {:.4f}%... TestLoss : {:.4f} \".format(epoch + 1, epoch_acc*100, epoch_loss, test_accuracy(model, test_loader, 0, True).item(), (test_loss(model, test_loader, 0, True).item())))"
      ],
      "execution_count": 29,
      "outputs": [
        {
          "output_type": "stream",
          "text": [
            " Batch Size = 64 \n",
            "\n",
            "Epoch: 1 ........... Training Accuracy: 10.1933%.....Training Loss: 2.3293.....Test Accuracy : 11.3500%... TestLoss : 2.2910 \n",
            "Epoch: 2 ........... Training Accuracy: 11.2383%.....Training Loss: 2.2929.....Test Accuracy : 13.9200%... TestLoss : 2.2937 \n",
            "Epoch: 3 ........... Training Accuracy: 14.0100%.....Training Loss: 2.2943.....Test Accuracy : 35.8500%... TestLoss : 2.2317 \n",
            "Epoch: 4 ........... Training Accuracy: 35.2183%.....Training Loss: 2.2345.....Test Accuracy : 24.7900%... TestLoss : 2.1919 \n",
            "Epoch: 5 ........... Training Accuracy: 24.1017%.....Training Loss: 2.1937.....Test Accuracy : 38.2900%... TestLoss : 2.1361 \n",
            "Epoch: 6 ........... Training Accuracy: 37.2717%.....Training Loss: 2.1401.....Test Accuracy : 53.5800%... TestLoss : 2.0438 \n",
            "Epoch: 7 ........... Training Accuracy: 52.0483%.....Training Loss: 2.0503.....Test Accuracy : 53.3200%... TestLoss : 1.9578 \n",
            "Epoch: 8 ........... Training Accuracy: 52.3583%.....Training Loss: 1.9672.....Test Accuracy : 68.4400%... TestLoss : 1.8346 \n",
            "Epoch: 9 ........... Training Accuracy: 66.9633%.....Training Loss: 1.8436.....Test Accuracy : 69.8300%... TestLoss : 1.6923 \n",
            "Epoch: 10 ........... Training Accuracy: 69.3483%.....Training Loss: 1.7019.....Test Accuracy : 68.9000%... TestLoss : 1.5329 \n",
            "Epoch: 11 ........... Training Accuracy: 68.0283%.....Training Loss: 1.5504.....Test Accuracy : 71.0800%... TestLoss : 1.3616 \n",
            "Epoch: 12 ........... Training Accuracy: 70.1400%.....Training Loss: 1.3772.....Test Accuracy : 73.5600%... TestLoss : 1.1990 \n",
            "Epoch: 13 ........... Training Accuracy: 72.3433%.....Training Loss: 1.2182.....Test Accuracy : 77.3200%... TestLoss : 1.0520 \n",
            "Epoch: 14 ........... Training Accuracy: 76.8100%.....Training Loss: 1.0726.....Test Accuracy : 79.6700%... TestLoss : 0.9285 \n",
            "Epoch: 15 ........... Training Accuracy: 79.1250%.....Training Loss: 0.9456.....Test Accuracy : 79.6000%... TestLoss : 0.8306 \n",
            "Epoch: 16 ........... Training Accuracy: 78.8250%.....Training Loss: 0.8490.....Test Accuracy : 79.6600%... TestLoss : 0.7506 \n",
            "Epoch: 17 ........... Training Accuracy: 79.2667%.....Training Loss: 0.7694.....Test Accuracy : 80.5900%... TestLoss : 0.6831 \n",
            "Epoch: 18 ........... Training Accuracy: 80.1817%.....Training Loss: 0.7058.....Test Accuracy : 81.6100%... TestLoss : 0.6405 \n",
            "Epoch: 19 ........... Training Accuracy: 81.2500%.....Training Loss: 0.6587.....Test Accuracy : 82.7000%... TestLoss : 0.6040 \n",
            "Epoch: 20 ........... Training Accuracy: 81.9933%.....Training Loss: 0.6206.....Test Accuracy : 83.1400%... TestLoss : 0.5723 \n",
            "Epoch: 21 ........... Training Accuracy: 82.4683%.....Training Loss: 0.5893.....Test Accuracy : 83.3100%... TestLoss : 0.5449 \n",
            "Epoch: 22 ........... Training Accuracy: 82.7650%.....Training Loss: 0.5647.....Test Accuracy : 83.8000%... TestLoss : 0.5258 \n",
            "Epoch: 23 ........... Training Accuracy: 83.2550%.....Training Loss: 0.5437.....Test Accuracy : 84.4600%... TestLoss : 0.5037 \n",
            "Epoch: 24 ........... Training Accuracy: 83.9250%.....Training Loss: 0.5254.....Test Accuracy : 85.1900%... TestLoss : 0.4960 \n",
            "Epoch: 25 ........... Training Accuracy: 84.5350%.....Training Loss: 0.5099.....Test Accuracy : 85.6500%... TestLoss : 0.4866 \n",
            "Epoch: 26 ........... Training Accuracy: 85.1117%.....Training Loss: 0.4955.....Test Accuracy : 86.1800%... TestLoss : 0.4651 \n",
            "Epoch: 27 ........... Training Accuracy: 85.5683%.....Training Loss: 0.4820.....Test Accuracy : 86.5100%... TestLoss : 0.4493 \n",
            "Epoch: 28 ........... Training Accuracy: 85.9950%.....Training Loss: 0.4702.....Test Accuracy : 86.9400%... TestLoss : 0.4615 \n",
            "Epoch: 29 ........... Training Accuracy: 86.3950%.....Training Loss: 0.4588.....Test Accuracy : 87.3200%... TestLoss : 0.4261 \n",
            "Epoch: 30 ........... Training Accuracy: 86.8183%.....Training Loss: 0.4478.....Test Accuracy : 87.9500%... TestLoss : 0.4124 \n",
            "Epoch: 31 ........... Training Accuracy: 87.1733%.....Training Loss: 0.4381.....Test Accuracy : 88.2400%... TestLoss : 0.4125 \n",
            "Epoch: 32 ........... Training Accuracy: 87.5133%.....Training Loss: 0.4282.....Test Accuracy : 88.4200%... TestLoss : 0.4047 \n",
            "Epoch: 33 ........... Training Accuracy: 87.8783%.....Training Loss: 0.4195.....Test Accuracy : 88.7400%... TestLoss : 0.3877 \n",
            "Epoch: 34 ........... Training Accuracy: 88.0867%.....Training Loss: 0.4108.....Test Accuracy : 88.9000%... TestLoss : 0.4059 \n",
            "Epoch: 35 ........... Training Accuracy: 88.3283%.....Training Loss: 0.4029.....Test Accuracy : 89.1200%... TestLoss : 0.3815 \n",
            "Epoch: 36 ........... Training Accuracy: 88.5133%.....Training Loss: 0.3953.....Test Accuracy : 89.2200%... TestLoss : 0.3911 \n",
            "Epoch: 37 ........... Training Accuracy: 88.7250%.....Training Loss: 0.3884.....Test Accuracy : 89.4200%... TestLoss : 0.3730 \n",
            "Epoch: 38 ........... Training Accuracy: 88.9300%.....Training Loss: 0.3816.....Test Accuracy : 89.6600%... TestLoss : 0.3580 \n",
            "Epoch: 39 ........... Training Accuracy: 89.1200%.....Training Loss: 0.3754.....Test Accuracy : 89.8000%... TestLoss : 0.3497 \n",
            "Epoch: 40 ........... Training Accuracy: 89.2950%.....Training Loss: 0.3694.....Test Accuracy : 89.7900%... TestLoss : 0.3451 \n",
            "Epoch: 41 ........... Training Accuracy: 89.3967%.....Training Loss: 0.3638.....Test Accuracy : 89.9000%... TestLoss : 0.3432 \n",
            "Epoch: 42 ........... Training Accuracy: 89.5100%.....Training Loss: 0.3587.....Test Accuracy : 90.0500%... TestLoss : 0.3470 \n",
            "Epoch: 43 ........... Training Accuracy: 89.6100%.....Training Loss: 0.3539.....Test Accuracy : 90.2000%... TestLoss : 0.3387 \n",
            "Epoch: 44 ........... Training Accuracy: 89.7350%.....Training Loss: 0.3494.....Test Accuracy : 90.2300%... TestLoss : 0.3388 \n",
            "Epoch: 45 ........... Training Accuracy: 89.8433%.....Training Loss: 0.3448.....Test Accuracy : 90.3300%... TestLoss : 0.3321 \n",
            "Epoch: 46 ........... Training Accuracy: 89.9550%.....Training Loss: 0.3408.....Test Accuracy : 90.4500%... TestLoss : 0.3273 \n",
            "Epoch: 47 ........... Training Accuracy: 90.0850%.....Training Loss: 0.3370.....Test Accuracy : 90.4500%... TestLoss : 0.3181 \n",
            "Epoch: 48 ........... Training Accuracy: 90.1867%.....Training Loss: 0.3336.....Test Accuracy : 90.5400%... TestLoss : 0.3149 \n",
            "Epoch: 49 ........... Training Accuracy: 90.2733%.....Training Loss: 0.3302.....Test Accuracy : 90.6900%... TestLoss : 0.3126 \n",
            "Epoch: 50 ........... Training Accuracy: 90.3600%.....Training Loss: 0.3270.....Test Accuracy : 90.7700%... TestLoss : 0.3220 \n"
          ],
          "name": "stdout"
        }
      ]
    },
    {
      "cell_type": "code",
      "metadata": {
        "colab": {
          "base_uri": "https://localhost:8080/",
          "height": 283
        },
        "id": "TYO35W5uFW2A",
        "outputId": "fe30b074-7a77-4df5-9576-ee16ad83f887"
      },
      "source": [
        "a = iter(test_loader).next()\r\n",
        "plt.imshow(a[0][56].reshape(28, 28))\r\n",
        "logits = a[1][56]\r\n",
        "a = a[0][56].to(device)\r\n",
        "a = a.reshape(1, 1, 28, 28)\r\n",
        "\r\n",
        "predictions = logits\r\n",
        "\r\n",
        "print(\"Model Prediction is\", predictions)\r\n"
      ],
      "execution_count": 51,
      "outputs": [
        {
          "output_type": "stream",
          "text": [
            "Model Prediction is tensor(6)\n"
          ],
          "name": "stdout"
        },
        {
          "output_type": "display_data",
          "data": {
            "image/png": "[encoded data removed]",
            "text/plain": [
              "<Figure size 432x288 with 1 Axes>"
            ]
          },
          "metadata": {
            "tags": [],
            "needs_background": "light"
          }
        }
      ]
    },
    {
      "cell_type": "markdown",
      "metadata": {
        "id": "0yW_GlapAtgu"
      },
      "source": [
        "## Question 4"
      ]
    },
    {
      "cell_type": "code",
      "metadata": {
        "colab": {
          "base_uri": "https://localhost:8080/"
        },
        "id": "ivj3z38T8R9Y",
        "outputId": "619421f1-c035-4a1c-d96f-55559d0a4b7e"
      },
      "source": [
        "print(\"Training Accuracy : {}\".format(train_acc[49].item()))\r\n",
        "print(\"Test Accuracy : {}\".format(test_acc[49]))\r\n",
        "print(\"Training Loss : {}\".format(train_loss[49]))\r\n",
        "print(\"Testing Loss : {}\".format(test_losses[49]))"
      ],
      "execution_count": 34,
      "outputs": [
        {
          "output_type": "stream",
          "text": [
            "Training Accuracy : 0.9036000370979309\n",
            "Test Accuracy : 90.7699966430664\n",
            "Training Loss : 0.3269557342854644\n",
            "Testing Loss : 0.3126557767391205\n"
          ],
          "name": "stdout"
        }
      ]
    },
    {
      "cell_type": "markdown",
      "metadata": {
        "id": "Uo53g_7_BlBo"
      },
      "source": [
        "## Question **5**"
      ]
    },
    {
      "cell_type": "code",
      "metadata": {
        "colab": {
          "base_uri": "https://localhost:8080/",
          "height": 377
        },
        "id": "DhgDkclUBkbf",
        "outputId": "95d3a856-7b2b-4d16-9366-0f83bc80b312"
      },
      "source": [
        "fig = plt.figure(figsize = (16, 5)) \r\n",
        "    #plt.title(\"Learning Rate = 0.1\",  fontsize = 20,fontname=\"Times New Roman Bold\")\r\n",
        "plt.subplot(121)\r\n",
        "plt.plot( range(EPOCHS), train_loss,'b-',label='Training') \r\n",
        "plt.legend()\r\n",
        "plt.title(\"Training Loss vs EPOCHS\", fontsize = 20,fontname=\"Times New Roman Bold\")\r\n",
        "plt.xlabel('Epochs', fontsize = 16)\r\n",
        "plt.ylabel('Loss', fontsize = 16)\r\n",
        "\r\n",
        "plt.subplot(122)\r\n",
        "plt.plot(range(EPOCHS), test_losses,'r-',label='Testing') \r\n",
        "plt.legend()\r\n",
        "plt.title(\"Testing Loss vs EPOCHS\", fontsize = 20,fontname=\"Times New Roman Bold\")\r\n",
        "plt.xlabel('Epochs ',fontsize = 16)\r\n",
        "plt.ylabel('Loss', fontsize = 16)"
      ],
      "execution_count": 38,
      "outputs": [
        {
          "output_type": "execute_result",
          "data": {
            "text/plain": [
              "Text(0, 0.5, 'Loss')"
            ]
          },
          "metadata": {
            "tags": []
          },
          "execution_count": 38
        },
        {
          "output_type": "display_data",
          "data": {
            "image/png": "[encoded data removed]",
            "text/plain": [
              "<Figure size 1152x360 with 2 Axes>"
            ]
          },
          "metadata": {
            "tags": [],
            "needs_background": "light"
          }
        }
      ]
    },
    {
      "cell_type": "code",
      "metadata": {
        "id": "WAN3KrT48SAS"
      },
      "source": [
        ""
      ],
      "execution_count": null,
      "outputs": []
    },
    {
      "cell_type": "markdown",
      "metadata": {
        "id": "1p2_Fgw9j6ax"
      },
      "source": [
        "# **Question 6 A - Deciding Batch Size**"
      ]
    },
    {
      "cell_type": "markdown",
      "metadata": {
        "id": "dhF02GEPksrN"
      },
      "source": [
        "a)"
      ]
    },
    {
      "cell_type": "markdown",
      "metadata": {
        "id": "3acrmvy5lCt2"
      },
      "source": [
        "Batch size = 256"
      ]
    },
    {
      "cell_type": "markdown",
      "metadata": {
        "id": "7FmFDLyj7Zhd"
      },
      "source": [
        "I have separately trained and tested the Data for Different Batch sizes,\r\n",
        "We consder 3 batch Sizes, 256, 128 and 64"
      ]
    },
    {
      "cell_type": "code",
      "metadata": {
        "id": "H2IYrpHVt9o-"
      },
      "source": [
        "TestAcc = []\r\n",
        "TrainAcc = []"
      ],
      "execution_count": 50,
      "outputs": []
    },
    {
      "cell_type": "code",
      "metadata": {
        "colab": {
          "base_uri": "https://localhost:8080/"
        },
        "id": "C0Smfr3ejZ79",
        "outputId": "c8cdc18c-c429-4e17-8788-3adb7ed003d0"
      },
      "source": [
        "\n",
        "input_size = 784\n",
        "hidden_size = 100\n",
        "output_size = 10\n",
        "model = FullyConnected(input_size, hidden_size, output_size).to(device)\n",
        "loss = nn.CrossEntropyLoss()\n",
        "optimizer = optim.SGD( model.parameters(), lr = learning_rate3,  momentum=0.9 )\n",
        "EPOCHS = 50\n",
        "train_loss =  []\n",
        "train_acc = []\n",
        "test_acc = []\n",
        "\n",
        "print(\" Batch Size = 256 \\n\")\n",
        "\n",
        "for epoch in range(EPOCHS):\n",
        "    \n",
        "\n",
        "    running_loss = 0\n",
        "    correct_predictions = 0\n",
        "    \n",
        "    for batch_index, (image_data, classes) in enumerate(train_loader_256):\n",
        "        \n",
        "        X = image_data.to(device)\n",
        "        y = classes.to(device)\n",
        "        \n",
        "        X = X.view(X.shape[0], -1)  ## do this for the FCC part\n",
        "        \n",
        "        logits = model.forward(X)\n",
        "        \n",
        "        predictions = torch.argmax(logits, dim = 1)\n",
        "        \n",
        "        running_loss += loss(logits, y)\n",
        "        \n",
        "        #print(classes)\n",
        "        correct_predictions += torch.sum(predictions == y)\n",
        "        \n",
        "        optimizer.zero_grad()\n",
        "        \n",
        "    totalLoss = running_loss/(batch_index + 1)\n",
        "    \n",
        "    totalLoss.backward()\n",
        "    \n",
        "    optimizer.step()\n",
        "    \n",
        "    epoch_loss = running_loss.item()/(batch_index + 1)\n",
        "    epoch_acc = correct_predictions/(60000)\n",
        "    \n",
        "    train_loss.append(epoch_loss)\n",
        "    train_acc.append(epoch_acc)\n",
        "    test_acc.append(test_accuracy(model, test_loader, 0, True).item())\n",
        "    \n",
        "    print(\"Epoch: {} ........... Training Accuracy: {:.4f}%.....Training Loss: {:.4f}.....Test Accuracy : {:.4f}%\".format(epoch + 1, epoch_acc*100, epoch_loss, test_accuracy(model, test_loader, 0,True).item()))"
      ],
      "execution_count": 41,
      "outputs": [
        {
          "output_type": "stream",
          "text": [
            " Batch Size = 256 \n",
            "\n",
            "Epoch: 1 ........... Training Accuracy: 9.8633%.....Training Loss: 2.3508.....Test Accuracy : 9.5800%\n",
            "Epoch: 2 ........... Training Accuracy: 9.8633%.....Training Loss: 2.3255.....Test Accuracy : 10.7300%\n",
            "Epoch: 3 ........... Training Accuracy: 11.0917%.....Training Loss: 2.2997.....Test Accuracy : 11.4300%\n",
            "Epoch: 4 ........... Training Accuracy: 11.3567%.....Training Loss: 2.2903.....Test Accuracy : 11.3500%\n",
            "Epoch: 5 ........... Training Accuracy: 11.2367%.....Training Loss: 2.2937.....Test Accuracy : 11.3500%\n",
            "Epoch: 6 ........... Training Accuracy: 11.2367%.....Training Loss: 2.2943.....Test Accuracy : 11.3500%\n",
            "Epoch: 7 ........... Training Accuracy: 11.2367%.....Training Loss: 2.2795.....Test Accuracy : 12.3800%\n",
            "Epoch: 8 ........... Training Accuracy: 12.2317%.....Training Loss: 2.2529.....Test Accuracy : 40.1000%\n",
            "Epoch: 9 ........... Training Accuracy: 38.9733%.....Training Loss: 2.2272.....Test Accuracy : 59.7200%\n",
            "Epoch: 10 ........... Training Accuracy: 59.9883%.....Training Loss: 2.2096.....Test Accuracy : 27.7400%\n",
            "Epoch: 11 ........... Training Accuracy: 28.0967%.....Training Loss: 2.1977.....Test Accuracy : 19.2000%\n",
            "Epoch: 12 ........... Training Accuracy: 19.9267%.....Training Loss: 2.1832.....Test Accuracy : 24.0000%\n",
            "Epoch: 13 ........... Training Accuracy: 24.4367%.....Training Loss: 2.1597.....Test Accuracy : 45.9300%\n",
            "Epoch: 14 ........... Training Accuracy: 45.7667%.....Training Loss: 2.1293.....Test Accuracy : 60.1300%\n",
            "Epoch: 15 ........... Training Accuracy: 58.9883%.....Training Loss: 2.0988.....Test Accuracy : 48.1500%\n",
            "Epoch: 16 ........... Training Accuracy: 46.7067%.....Training Loss: 2.0718.....Test Accuracy : 43.5500%\n",
            "Epoch: 17 ........... Training Accuracy: 42.0167%.....Training Loss: 2.0458.....Test Accuracy : 45.6000%\n",
            "Epoch: 18 ........... Training Accuracy: 44.7367%.....Training Loss: 2.0153.....Test Accuracy : 51.4500%\n",
            "Epoch: 19 ........... Training Accuracy: 50.6217%.....Training Loss: 1.9789.....Test Accuracy : 59.3000%\n",
            "Epoch: 20 ........... Training Accuracy: 58.2633%.....Training Loss: 1.9380.....Test Accuracy : 65.7100%\n",
            "Epoch: 21 ........... Training Accuracy: 65.1667%.....Training Loss: 1.8957.....Test Accuracy : 69.0700%\n",
            "Epoch: 22 ........... Training Accuracy: 68.7633%.....Training Loss: 1.8531.....Test Accuracy : 69.7500%\n",
            "Epoch: 23 ........... Training Accuracy: 69.0600%.....Training Loss: 1.8091.....Test Accuracy : 69.1900%\n",
            "Epoch: 24 ........... Training Accuracy: 68.4867%.....Training Loss: 1.7621.....Test Accuracy : 69.4300%\n",
            "Epoch: 25 ........... Training Accuracy: 68.5200%.....Training Loss: 1.7114.....Test Accuracy : 69.6500%\n",
            "Epoch: 26 ........... Training Accuracy: 68.7383%.....Training Loss: 1.6581.....Test Accuracy : 69.5000%\n",
            "Epoch: 27 ........... Training Accuracy: 68.4683%.....Training Loss: 1.6047.....Test Accuracy : 69.1800%\n",
            "Epoch: 28 ........... Training Accuracy: 68.1250%.....Training Loss: 1.5516.....Test Accuracy : 69.3700%\n",
            "Epoch: 29 ........... Training Accuracy: 68.4650%.....Training Loss: 1.4987.....Test Accuracy : 70.2500%\n",
            "Epoch: 30 ........... Training Accuracy: 69.3733%.....Training Loss: 1.4453.....Test Accuracy : 71.5300%\n",
            "Epoch: 31 ........... Training Accuracy: 70.8733%.....Training Loss: 1.3918.....Test Accuracy : 72.9600%\n",
            "Epoch: 32 ........... Training Accuracy: 72.4867%.....Training Loss: 1.3392.....Test Accuracy : 74.4400%\n",
            "Epoch: 33 ........... Training Accuracy: 73.8467%.....Training Loss: 1.2883.....Test Accuracy : 75.5600%\n",
            "Epoch: 34 ........... Training Accuracy: 74.8850%.....Training Loss: 1.2393.....Test Accuracy : 76.3300%\n",
            "Epoch: 35 ........... Training Accuracy: 75.7083%.....Training Loss: 1.1931.....Test Accuracy : 76.8900%\n",
            "Epoch: 36 ........... Training Accuracy: 76.2467%.....Training Loss: 1.1491.....Test Accuracy : 77.3200%\n",
            "Epoch: 37 ........... Training Accuracy: 76.7733%.....Training Loss: 1.1070.....Test Accuracy : 77.7800%\n",
            "Epoch: 38 ........... Training Accuracy: 77.2400%.....Training Loss: 1.0672.....Test Accuracy : 78.0800%\n",
            "Epoch: 39 ........... Training Accuracy: 77.6500%.....Training Loss: 1.0297.....Test Accuracy : 78.4600%\n",
            "Epoch: 40 ........... Training Accuracy: 78.0467%.....Training Loss: 0.9947.....Test Accuracy : 78.7800%\n",
            "Epoch: 41 ........... Training Accuracy: 78.4083%.....Training Loss: 0.9620.....Test Accuracy : 79.1300%\n",
            "Epoch: 42 ........... Training Accuracy: 78.7667%.....Training Loss: 0.9321.....Test Accuracy : 79.5900%\n",
            "Epoch: 43 ........... Training Accuracy: 79.1317%.....Training Loss: 0.9035.....Test Accuracy : 79.8400%\n",
            "Epoch: 44 ........... Training Accuracy: 79.5250%.....Training Loss: 0.8771.....Test Accuracy : 80.2100%\n",
            "Epoch: 45 ........... Training Accuracy: 79.9067%.....Training Loss: 0.8519.....Test Accuracy : 80.4700%\n",
            "Epoch: 46 ........... Training Accuracy: 80.2433%.....Training Loss: 0.8292.....Test Accuracy : 80.8200%\n",
            "Epoch: 47 ........... Training Accuracy: 80.5267%.....Training Loss: 0.8078.....Test Accuracy : 81.1500%\n",
            "Epoch: 48 ........... Training Accuracy: 80.8217%.....Training Loss: 0.7881.....Test Accuracy : 81.3600%\n",
            "Epoch: 49 ........... Training Accuracy: 81.0683%.....Training Loss: 0.7698.....Test Accuracy : 81.6200%\n",
            "Epoch: 50 ........... Training Accuracy: 81.2950%.....Training Loss: 0.7522.....Test Accuracy : 81.8700%\n"
          ],
          "name": "stdout"
        }
      ]
    },
    {
      "cell_type": "code",
      "metadata": {
        "id": "w910cwMLxN_f"
      },
      "source": [
        "def visualise(EPOCHS, train_loss, train_acc, test_acc, batch_size): \r\n",
        "\r\n",
        "    print(\"Batch Size : \", batch_size)\r\n",
        "    fig = plt.figure(figsize = (19, 4)) \r\n",
        "    plt.title(\"Learning Rate = 0.1\",  fontsize = 20,fontname=\"Times New Roman Bold\")\r\n",
        "    plt.subplot(131)\r\n",
        "    plt.plot(range(EPOCHS),train_loss,'r-',label='Loss/error') \r\n",
        "    plt.legend(loc='upper right')\r\n",
        "    plt.title(\"Training Loss vs Epoch\", fontsize = 20,fontname=\"Times New Roman Bold\")\r\n",
        "    plt.xlabel('Epochs', fontsize = 16)\r\n",
        "    plt.ylabel('Loss', fontsize = 16)\r\n",
        "    \r\n",
        "    plt.subplot(132)\r\n",
        "    plt.plot(range(EPOCHS),train_acc,'g-',label='Accuracy') \r\n",
        "    plt.legend()\r\n",
        "    plt.title(\"Training Accuracy vs Epoch\", fontsize = 20,fontname=\"Times New Roman Bold\")\r\n",
        "    plt.xlabel('Epochs',fontsize = 16)\r\n",
        "    plt.ylabel('Acc', fontsize = 16)\r\n",
        "\r\n",
        "    plt.subplot(133)\r\n",
        "    plt.plot(range(EPOCHS),test_acc,'b-',label='Accuracy') \r\n",
        "    plt.legend()\r\n",
        "    plt.title(\"Testing Accuracy vs Epoch\", fontsize = 20,fontname=\"Times New Roman Bold\")\r\n",
        "    plt.xlabel('Epochs',fontsize = 16)\r\n",
        "    plt.ylabel('Acc', fontsize = 16)"
      ],
      "execution_count": 11,
      "outputs": []
    },
    {
      "cell_type": "code",
      "metadata": {
        "colab": {
          "base_uri": "https://localhost:8080/",
          "height": 340
        },
        "id": "JBic1JvZjZ7-",
        "outputId": "546be959-213d-48c6-961d-768d52a71196"
      },
      "source": [
        "\n",
        "visualise(EPOCHS, train_loss, train_acc, test_acc, 256)"
      ],
      "execution_count": 44,
      "outputs": [
        {
          "output_type": "stream",
          "text": [
            "Bathc Size = 256\n"
          ],
          "name": "stdout"
        },
        {
          "output_type": "execute_result",
          "data": {
            "text/plain": [
              "Text(0, 0.5, 'Acc')"
            ]
          },
          "metadata": {
            "tags": []
          },
          "execution_count": 44
        },
        {
          "output_type": "display_data",
          "data": {
            "image/png": "[encoded data removed]",
            "text/plain": [
              "<Figure size 1368x288 with 3 Axes>"
            ]
          },
          "metadata": {
            "tags": [],
            "needs_background": "light"
          }
        }
      ]
    },
    {
      "cell_type": "code",
      "metadata": {
        "colab": {
          "base_uri": "https://localhost:8080/"
        },
        "id": "dSQjx0t3nU6g",
        "outputId": "8e000b63-87e8-4c00-881b-b11de51e91c1"
      },
      "source": [
        "\r\n",
        "TestAcc.append(test_accuracy(model, test_loader, 0, True).item())\r\n",
        "TrainAcc.append(test_accuracy(model, train_loader_256, 0, False).item())\r\n",
        "print(\"Batch Size = 256\\n\")\r\n",
        "print(\" Testing Accuracy: {:.4f}%   :   Training Accuracy: {:.4f}% \".format(test_accuracy(model, test_loader, 0, True).item(), test_accuracy(model, train_loader_256, 0, False).item()))"
      ],
      "execution_count": 51,
      "outputs": [
        {
          "output_type": "stream",
          "text": [
            "Batch Size = 256\n",
            "\n",
            " Testing Accuracy: 81.8700%   :   Training Accuracy: 81.5217% \n"
          ],
          "name": "stdout"
        }
      ]
    },
    {
      "cell_type": "markdown",
      "metadata": {
        "id": "eZf55hiMnNPy"
      },
      "source": [
        "**Batch size = 128**"
      ]
    },
    {
      "cell_type": "code",
      "metadata": {
        "colab": {
          "base_uri": "https://localhost:8080/"
        },
        "id": "_j8uODcOjZ7-",
        "outputId": "10bc5322-5c56-48b5-b31f-087178d82aa2"
      },
      "source": [
        "input_size = 784\n",
        "hidden_size = 100\n",
        "output_size = 10\n",
        "model = FullyConnected(input_size, hidden_size, output_size).to(device)\n",
        "loss = nn.CrossEntropyLoss()\n",
        "optimizer = optim.SGD( model.parameters(), lr = learning_rate3,  momentum=0.9 )\n",
        "EPOCHS = 50\n",
        "train_loss =  []\n",
        "train_acc = []\n",
        "test_acc = []\n",
        "\n",
        "print(\" Batch Size = 128 \\n\")\n",
        "\n",
        "for epoch in range(EPOCHS):\n",
        "    \n",
        "\n",
        "    running_loss = 0\n",
        "    correct_predictions = 0\n",
        "    \n",
        "    for batch_index, (image_data, classes) in enumerate(train_loader_128):\n",
        "        \n",
        "        X = image_data.to(device)\n",
        "        y = classes.to(device)\n",
        "        \n",
        "        X = X.view(X.shape[0], -1)  ## do this for the FCC part\n",
        "        \n",
        "        logits = model.forward(X)\n",
        "        \n",
        "        predictions = torch.argmax(logits, dim = 1)\n",
        "        \n",
        "        running_loss += loss(logits, y)\n",
        "        \n",
        "        #print(classes)\n",
        "        correct_predictions += torch.sum(predictions == y)\n",
        "        \n",
        "        optimizer.zero_grad()\n",
        "        \n",
        "    totalLoss = running_loss/(batch_index + 1)\n",
        "    \n",
        "    totalLoss.backward()\n",
        "    \n",
        "    optimizer.step()\n",
        "    \n",
        "    epoch_loss = running_loss.item()/(batch_index + 1)\n",
        "    epoch_acc = correct_predictions/(60000)\n",
        "    \n",
        "    train_loss.append(epoch_loss)\n",
        "    train_acc.append(epoch_acc)\n",
        "    test_acc.append(test_accuracy(model, test_loader, 0, True).item())\n",
        "    \n",
        "    print(\"Epoch: {} ........... Training Accuracy: {:.4f}%.....Training Loss: {:.4f}.....Test Accuracy : {:.4f}%\".format(epoch + 1, epoch_acc*100, epoch_loss, test_accuracy(model, test_loader, 0 ,True).item()))"
      ],
      "execution_count": 55,
      "outputs": [
        {
          "output_type": "stream",
          "text": [
            " Batch Size = 128 \n",
            "\n",
            "Epoch: 1 ........... Training Accuracy: 9.9000%.....Training Loss: 2.3328.....Test Accuracy : 9.6800%\n",
            "Epoch: 2 ........... Training Accuracy: 9.3783%.....Training Loss: 2.3176.....Test Accuracy : 8.9800%\n",
            "Epoch: 3 ........... Training Accuracy: 8.5450%.....Training Loss: 2.3011.....Test Accuracy : 11.3800%\n",
            "Epoch: 4 ........... Training Accuracy: 11.2433%.....Training Loss: 2.2933.....Test Accuracy : 17.7800%\n",
            "Epoch: 5 ........... Training Accuracy: 17.7117%.....Training Loss: 2.2918.....Test Accuracy : 31.0300%\n",
            "Epoch: 6 ........... Training Accuracy: 30.4883%.....Training Loss: 2.2881.....Test Accuracy : 35.5400%\n",
            "Epoch: 7 ........... Training Accuracy: 35.0767%.....Training Loss: 2.2762.....Test Accuracy : 36.3600%\n",
            "Epoch: 8 ........... Training Accuracy: 35.9833%.....Training Loss: 2.2571.....Test Accuracy : 35.2700%\n",
            "Epoch: 9 ........... Training Accuracy: 34.8650%.....Training Loss: 2.2368.....Test Accuracy : 48.4100%\n",
            "Epoch: 10 ........... Training Accuracy: 46.9933%.....Training Loss: 2.2203.....Test Accuracy : 38.9700%\n",
            "Epoch: 11 ........... Training Accuracy: 38.1700%.....Training Loss: 2.2073.....Test Accuracy : 35.0100%\n",
            "Epoch: 12 ........... Training Accuracy: 34.3517%.....Training Loss: 2.1930.....Test Accuracy : 38.4100%\n",
            "Epoch: 13 ........... Training Accuracy: 37.8933%.....Training Loss: 2.1735.....Test Accuracy : 47.3400%\n",
            "Epoch: 14 ........... Training Accuracy: 46.9417%.....Training Loss: 2.1491.....Test Accuracy : 58.8600%\n",
            "Epoch: 15 ........... Training Accuracy: 57.4633%.....Training Loss: 2.1233.....Test Accuracy : 53.0500%\n",
            "Epoch: 16 ........... Training Accuracy: 52.7900%.....Training Loss: 2.0984.....Test Accuracy : 52.0700%\n",
            "Epoch: 17 ........... Training Accuracy: 51.5917%.....Training Loss: 2.0738.....Test Accuracy : 53.2400%\n",
            "Epoch: 18 ........... Training Accuracy: 52.4200%.....Training Loss: 2.0467.....Test Accuracy : 55.8000%\n",
            "Epoch: 19 ........... Training Accuracy: 55.0483%.....Training Loss: 2.0154.....Test Accuracy : 59.3700%\n",
            "Epoch: 20 ........... Training Accuracy: 58.5100%.....Training Loss: 1.9799.....Test Accuracy : 63.2600%\n",
            "Epoch: 21 ........... Training Accuracy: 62.0167%.....Training Loss: 1.9417.....Test Accuracy : 68.5100%\n",
            "Epoch: 22 ........... Training Accuracy: 66.7883%.....Training Loss: 1.9023.....Test Accuracy : 68.7100%\n",
            "Epoch: 23 ........... Training Accuracy: 67.6383%.....Training Loss: 1.8615.....Test Accuracy : 68.2000%\n",
            "Epoch: 24 ........... Training Accuracy: 67.3283%.....Training Loss: 1.8181.....Test Accuracy : 69.1700%\n",
            "Epoch: 25 ........... Training Accuracy: 68.0817%.....Training Loss: 1.7713.....Test Accuracy : 70.3000%\n",
            "Epoch: 26 ........... Training Accuracy: 69.0000%.....Training Loss: 1.7216.....Test Accuracy : 69.9400%\n",
            "Epoch: 27 ........... Training Accuracy: 68.5717%.....Training Loss: 1.6704.....Test Accuracy : 68.7300%\n",
            "Epoch: 28 ........... Training Accuracy: 67.3417%.....Training Loss: 1.6185.....Test Accuracy : 67.9300%\n",
            "Epoch: 29 ........... Training Accuracy: 66.6783%.....Training Loss: 1.5664.....Test Accuracy : 68.2400%\n",
            "Epoch: 30 ........... Training Accuracy: 67.0833%.....Training Loss: 1.5138.....Test Accuracy : 69.7700%\n",
            "Epoch: 31 ........... Training Accuracy: 68.3633%.....Training Loss: 1.4609.....Test Accuracy : 71.6100%\n",
            "Epoch: 32 ........... Training Accuracy: 70.3117%.....Training Loss: 1.4080.....Test Accuracy : 74.0400%\n",
            "Epoch: 33 ........... Training Accuracy: 72.4900%.....Training Loss: 1.3561.....Test Accuracy : 75.4300%\n",
            "Epoch: 34 ........... Training Accuracy: 74.2617%.....Training Loss: 1.3061.....Test Accuracy : 76.7300%\n",
            "Epoch: 35 ........... Training Accuracy: 75.3300%.....Training Loss: 1.2580.....Test Accuracy : 77.5400%\n",
            "Epoch: 36 ........... Training Accuracy: 76.1200%.....Training Loss: 1.2118.....Test Accuracy : 78.0000%\n",
            "Epoch: 37 ........... Training Accuracy: 76.6317%.....Training Loss: 1.1674.....Test Accuracy : 78.3900%\n",
            "Epoch: 38 ........... Training Accuracy: 77.0000%.....Training Loss: 1.1251.....Test Accuracy : 78.4600%\n",
            "Epoch: 39 ........... Training Accuracy: 77.2300%.....Training Loss: 1.0850.....Test Accuracy : 78.4400%\n",
            "Epoch: 40 ........... Training Accuracy: 77.4867%.....Training Loss: 1.0473.....Test Accuracy : 78.6600%\n",
            "Epoch: 41 ........... Training Accuracy: 77.7200%.....Training Loss: 1.0119.....Test Accuracy : 79.1200%\n",
            "Epoch: 42 ........... Training Accuracy: 78.1283%.....Training Loss: 0.9787.....Test Accuracy : 79.6900%\n",
            "Epoch: 43 ........... Training Accuracy: 78.7167%.....Training Loss: 0.9474.....Test Accuracy : 80.1700%\n",
            "Epoch: 44 ........... Training Accuracy: 79.2133%.....Training Loss: 0.9181.....Test Accuracy : 80.7500%\n",
            "Epoch: 45 ........... Training Accuracy: 79.8117%.....Training Loss: 0.8906.....Test Accuracy : 80.9600%\n",
            "Epoch: 46 ........... Training Accuracy: 80.2867%.....Training Loss: 0.8650.....Test Accuracy : 81.2800%\n",
            "Epoch: 47 ........... Training Accuracy: 80.6883%.....Training Loss: 0.8412.....Test Accuracy : 81.6300%\n",
            "Epoch: 48 ........... Training Accuracy: 81.0017%.....Training Loss: 0.8189.....Test Accuracy : 81.8300%\n",
            "Epoch: 49 ........... Training Accuracy: 81.2833%.....Training Loss: 0.7980.....Test Accuracy : 82.0900%\n",
            "Epoch: 50 ........... Training Accuracy: 81.5483%.....Training Loss: 0.7784.....Test Accuracy : 82.2800%\n"
          ],
          "name": "stdout"
        }
      ]
    },
    {
      "cell_type": "code",
      "metadata": {
        "colab": {
          "base_uri": "https://localhost:8080/",
          "height": 323
        },
        "id": "pSlZ89Xmw8BN",
        "outputId": "8861d915-28de-4f49-a506-1507d6dcc4d4"
      },
      "source": [
        "visualise(EPOCHS, train_loss, train_acc, test_acc, 128)"
      ],
      "execution_count": 57,
      "outputs": [
        {
          "output_type": "stream",
          "text": [
            "Batch Size :  128\n"
          ],
          "name": "stdout"
        },
        {
          "output_type": "display_data",
          "data": {
            "image/png": "[encoded data removed]",
            "text/plain": [
              "<Figure size 1368x288 with 3 Axes>"
            ]
          },
          "metadata": {
            "tags": [],
            "needs_background": "light"
          }
        }
      ]
    },
    {
      "cell_type": "code",
      "metadata": {
        "colab": {
          "base_uri": "https://localhost:8080/"
        },
        "id": "isVyI5W9xZDs",
        "outputId": "4afb5b44-4abc-4bc4-b27c-7c4a2badf859"
      },
      "source": [
        "TestAcc.append(test_accuracy(model, test_loader, 0, True).item())\r\n",
        "TrainAcc.append(test_accuracy(model, train_loader_256, 0, False).item())\r\n",
        "print(\"Batch Size = 128\\n\")\r\n",
        "print(\" Testing Accuracy: {:.4f}%   :   Training Accuracy: {:.4f}% \".format(test_accuracy(model, test_loader, 0, True).item(), test_accuracy(model, train_loader_256, 0, False).item()))"
      ],
      "execution_count": 58,
      "outputs": [
        {
          "output_type": "stream",
          "text": [
            "Batch Size = 128\n",
            "\n",
            " Testing Accuracy: 82.2800%   :   Training Accuracy: 81.6733% \n"
          ],
          "name": "stdout"
        }
      ]
    },
    {
      "cell_type": "markdown",
      "metadata": {
        "id": "9yIzmWckxdNZ"
      },
      "source": [
        "Batch Size = 64"
      ]
    },
    {
      "cell_type": "code",
      "metadata": {
        "colab": {
          "base_uri": "https://localhost:8080/"
        },
        "id": "TgV52Gmcv_3L",
        "outputId": "60da73c9-990a-4f72-ffd3-e8b8bb1e0385"
      },
      "source": [
        "input_size = 784\r\n",
        "hidden_size = 100\r\n",
        "output_size = 10\r\n",
        "model = FullyConnected(input_size, hidden_size, output_size).to(device)\r\n",
        "loss = nn.CrossEntropyLoss()\r\n",
        "optimizer = optim.SGD( model.parameters(), lr = learning_rate3,  momentum=0.9 )\r\n",
        "EPOCHS = 50\r\n",
        "train_loss =  []\r\n",
        "train_acc = []\r\n",
        "test_acc = []\r\n",
        "\r\n",
        "print(\" Batch Size = 64 \\n\")\r\n",
        "\r\n",
        "for epoch in range(EPOCHS):\r\n",
        "    \r\n",
        "\r\n",
        "    running_loss = 0\r\n",
        "    correct_predictions = 0\r\n",
        "    \r\n",
        "    for batch_index, (image_data, classes) in enumerate(train_loader_64):\r\n",
        "        \r\n",
        "        X = image_data.to(device)\r\n",
        "        y = classes.to(device)\r\n",
        "        \r\n",
        "        X = X.view(X.shape[0], -1)  ## do this for the FCC part\r\n",
        "        \r\n",
        "        logits = model.forward(X)\r\n",
        "        \r\n",
        "        predictions = torch.argmax(logits, dim = 1)\r\n",
        "        \r\n",
        "        running_loss += loss(logits, y)\r\n",
        "        \r\n",
        "        #print(classes)\r\n",
        "        correct_predictions += torch.sum(predictions == y)\r\n",
        "        \r\n",
        "        optimizer.zero_grad()\r\n",
        "        \r\n",
        "    totalLoss = running_loss/(batch_index + 1)\r\n",
        "    \r\n",
        "    totalLoss.backward()\r\n",
        "    \r\n",
        "    optimizer.step()\r\n",
        "    \r\n",
        "    epoch_loss = running_loss.item()/(batch_index + 1)\r\n",
        "    epoch_acc = correct_predictions/(60000)\r\n",
        "    \r\n",
        "    train_loss.append(epoch_loss)\r\n",
        "    train_acc.append(epoch_acc)\r\n",
        "    test_acc.append(test_accuracy(model, test_loader, 0, True).item())\r\n",
        "    \r\n",
        "    print(\"Epoch: {} ........... Training Accuracy: {:.4f}%.....Training Loss: {:.4f}.....Test Accuracy : {:.4f}%\".format(epoch + 1, epoch_acc*100, epoch_loss, test_accuracy(model, test_loader, 0 ,True).item()))"
      ],
      "execution_count": 59,
      "outputs": [
        {
          "output_type": "stream",
          "text": [
            " Batch Size = 64 \n",
            "\n",
            "Epoch: 1 ........... Training Accuracy: 11.2450%.....Training Loss: 2.3280.....Test Accuracy : 11.3500%\n",
            "Epoch: 2 ........... Training Accuracy: 11.2450%.....Training Loss: 2.3111.....Test Accuracy : 11.3600%\n",
            "Epoch: 3 ........... Training Accuracy: 11.2517%.....Training Loss: 2.2938.....Test Accuracy : 17.6300%\n",
            "Epoch: 4 ........... Training Accuracy: 17.7217%.....Training Loss: 2.2866.....Test Accuracy : 10.2800%\n",
            "Epoch: 5 ........... Training Accuracy: 10.4433%.....Training Loss: 2.2863.....Test Accuracy : 10.2800%\n",
            "Epoch: 6 ........... Training Accuracy: 10.4417%.....Training Loss: 2.2823.....Test Accuracy : 10.2800%\n",
            "Epoch: 7 ........... Training Accuracy: 10.4417%.....Training Loss: 2.2682.....Test Accuracy : 12.4400%\n",
            "Epoch: 8 ........... Training Accuracy: 12.3067%.....Training Loss: 2.2468.....Test Accuracy : 36.6100%\n",
            "Epoch: 9 ........... Training Accuracy: 36.7067%.....Training Loss: 2.2262.....Test Accuracy : 21.3700%\n",
            "Epoch: 10 ........... Training Accuracy: 20.6650%.....Training Loss: 2.2110.....Test Accuracy : 21.3300%\n",
            "Epoch: 11 ........... Training Accuracy: 20.3917%.....Training Loss: 2.1981.....Test Accuracy : 25.3200%\n",
            "Epoch: 12 ........... Training Accuracy: 24.2350%.....Training Loss: 2.1814.....Test Accuracy : 31.8000%\n",
            "Epoch: 13 ........... Training Accuracy: 30.6300%.....Training Loss: 2.1582.....Test Accuracy : 43.6500%\n",
            "Epoch: 14 ........... Training Accuracy: 42.2883%.....Training Loss: 2.1313.....Test Accuracy : 62.0900%\n",
            "Epoch: 15 ........... Training Accuracy: 61.2117%.....Training Loss: 2.1046.....Test Accuracy : 55.5700%\n",
            "Epoch: 16 ........... Training Accuracy: 55.8100%.....Training Loss: 2.0792.....Test Accuracy : 53.4300%\n",
            "Epoch: 17 ........... Training Accuracy: 53.8733%.....Training Loss: 2.0526.....Test Accuracy : 53.3700%\n",
            "Epoch: 18 ........... Training Accuracy: 53.8250%.....Training Loss: 2.0219.....Test Accuracy : 55.0000%\n",
            "Epoch: 19 ........... Training Accuracy: 54.9350%.....Training Loss: 1.9865.....Test Accuracy : 57.4700%\n",
            "Epoch: 20 ........... Training Accuracy: 57.2750%.....Training Loss: 1.9479.....Test Accuracy : 61.6500%\n",
            "Epoch: 21 ........... Training Accuracy: 60.6100%.....Training Loss: 1.9083.....Test Accuracy : 63.1800%\n",
            "Epoch: 22 ........... Training Accuracy: 62.3417%.....Training Loss: 1.8677.....Test Accuracy : 62.5900%\n",
            "Epoch: 23 ........... Training Accuracy: 61.7217%.....Training Loss: 1.8249.....Test Accuracy : 63.5400%\n",
            "Epoch: 24 ........... Training Accuracy: 62.8500%.....Training Loss: 1.7789.....Test Accuracy : 66.6200%\n",
            "Epoch: 25 ........... Training Accuracy: 65.7833%.....Training Loss: 1.7301.....Test Accuracy : 69.5000%\n",
            "Epoch: 26 ........... Training Accuracy: 68.5617%.....Training Loss: 1.6796.....Test Accuracy : 70.3800%\n",
            "Epoch: 27 ........... Training Accuracy: 69.0500%.....Training Loss: 1.6287.....Test Accuracy : 69.8500%\n",
            "Epoch: 28 ........... Training Accuracy: 68.2850%.....Training Loss: 1.5777.....Test Accuracy : 69.3800%\n",
            "Epoch: 29 ........... Training Accuracy: 68.1400%.....Training Loss: 1.5261.....Test Accuracy : 70.0000%\n",
            "Epoch: 30 ........... Training Accuracy: 68.8517%.....Training Loss: 1.4743.....Test Accuracy : 71.4500%\n",
            "Epoch: 31 ........... Training Accuracy: 70.2250%.....Training Loss: 1.4226.....Test Accuracy : 73.1000%\n",
            "Epoch: 32 ........... Training Accuracy: 71.8700%.....Training Loss: 1.3718.....Test Accuracy : 74.5700%\n",
            "Epoch: 33 ........... Training Accuracy: 73.4750%.....Training Loss: 1.3226.....Test Accuracy : 75.2600%\n",
            "Epoch: 34 ........... Training Accuracy: 74.4800%.....Training Loss: 1.2751.....Test Accuracy : 75.8200%\n",
            "Epoch: 35 ........... Training Accuracy: 75.2767%.....Training Loss: 1.2291.....Test Accuracy : 76.4400%\n",
            "Epoch: 36 ........... Training Accuracy: 75.9083%.....Training Loss: 1.1847.....Test Accuracy : 77.0700%\n",
            "Epoch: 37 ........... Training Accuracy: 76.5283%.....Training Loss: 1.1423.....Test Accuracy : 77.6400%\n",
            "Epoch: 38 ........... Training Accuracy: 77.1417%.....Training Loss: 1.1017.....Test Accuracy : 78.2400%\n",
            "Epoch: 39 ........... Training Accuracy: 77.5367%.....Training Loss: 1.0635.....Test Accuracy : 78.4100%\n",
            "Epoch: 40 ........... Training Accuracy: 77.8783%.....Training Loss: 1.0275.....Test Accuracy : 78.8200%\n",
            "Epoch: 41 ........... Training Accuracy: 78.2617%.....Training Loss: 0.9936.....Test Accuracy : 79.2900%\n",
            "Epoch: 42 ........... Training Accuracy: 78.7800%.....Training Loss: 0.9615.....Test Accuracy : 79.9800%\n",
            "Epoch: 43 ........... Training Accuracy: 79.3133%.....Training Loss: 0.9312.....Test Accuracy : 80.4800%\n",
            "Epoch: 44 ........... Training Accuracy: 79.8583%.....Training Loss: 0.9028.....Test Accuracy : 80.7900%\n",
            "Epoch: 45 ........... Training Accuracy: 80.3967%.....Training Loss: 0.8762.....Test Accuracy : 81.2600%\n",
            "Epoch: 46 ........... Training Accuracy: 80.7950%.....Training Loss: 0.8514.....Test Accuracy : 81.6800%\n",
            "Epoch: 47 ........... Training Accuracy: 81.0650%.....Training Loss: 0.8282.....Test Accuracy : 81.9200%\n",
            "Epoch: 48 ........... Training Accuracy: 81.3583%.....Training Loss: 0.8064.....Test Accuracy : 82.0700%\n",
            "Epoch: 49 ........... Training Accuracy: 81.5783%.....Training Loss: 0.7858.....Test Accuracy : 82.4100%\n",
            "Epoch: 50 ........... Training Accuracy: 81.7583%.....Training Loss: 0.7666.....Test Accuracy : 82.5900%\n"
          ],
          "name": "stdout"
        }
      ]
    },
    {
      "cell_type": "code",
      "metadata": {
        "colab": {
          "base_uri": "https://localhost:8080/",
          "height": 323
        },
        "id": "HuCtfO1Rxpyk",
        "outputId": "c4b55db0-c1ca-4f12-fae2-677aa83998c2"
      },
      "source": [
        "visualise(EPOCHS, train_loss, train_acc, test_acc, 64)"
      ],
      "execution_count": 60,
      "outputs": [
        {
          "output_type": "stream",
          "text": [
            "Batch Size :  64\n"
          ],
          "name": "stdout"
        },
        {
          "output_type": "display_data",
          "data": {
            "image/png": "[encoded data removed]",
            "text/plain": [
              "<Figure size 1368x288 with 3 Axes>"
            ]
          },
          "metadata": {
            "tags": [],
            "needs_background": "light"
          }
        }
      ]
    },
    {
      "cell_type": "code",
      "metadata": {
        "colab": {
          "base_uri": "https://localhost:8080/"
        },
        "id": "LGd22vFWjZ8C",
        "outputId": "c368945d-6408-4e60-c110-010ba33bfb1d"
      },
      "source": [
        "TestAcc.append(test_accuracy(model, test_loader, 0, True).item())\r\n",
        "TrainAcc.append(test_accuracy(model, train_loader_256, 0, False).item())\r\n",
        "print(\"Batch Size = 64\\n\")\r\n",
        "print(\" Testing Accuracy: {:.4f}%   :   Training Accuracy: {:.4f}% \".format(test_accuracy(model, test_loader, 0, True).item(), test_accuracy(model, train_loader_256, 0, False).item()))"
      ],
      "execution_count": 61,
      "outputs": [
        {
          "output_type": "stream",
          "text": [
            "Batch Size = 64\n",
            "\n",
            " Testing Accuracy: 82.5900%   :   Training Accuracy: 82.0217% \n"
          ],
          "name": "stdout"
        }
      ]
    },
    {
      "cell_type": "code",
      "metadata": {
        "id": "9hIPQOsK1AsU"
      },
      "source": [
        "batches = [256, 128, 64]"
      ],
      "execution_count": 66,
      "outputs": []
    },
    {
      "cell_type": "code",
      "metadata": {
        "colab": {
          "base_uri": "https://localhost:8080/",
          "height": 377
        },
        "id": "0FRSIIVG0rEJ",
        "outputId": "d7c3a628-957d-45a3-aef2-305dd4cbc797"
      },
      "source": [
        "    fig = plt.figure(figsize = (16, 5)) \r\n",
        "    #plt.title(\"Learning Rate = 0.1\",  fontsize = 20,fontname=\"Times New Roman Bold\")\r\n",
        "    plt.subplot(121)\r\n",
        "    plt.plot(batches, TestAcc,'r-',label='Testing') \r\n",
        "    plt.legend()\r\n",
        "    plt.title(\"Testing Accuracy vs Batch Size\", fontsize = 20,fontname=\"Times New Roman Bold\")\r\n",
        "    plt.xlabel('Batch Size', fontsize = 16)\r\n",
        "    plt.ylabel('Accuracy', fontsize = 16)\r\n",
        "    \r\n",
        "    plt.subplot(122)\r\n",
        "    plt.plot(batches,TrainAcc,'g-',label='Training') \r\n",
        "    plt.legend()\r\n",
        "    plt.title(\"Training Accuracy vs Batch Size\", fontsize = 20,fontname=\"Times New Roman Bold\")\r\n",
        "    plt.xlabel('Batch Size',fontsize = 16)\r\n",
        "    plt.ylabel('Acc', fontsize = 16)"
      ],
      "execution_count": 70,
      "outputs": [
        {
          "output_type": "execute_result",
          "data": {
            "text/plain": [
              "Text(0, 0.5, 'Acc')"
            ]
          },
          "metadata": {
            "tags": []
          },
          "execution_count": 70
        },
        {
          "output_type": "display_data",
          "data": {
            "image/png": "[encoded data removed]",
            "text/plain": [
              "<Figure size 1152x360 with 2 Axes>"
            ]
          },
          "metadata": {
            "tags": [],
            "needs_background": "light"
          }
        }
      ]
    },
    {
      "cell_type": "code",
      "metadata": {
        "id": "USfmo8aOzfO-"
      },
      "source": [
        "##### Question 6a) Conclusion"
      ],
      "execution_count": null,
      "outputs": []
    },
    {
      "cell_type": "markdown",
      "metadata": {
        "id": "VFhNzW1DHNnk"
      },
      "source": [
        "Question 6a) From the Graph Plotted above, it is evident that a lower Batch Size gives us a better Training and Testing Accuracy. Hence a smaller Batch Size say Batch size = 64 is the Optimal One "
      ]
    },
    {
      "cell_type": "markdown",
      "metadata": {
        "id": "27_uiFAGHmco"
      },
      "source": [
        "# **Question 6 B** :Deciding Learning Rate"
      ]
    },
    {
      "cell_type": "code",
      "metadata": {
        "id": "NW0IKEBcHhvl"
      },
      "source": [
        "learning_rate1 = 0.025\r\n",
        "learning_rate2 = 0.05\r\n",
        "learning_rate3 = 0.1\r\n",
        "learning_rate4 = 0.2\r\n",
        "learning_rate5 =  0.5\r\n",
        "\r\n",
        "LearningRateOptions = [learning_rate1, learning_rate2, learning_rate3, learning_rate4, learning_rate5]"
      ],
      "execution_count": 11,
      "outputs": []
    },
    {
      "cell_type": "code",
      "metadata": {
        "id": "ejNUtOgeIMbe"
      },
      "source": [
        "  \r\n",
        "def Train50Epochs(learning_rate, batch_size, train_loader):\r\n",
        "    \"\"\"\r\n",
        "    We take the LearningRate and Batch size hyperparameters in this function and train the Neural Ntework for 50 Epochs\r\n",
        "    We return the losses and other Model specifications\r\n",
        "\r\n",
        "    \"\"\"\r\n",
        "\r\n",
        "    input_size = 784\r\n",
        "    hidden_size = 100\r\n",
        "    output_size = 10\r\n",
        "    model = FullyConnected(input_size, hidden_size, output_size).to(device)\r\n",
        "    loss = nn.CrossEntropyLoss()\r\n",
        "    optimizer = optim.SGD( model.parameters(), lr = learning_rate,  momentum=0.9 )\r\n",
        "    EPOCHS = 50\r\n",
        "\r\n",
        "    train_loss =  []\r\n",
        "    train_acc = []\r\n",
        "    test_acc = []\r\n",
        "\r\n",
        "    print(\" Batch Size = \", batch_size, \"\\n\")\r\n",
        "\r\n",
        "    for epoch in range(EPOCHS):\r\n",
        "        \r\n",
        "\r\n",
        "        running_loss = 0\r\n",
        "        correct_predictions = 0\r\n",
        "        \r\n",
        "        for batch_index, (image_data, classes) in enumerate(train_loader):\r\n",
        "            \r\n",
        "            X = image_data.to(device)\r\n",
        "            y = classes.to(device)\r\n",
        "            \r\n",
        "            X = X.view(X.shape[0], -1)  ## do this for the FCC part\r\n",
        "            \r\n",
        "            logits = model.forward(X)\r\n",
        "            \r\n",
        "            predictions = torch.argmax(logits, dim = 1)\r\n",
        "            \r\n",
        "            running_loss += loss(logits, y)\r\n",
        "            \r\n",
        "            #print(classes)\r\n",
        "            correct_predictions += torch.sum(predictions == y)\r\n",
        "            \r\n",
        "            optimizer.zero_grad()\r\n",
        "            \r\n",
        "        totalLoss = running_loss/(batch_index + 1)\r\n",
        "        \r\n",
        "        totalLoss.backward()\r\n",
        "        \r\n",
        "        optimizer.step()\r\n",
        "        \r\n",
        "        epoch_loss = running_loss.item()/(batch_index + 1)\r\n",
        "        epoch_acc = correct_predictions/(60000)\r\n",
        "        \r\n",
        "        train_loss.append(epoch_loss)\r\n",
        "        train_acc.append(epoch_acc)\r\n",
        "        test_acc.append(test_accuracy(model, test_loader, 0, True).item())\r\n",
        "        \r\n",
        "        print(\"Epoch: {} ........... Training Accuracy: {:.4f}%.....Training Loss: {:.4f}.....Test Accuracy : {:.4f}%\".format(epoch + 1, epoch_acc*100, epoch_loss, test_accuracy(model, test_loader, 0, True).item()))\r\n",
        "\r\n",
        "    return model, train_loss, train_acc, test_acc"
      ],
      "execution_count": 20,
      "outputs": []
    },
    {
      "cell_type": "code",
      "metadata": {
        "colab": {
          "base_uri": "https://localhost:8080/"
        },
        "id": "0QBSo2TSJZ2H",
        "outputId": "ea8b301e-370c-4cc5-e189-6dfd6ef62150"
      },
      "source": [
        "## Here er try out the different Learning rates\r\n",
        "TestAcc = []\r\n",
        "TrainAcc = []\r\n",
        "\r\n",
        "for learning_rate in LearningRateOptions:\r\n",
        "     \r\n",
        "     print(\" Training for Learning Rate = {} \\n\\n\\n\".format(learning_rate))\r\n",
        "     print('\\n')\r\n",
        "     model, train_loss, train_acc, test_acc = Train50Epochs(learning_rate, 64, train_loader_64)\r\n",
        "     TestAcc.append(test_acc)\r\n",
        "     TrainAcc.append(train_acc)"
      ],
      "execution_count": 21,
      "outputs": [
        {
          "output_type": "stream",
          "text": [
            " Training for Learning Rate = 0.025 \n",
            "\n",
            "\n",
            "\n",
            "\n",
            "\n",
            " Batch Size =  64 \n",
            "\n",
            "Epoch: 1 ........... Training Accuracy: 11.2367%.....Training Loss: 2.3276.....Test Accuracy : 11.3500%\n",
            "Epoch: 2 ........... Training Accuracy: 11.2367%.....Training Loss: 2.3234.....Test Accuracy : 11.3500%\n",
            "Epoch: 3 ........... Training Accuracy: 11.2367%.....Training Loss: 2.3164.....Test Accuracy : 11.3500%\n",
            "Epoch: 4 ........... Training Accuracy: 11.2367%.....Training Loss: 2.3085.....Test Accuracy : 11.3500%\n",
            "Epoch: 5 ........... Training Accuracy: 11.2367%.....Training Loss: 2.3011.....Test Accuracy : 11.3500%\n",
            "Epoch: 6 ........... Training Accuracy: 11.2367%.....Training Loss: 2.2953.....Test Accuracy : 15.1400%\n",
            "Epoch: 7 ........... Training Accuracy: 14.9267%.....Training Loss: 2.2912.....Test Accuracy : 14.2300%\n",
            "Epoch: 8 ........... Training Accuracy: 14.2500%.....Training Loss: 2.2886.....Test Accuracy : 12.5700%\n",
            "Epoch: 9 ........... Training Accuracy: 12.7033%.....Training Loss: 2.2866.....Test Accuracy : 12.8100%\n",
            "Epoch: 10 ........... Training Accuracy: 13.0050%.....Training Loss: 2.2847.....Test Accuracy : 16.6500%\n",
            "Epoch: 11 ........... Training Accuracy: 16.6333%.....Training Loss: 2.2821.....Test Accuracy : 19.9500%\n",
            "Epoch: 12 ........... Training Accuracy: 20.0900%.....Training Loss: 2.2784.....Test Accuracy : 21.1400%\n",
            "Epoch: 13 ........... Training Accuracy: 21.2867%.....Training Loss: 2.2736.....Test Accuracy : 22.5600%\n",
            "Epoch: 14 ........... Training Accuracy: 22.7133%.....Training Loss: 2.2677.....Test Accuracy : 25.8700%\n",
            "Epoch: 15 ........... Training Accuracy: 25.8750%.....Training Loss: 2.2612.....Test Accuracy : 37.1900%\n",
            "Epoch: 16 ........... Training Accuracy: 37.3233%.....Training Loss: 2.2544.....Test Accuracy : 42.0400%\n",
            "Epoch: 17 ........... Training Accuracy: 41.5967%.....Training Loss: 2.2476.....Test Accuracy : 32.1600%\n",
            "Epoch: 18 ........... Training Accuracy: 31.0417%.....Training Loss: 2.2412.....Test Accuracy : 23.7000%\n",
            "Epoch: 19 ........... Training Accuracy: 22.5483%.....Training Loss: 2.2353.....Test Accuracy : 19.9400%\n",
            "Epoch: 20 ........... Training Accuracy: 19.3850%.....Training Loss: 2.2297.....Test Accuracy : 18.8500%\n",
            "Epoch: 21 ........... Training Accuracy: 18.7767%.....Training Loss: 2.2243.....Test Accuracy : 19.3300%\n",
            "Epoch: 22 ........... Training Accuracy: 19.3400%.....Training Loss: 2.2189.....Test Accuracy : 20.6400%\n",
            "Epoch: 23 ........... Training Accuracy: 20.5483%.....Training Loss: 2.2132.....Test Accuracy : 22.8700%\n",
            "Epoch: 24 ........... Training Accuracy: 22.3500%.....Training Loss: 2.2071.....Test Accuracy : 26.3800%\n",
            "Epoch: 25 ........... Training Accuracy: 25.2817%.....Training Loss: 2.2005.....Test Accuracy : 31.3900%\n",
            "Epoch: 26 ........... Training Accuracy: 29.5767%.....Training Loss: 2.1936.....Test Accuracy : 37.1900%\n",
            "Epoch: 27 ........... Training Accuracy: 34.9967%.....Training Loss: 2.1865.....Test Accuracy : 42.7500%\n",
            "Epoch: 28 ........... Training Accuracy: 40.8350%.....Training Loss: 2.1791.....Test Accuracy : 46.9700%\n",
            "Epoch: 29 ........... Training Accuracy: 45.9483%.....Training Loss: 2.1717.....Test Accuracy : 50.2700%\n",
            "Epoch: 30 ........... Training Accuracy: 49.9050%.....Training Loss: 2.1643.....Test Accuracy : 53.2300%\n",
            "Epoch: 31 ........... Training Accuracy: 52.9800%.....Training Loss: 2.1568.....Test Accuracy : 55.4200%\n",
            "Epoch: 32 ........... Training Accuracy: 55.3667%.....Training Loss: 2.1493.....Test Accuracy : 57.3500%\n",
            "Epoch: 33 ........... Training Accuracy: 57.3783%.....Training Loss: 2.1416.....Test Accuracy : 58.9700%\n",
            "Epoch: 34 ........... Training Accuracy: 59.0600%.....Training Loss: 2.1338.....Test Accuracy : 60.2100%\n",
            "Epoch: 35 ........... Training Accuracy: 60.1533%.....Training Loss: 2.1257.....Test Accuracy : 61.1300%\n",
            "Epoch: 36 ........... Training Accuracy: 60.9333%.....Training Loss: 2.1174.....Test Accuracy : 61.6500%\n",
            "Epoch: 37 ........... Training Accuracy: 61.2033%.....Training Loss: 2.1087.....Test Accuracy : 61.8600%\n",
            "Epoch: 38 ........... Training Accuracy: 61.1700%.....Training Loss: 2.0998.....Test Accuracy : 61.6700%\n",
            "Epoch: 39 ........... Training Accuracy: 60.8450%.....Training Loss: 2.0906.....Test Accuracy : 61.4000%\n",
            "Epoch: 40 ........... Training Accuracy: 60.4767%.....Training Loss: 2.0812.....Test Accuracy : 60.9000%\n",
            "Epoch: 41 ........... Training Accuracy: 59.9783%.....Training Loss: 2.0716.....Test Accuracy : 60.5400%\n",
            "Epoch: 42 ........... Training Accuracy: 59.5517%.....Training Loss: 2.0617.....Test Accuracy : 60.0900%\n",
            "Epoch: 43 ........... Training Accuracy: 59.2550%.....Training Loss: 2.0517.....Test Accuracy : 59.8700%\n",
            "Epoch: 44 ........... Training Accuracy: 59.1467%.....Training Loss: 2.0414.....Test Accuracy : 59.8000%\n",
            "Epoch: 45 ........... Training Accuracy: 59.2183%.....Training Loss: 2.0309.....Test Accuracy : 59.9800%\n",
            "Epoch: 46 ........... Training Accuracy: 59.4167%.....Training Loss: 2.0200.....Test Accuracy : 60.2300%\n",
            "Epoch: 47 ........... Training Accuracy: 59.7150%.....Training Loss: 2.0090.....Test Accuracy : 60.5700%\n",
            "Epoch: 48 ........... Training Accuracy: 60.1633%.....Training Loss: 1.9976.....Test Accuracy : 61.1000%\n",
            "Epoch: 49 ........... Training Accuracy: 60.7033%.....Training Loss: 1.9859.....Test Accuracy : 61.5900%\n",
            "Epoch: 50 ........... Training Accuracy: 61.2483%.....Training Loss: 1.9740.....Test Accuracy : 62.2700%\n",
            " Training for Learning Rate = 0.05 \n",
            "\n",
            "\n",
            "\n",
            "\n",
            "\n",
            " Batch Size =  64 \n",
            "\n",
            "Epoch: 1 ........... Training Accuracy: 8.1500%.....Training Loss: 2.3906.....Test Accuracy : 8.2000%\n",
            "Epoch: 2 ........... Training Accuracy: 8.6250%.....Training Loss: 2.3688.....Test Accuracy : 9.2800%\n",
            "Epoch: 3 ........... Training Accuracy: 9.5167%.....Training Loss: 2.3376.....Test Accuracy : 10.4500%\n",
            "Epoch: 4 ........... Training Accuracy: 10.7333%.....Training Loss: 2.3110.....Test Accuracy : 12.5800%\n",
            "Epoch: 5 ........... Training Accuracy: 12.7050%.....Training Loss: 2.2978.....Test Accuracy : 11.3500%\n",
            "Epoch: 6 ........... Training Accuracy: 11.2367%.....Training Loss: 2.2980.....Test Accuracy : 11.3500%\n",
            "Epoch: 7 ........... Training Accuracy: 11.2367%.....Training Loss: 2.3049.....Test Accuracy : 11.3700%\n",
            "Epoch: 8 ........... Training Accuracy: 11.2450%.....Training Loss: 2.3100.....Test Accuracy : 11.7500%\n",
            "Epoch: 9 ........... Training Accuracy: 11.5117%.....Training Loss: 2.3075.....Test Accuracy : 13.9700%\n",
            "Epoch: 10 ........... Training Accuracy: 13.4433%.....Training Loss: 2.2960.....Test Accuracy : 17.5100%\n",
            "Epoch: 11 ........... Training Accuracy: 16.8167%.....Training Loss: 2.2782.....Test Accuracy : 21.0900%\n",
            "Epoch: 12 ........... Training Accuracy: 20.6633%.....Training Loss: 2.2590.....Test Accuracy : 30.8200%\n",
            "Epoch: 13 ........... Training Accuracy: 30.5050%.....Training Loss: 2.2427.....Test Accuracy : 47.6200%\n",
            "Epoch: 14 ........... Training Accuracy: 48.2450%.....Training Loss: 2.2317.....Test Accuracy : 27.0200%\n",
            "Epoch: 15 ........... Training Accuracy: 26.7583%.....Training Loss: 2.2252.....Test Accuracy : 24.9500%\n",
            "Epoch: 16 ........... Training Accuracy: 24.8283%.....Training Loss: 2.2202.....Test Accuracy : 25.9400%\n",
            "Epoch: 17 ........... Training Accuracy: 25.9617%.....Training Loss: 2.2135.....Test Accuracy : 27.4000%\n",
            "Epoch: 18 ........... Training Accuracy: 27.1517%.....Training Loss: 2.2031.....Test Accuracy : 33.0800%\n",
            "Epoch: 19 ........... Training Accuracy: 32.5667%.....Training Loss: 2.1888.....Test Accuracy : 44.1900%\n",
            "Epoch: 20 ........... Training Accuracy: 43.7500%.....Training Loss: 2.1724.....Test Accuracy : 48.1200%\n",
            "Epoch: 21 ........... Training Accuracy: 47.7283%.....Training Loss: 2.1560.....Test Accuracy : 47.7900%\n",
            "Epoch: 22 ........... Training Accuracy: 47.6550%.....Training Loss: 2.1409.....Test Accuracy : 43.8800%\n",
            "Epoch: 23 ........... Training Accuracy: 43.1733%.....Training Loss: 2.1274.....Test Accuracy : 41.5400%\n",
            "Epoch: 24 ........... Training Accuracy: 40.8717%.....Training Loss: 2.1145.....Test Accuracy : 41.7800%\n",
            "Epoch: 25 ........... Training Accuracy: 41.3867%.....Training Loss: 2.1011.....Test Accuracy : 44.0000%\n",
            "Epoch: 26 ........... Training Accuracy: 44.0233%.....Training Loss: 2.0861.....Test Accuracy : 48.0400%\n",
            "Epoch: 27 ........... Training Accuracy: 48.0067%.....Training Loss: 2.0691.....Test Accuracy : 54.1200%\n",
            "Epoch: 28 ........... Training Accuracy: 53.4150%.....Training Loss: 2.0503.....Test Accuracy : 59.7900%\n",
            "Epoch: 29 ........... Training Accuracy: 59.2700%.....Training Loss: 2.0304.....Test Accuracy : 65.0700%\n",
            "Epoch: 30 ........... Training Accuracy: 63.9817%.....Training Loss: 2.0100.....Test Accuracy : 66.9000%\n",
            "Epoch: 31 ........... Training Accuracy: 66.0883%.....Training Loss: 1.9897.....Test Accuracy : 66.4400%\n",
            "Epoch: 32 ........... Training Accuracy: 65.8267%.....Training Loss: 1.9692.....Test Accuracy : 64.8300%\n",
            "Epoch: 33 ........... Training Accuracy: 64.4850%.....Training Loss: 1.9481.....Test Accuracy : 63.6500%\n",
            "Epoch: 34 ........... Training Accuracy: 63.4467%.....Training Loss: 1.9261.....Test Accuracy : 63.3400%\n",
            "Epoch: 35 ........... Training Accuracy: 63.0800%.....Training Loss: 1.9029.....Test Accuracy : 63.7300%\n",
            "Epoch: 36 ........... Training Accuracy: 63.3017%.....Training Loss: 1.8782.....Test Accuracy : 64.6400%\n",
            "Epoch: 37 ........... Training Accuracy: 64.1133%.....Training Loss: 1.8526.....Test Accuracy : 65.6800%\n",
            "Epoch: 38 ........... Training Accuracy: 64.9117%.....Training Loss: 1.8261.....Test Accuracy : 66.6900%\n",
            "Epoch: 39 ........... Training Accuracy: 65.7333%.....Training Loss: 1.7991.....Test Accuracy : 67.5300%\n",
            "Epoch: 40 ........... Training Accuracy: 66.6133%.....Training Loss: 1.7718.....Test Accuracy : 68.4800%\n",
            "Epoch: 41 ........... Training Accuracy: 67.4933%.....Training Loss: 1.7440.....Test Accuracy : 69.6200%\n",
            "Epoch: 42 ........... Training Accuracy: 68.3233%.....Training Loss: 1.7157.....Test Accuracy : 70.5100%\n",
            "Epoch: 43 ........... Training Accuracy: 69.1233%.....Training Loss: 1.6868.....Test Accuracy : 71.3100%\n",
            "Epoch: 44 ........... Training Accuracy: 69.9817%.....Training Loss: 1.6574.....Test Accuracy : 72.1300%\n",
            "Epoch: 45 ........... Training Accuracy: 70.8733%.....Training Loss: 1.6274.....Test Accuracy : 72.6700%\n",
            "Epoch: 46 ........... Training Accuracy: 71.5600%.....Training Loss: 1.5974.....Test Accuracy : 73.1200%\n",
            "Epoch: 47 ........... Training Accuracy: 72.1633%.....Training Loss: 1.5670.....Test Accuracy : 73.5500%\n",
            "Epoch: 48 ........... Training Accuracy: 72.5233%.....Training Loss: 1.5368.....Test Accuracy : 73.4800%\n",
            "Epoch: 49 ........... Training Accuracy: 72.7233%.....Training Loss: 1.5067.....Test Accuracy : 73.6500%\n",
            "Epoch: 50 ........... Training Accuracy: 72.8700%.....Training Loss: 1.4768.....Test Accuracy : 73.8600%\n",
            " Training for Learning Rate = 0.1 \n",
            "\n",
            "\n",
            "\n",
            "\n",
            "\n",
            " Batch Size =  64 \n",
            "\n",
            "Epoch: 1 ........... Training Accuracy: 10.2183%.....Training Loss: 2.3202.....Test Accuracy : 10.0800%\n",
            "Epoch: 2 ........... Training Accuracy: 10.2083%.....Training Loss: 2.3081.....Test Accuracy : 14.6300%\n",
            "Epoch: 3 ........... Training Accuracy: 15.3483%.....Training Loss: 2.2940.....Test Accuracy : 11.3600%\n",
            "Epoch: 4 ........... Training Accuracy: 11.2383%.....Training Loss: 2.2860.....Test Accuracy : 11.3500%\n",
            "Epoch: 5 ........... Training Accuracy: 11.2367%.....Training Loss: 2.2826.....Test Accuracy : 11.3500%\n",
            "Epoch: 6 ........... Training Accuracy: 11.2400%.....Training Loss: 2.2768.....Test Accuracy : 11.8800%\n",
            "Epoch: 7 ........... Training Accuracy: 11.6500%.....Training Loss: 2.2633.....Test Accuracy : 17.8000%\n",
            "Epoch: 8 ........... Training Accuracy: 16.8017%.....Training Loss: 2.2442.....Test Accuracy : 39.4000%\n",
            "Epoch: 9 ........... Training Accuracy: 38.4600%.....Training Loss: 2.2247.....Test Accuracy : 47.8000%\n",
            "Epoch: 10 ........... Training Accuracy: 47.6867%.....Training Loss: 2.2083.....Test Accuracy : 32.9600%\n",
            "Epoch: 11 ........... Training Accuracy: 32.8233%.....Training Loss: 2.1933.....Test Accuracy : 31.8200%\n",
            "Epoch: 12 ........... Training Accuracy: 31.9917%.....Training Loss: 2.1758.....Test Accuracy : 43.1500%\n",
            "Epoch: 13 ........... Training Accuracy: 42.8683%.....Training Loss: 2.1535.....Test Accuracy : 53.9900%\n",
            "Epoch: 14 ........... Training Accuracy: 53.6333%.....Training Loss: 2.1275.....Test Accuracy : 56.0000%\n",
            "Epoch: 15 ........... Training Accuracy: 55.1167%.....Training Loss: 2.1005.....Test Accuracy : 52.9300%\n",
            "Epoch: 16 ........... Training Accuracy: 51.9433%.....Training Loss: 2.0736.....Test Accuracy : 52.1700%\n",
            "Epoch: 17 ........... Training Accuracy: 51.2900%.....Training Loss: 2.0456.....Test Accuracy : 54.0300%\n",
            "Epoch: 18 ........... Training Accuracy: 53.3000%.....Training Loss: 2.0144.....Test Accuracy : 57.6000%\n",
            "Epoch: 19 ........... Training Accuracy: 57.2817%.....Training Loss: 1.9789.....Test Accuracy : 62.2000%\n",
            "Epoch: 20 ........... Training Accuracy: 61.7683%.....Training Loss: 1.9401.....Test Accuracy : 65.6000%\n",
            "Epoch: 21 ........... Training Accuracy: 64.7717%.....Training Loss: 1.8992.....Test Accuracy : 66.8100%\n",
            "Epoch: 22 ........... Training Accuracy: 65.6167%.....Training Loss: 1.8566.....Test Accuracy : 66.7700%\n",
            "Epoch: 23 ........... Training Accuracy: 65.7917%.....Training Loss: 1.8120.....Test Accuracy : 67.1800%\n",
            "Epoch: 24 ........... Training Accuracy: 66.2017%.....Training Loss: 1.7645.....Test Accuracy : 68.4900%\n",
            "Epoch: 25 ........... Training Accuracy: 66.9883%.....Training Loss: 1.7142.....Test Accuracy : 69.6400%\n",
            "Epoch: 26 ........... Training Accuracy: 68.1317%.....Training Loss: 1.6620.....Test Accuracy : 70.5300%\n",
            "Epoch: 27 ........... Training Accuracy: 69.0617%.....Training Loss: 1.6090.....Test Accuracy : 71.1000%\n",
            "Epoch: 28 ........... Training Accuracy: 70.1017%.....Training Loss: 1.5558.....Test Accuracy : 71.7400%\n",
            "Epoch: 29 ........... Training Accuracy: 70.8667%.....Training Loss: 1.5024.....Test Accuracy : 72.5700%\n",
            "Epoch: 30 ........... Training Accuracy: 71.6950%.....Training Loss: 1.4489.....Test Accuracy : 73.5700%\n",
            "Epoch: 31 ........... Training Accuracy: 72.6400%.....Training Loss: 1.3957.....Test Accuracy : 74.5000%\n",
            "Epoch: 32 ........... Training Accuracy: 73.5083%.....Training Loss: 1.3434.....Test Accuracy : 75.2900%\n",
            "Epoch: 33 ........... Training Accuracy: 74.2667%.....Training Loss: 1.2928.....Test Accuracy : 75.8000%\n",
            "Epoch: 34 ........... Training Accuracy: 74.9400%.....Training Loss: 1.2441.....Test Accuracy : 76.5700%\n",
            "Epoch: 35 ........... Training Accuracy: 75.5383%.....Training Loss: 1.1976.....Test Accuracy : 77.1100%\n",
            "Epoch: 36 ........... Training Accuracy: 76.2100%.....Training Loss: 1.1531.....Test Accuracy : 77.7200%\n",
            "Epoch: 37 ........... Training Accuracy: 76.9317%.....Training Loss: 1.1108.....Test Accuracy : 78.4300%\n",
            "Epoch: 38 ........... Training Accuracy: 77.6017%.....Training Loss: 1.0705.....Test Accuracy : 78.9600%\n",
            "Epoch: 39 ........... Training Accuracy: 78.1817%.....Training Loss: 1.0328.....Test Accuracy : 79.3400%\n",
            "Epoch: 40 ........... Training Accuracy: 78.6367%.....Training Loss: 0.9974.....Test Accuracy : 79.6400%\n",
            "Epoch: 41 ........... Training Accuracy: 79.1333%.....Training Loss: 0.9644.....Test Accuracy : 79.9400%\n",
            "Epoch: 42 ........... Training Accuracy: 79.5167%.....Training Loss: 0.9336.....Test Accuracy : 80.2100%\n",
            "Epoch: 43 ........... Training Accuracy: 79.8283%.....Training Loss: 0.9046.....Test Accuracy : 80.5500%\n",
            "Epoch: 44 ........... Training Accuracy: 80.0917%.....Training Loss: 0.8775.....Test Accuracy : 80.8400%\n",
            "Epoch: 45 ........... Training Accuracy: 80.3867%.....Training Loss: 0.8524.....Test Accuracy : 80.9900%\n",
            "Epoch: 46 ........... Training Accuracy: 80.6433%.....Training Loss: 0.8289.....Test Accuracy : 81.3500%\n",
            "Epoch: 47 ........... Training Accuracy: 80.9333%.....Training Loss: 0.8070.....Test Accuracy : 81.6700%\n",
            "Epoch: 48 ........... Training Accuracy: 81.2617%.....Training Loss: 0.7867.....Test Accuracy : 81.9600%\n",
            "Epoch: 49 ........... Training Accuracy: 81.5683%.....Training Loss: 0.7678.....Test Accuracy : 82.1700%\n",
            "Epoch: 50 ........... Training Accuracy: 81.8850%.....Training Loss: 0.7499.....Test Accuracy : 82.4000%\n",
            " Training for Learning Rate = 0.2 \n",
            "\n",
            "\n",
            "\n",
            "\n",
            "\n",
            " Batch Size =  64 \n",
            "\n",
            "Epoch: 1 ........... Training Accuracy: 9.7517%.....Training Loss: 2.3857.....Test Accuracy : 7.9500%\n",
            "Epoch: 2 ........... Training Accuracy: 8.0967%.....Training Loss: 2.3161.....Test Accuracy : 11.4000%\n",
            "Epoch: 3 ........... Training Accuracy: 11.2683%.....Training Loss: 2.2900.....Test Accuracy : 12.8800%\n",
            "Epoch: 4 ........... Training Accuracy: 12.7083%.....Training Loss: 2.3176.....Test Accuracy : 23.5100%\n",
            "Epoch: 5 ........... Training Accuracy: 23.2067%.....Training Loss: 2.3111.....Test Accuracy : 29.0700%\n",
            "Epoch: 6 ........... Training Accuracy: 28.5567%.....Training Loss: 2.2519.....Test Accuracy : 51.8900%\n",
            "Epoch: 7 ........... Training Accuracy: 51.8983%.....Training Loss: 2.2061.....Test Accuracy : 19.6200%\n",
            "Epoch: 8 ........... Training Accuracy: 18.4300%.....Training Loss: 2.1976.....Test Accuracy : 10.7500%\n",
            "Epoch: 9 ........... Training Accuracy: 10.5233%.....Training Loss: 2.1791.....Test Accuracy : 37.5800%\n",
            "Epoch: 10 ........... Training Accuracy: 36.0000%.....Training Loss: 2.1230.....Test Accuracy : 54.7300%\n",
            "Epoch: 11 ........... Training Accuracy: 52.8167%.....Training Loss: 2.0612.....Test Accuracy : 44.1500%\n",
            "Epoch: 12 ........... Training Accuracy: 43.1100%.....Training Loss: 2.0192.....Test Accuracy : 44.1800%\n",
            "Epoch: 13 ........... Training Accuracy: 43.1800%.....Training Loss: 1.9757.....Test Accuracy : 51.2200%\n",
            "Epoch: 14 ........... Training Accuracy: 50.4750%.....Training Loss: 1.9079.....Test Accuracy : 62.0200%\n",
            "Epoch: 15 ........... Training Accuracy: 61.2100%.....Training Loss: 1.8246.....Test Accuracy : 70.3500%\n",
            "Epoch: 16 ........... Training Accuracy: 69.5933%.....Training Loss: 1.7455.....Test Accuracy : 72.9700%\n",
            "Epoch: 17 ........... Training Accuracy: 72.1600%.....Training Loss: 1.6694.....Test Accuracy : 74.4300%\n",
            "Epoch: 18 ........... Training Accuracy: 73.3600%.....Training Loss: 1.5826.....Test Accuracy : 74.5900%\n",
            "Epoch: 19 ........... Training Accuracy: 72.9933%.....Training Loss: 1.4865.....Test Accuracy : 71.7600%\n",
            "Epoch: 20 ........... Training Accuracy: 70.3150%.....Training Loss: 1.3943.....Test Accuracy : 69.6000%\n",
            "Epoch: 21 ........... Training Accuracy: 68.4583%.....Training Loss: 1.3107.....Test Accuracy : 69.8700%\n",
            "Epoch: 22 ........... Training Accuracy: 68.8700%.....Training Loss: 1.2298.....Test Accuracy : 72.3600%\n",
            "Epoch: 23 ........... Training Accuracy: 71.3650%.....Training Loss: 1.1489.....Test Accuracy : 75.8800%\n",
            "Epoch: 24 ........... Training Accuracy: 74.7900%.....Training Loss: 1.0734.....Test Accuracy : 78.2000%\n",
            "Epoch: 25 ........... Training Accuracy: 77.4950%.....Training Loss: 1.0083.....Test Accuracy : 79.4800%\n",
            "Epoch: 26 ........... Training Accuracy: 79.0433%.....Training Loss: 0.9523.....Test Accuracy : 80.4500%\n",
            "Epoch: 27 ........... Training Accuracy: 79.8500%.....Training Loss: 0.9008.....Test Accuracy : 80.7400%\n",
            "Epoch: 28 ........... Training Accuracy: 80.2067%.....Training Loss: 0.8531.....Test Accuracy : 80.8400%\n",
            "Epoch: 29 ........... Training Accuracy: 80.0333%.....Training Loss: 0.8114.....Test Accuracy : 80.6300%\n",
            "Epoch: 30 ........... Training Accuracy: 79.9833%.....Training Loss: 0.7760.....Test Accuracy : 80.9700%\n",
            "Epoch: 31 ........... Training Accuracy: 80.2317%.....Training Loss: 0.7449.....Test Accuracy : 81.4700%\n",
            "Epoch: 32 ........... Training Accuracy: 80.8017%.....Training Loss: 0.7162.....Test Accuracy : 82.0700%\n",
            "Epoch: 33 ........... Training Accuracy: 81.4483%.....Training Loss: 0.6900.....Test Accuracy : 82.5000%\n",
            "Epoch: 34 ........... Training Accuracy: 82.1133%.....Training Loss: 0.6666.....Test Accuracy : 83.0600%\n",
            "Epoch: 35 ........... Training Accuracy: 82.5400%.....Training Loss: 0.6466.....Test Accuracy : 83.3600%\n",
            "Epoch: 36 ........... Training Accuracy: 82.8217%.....Training Loss: 0.6282.....Test Accuracy : 83.6100%\n",
            "Epoch: 37 ........... Training Accuracy: 83.0750%.....Training Loss: 0.6113.....Test Accuracy : 83.7000%\n",
            "Epoch: 38 ........... Training Accuracy: 83.2300%.....Training Loss: 0.5954.....Test Accuracy : 84.0500%\n",
            "Epoch: 39 ........... Training Accuracy: 83.5283%.....Training Loss: 0.5809.....Test Accuracy : 84.3800%\n",
            "Epoch: 40 ........... Training Accuracy: 83.7650%.....Training Loss: 0.5677.....Test Accuracy : 84.5900%\n",
            "Epoch: 41 ........... Training Accuracy: 84.0000%.....Training Loss: 0.5555.....Test Accuracy : 84.8700%\n",
            "Epoch: 42 ........... Training Accuracy: 84.3483%.....Training Loss: 0.5444.....Test Accuracy : 85.2100%\n",
            "Epoch: 43 ........... Training Accuracy: 84.7050%.....Training Loss: 0.5337.....Test Accuracy : 85.4800%\n",
            "Epoch: 44 ........... Training Accuracy: 84.9983%.....Training Loss: 0.5236.....Test Accuracy : 85.7100%\n",
            "Epoch: 45 ........... Training Accuracy: 85.3150%.....Training Loss: 0.5142.....Test Accuracy : 85.9100%\n",
            "Epoch: 46 ........... Training Accuracy: 85.6050%.....Training Loss: 0.5055.....Test Accuracy : 86.1200%\n",
            "Epoch: 47 ........... Training Accuracy: 85.8050%.....Training Loss: 0.4973.....Test Accuracy : 86.3500%\n",
            "Epoch: 48 ........... Training Accuracy: 86.0133%.....Training Loss: 0.4896.....Test Accuracy : 86.6500%\n",
            "Epoch: 49 ........... Training Accuracy: 86.1667%.....Training Loss: 0.4821.....Test Accuracy : 86.9200%\n",
            "Epoch: 50 ........... Training Accuracy: 86.3833%.....Training Loss: 0.4752.....Test Accuracy : 87.1400%\n",
            " Training for Learning Rate = 0.5 \n",
            "\n",
            "\n",
            "\n",
            "\n",
            "\n",
            " Batch Size =  64 \n",
            "\n",
            "Epoch: 1 ........... Training Accuracy: 9.9300%.....Training Loss: 2.3440.....Test Accuracy : 11.3500%\n",
            "Epoch: 2 ........... Training Accuracy: 11.2367%.....Training Loss: 2.2950.....Test Accuracy : 11.3500%\n",
            "Epoch: 3 ........... Training Accuracy: 11.2367%.....Training Loss: 2.3199.....Test Accuracy : 42.9000%\n",
            "Epoch: 4 ........... Training Accuracy: 42.5950%.....Training Loss: 2.2411.....Test Accuracy : 19.0200%\n",
            "Epoch: 5 ........... Training Accuracy: 18.3300%.....Training Loss: 2.2131.....Test Accuracy : 18.2700%\n",
            "Epoch: 6 ........... Training Accuracy: 17.7750%.....Training Loss: 2.1640.....Test Accuracy : 40.0400%\n",
            "Epoch: 7 ........... Training Accuracy: 38.9400%.....Training Loss: 2.0690.....Test Accuracy : 45.4000%\n",
            "Epoch: 8 ........... Training Accuracy: 43.9117%.....Training Loss: 2.0061.....Test Accuracy : 59.6000%\n",
            "Epoch: 9 ........... Training Accuracy: 58.9500%.....Training Loss: 1.8780.....Test Accuracy : 68.0600%\n",
            "Epoch: 10 ........... Training Accuracy: 67.6017%.....Training Loss: 1.7418.....Test Accuracy : 64.1200%\n",
            "Epoch: 11 ........... Training Accuracy: 62.4783%.....Training Loss: 1.6012.....Test Accuracy : 70.1400%\n",
            "Epoch: 12 ........... Training Accuracy: 68.6633%.....Training Loss: 1.4237.....Test Accuracy : 70.0600%\n",
            "Epoch: 13 ........... Training Accuracy: 68.7450%.....Training Loss: 1.2721.....Test Accuracy : 74.1300%\n",
            "Epoch: 14 ........... Training Accuracy: 73.3633%.....Training Loss: 1.1213.....Test Accuracy : 78.4400%\n",
            "Epoch: 15 ........... Training Accuracy: 77.8800%.....Training Loss: 0.9825.....Test Accuracy : 78.4400%\n",
            "Epoch: 16 ........... Training Accuracy: 77.6367%.....Training Loss: 0.8845.....Test Accuracy : 80.2600%\n",
            "Epoch: 17 ........... Training Accuracy: 79.6183%.....Training Loss: 0.7920.....Test Accuracy : 81.4500%\n",
            "Epoch: 18 ........... Training Accuracy: 80.7050%.....Training Loss: 0.7219.....Test Accuracy : 81.5300%\n",
            "Epoch: 19 ........... Training Accuracy: 81.1883%.....Training Loss: 0.6746.....Test Accuracy : 82.7900%\n",
            "Epoch: 20 ........... Training Accuracy: 82.0150%.....Training Loss: 0.6283.....Test Accuracy : 83.1700%\n",
            "Epoch: 21 ........... Training Accuracy: 82.4333%.....Training Loss: 0.5936.....Test Accuracy : 83.8300%\n",
            "Epoch: 22 ........... Training Accuracy: 83.0100%.....Training Loss: 0.5683.....Test Accuracy : 84.8400%\n",
            "Epoch: 23 ........... Training Accuracy: 83.8317%.....Training Loss: 0.5452.....Test Accuracy : 85.2800%\n",
            "Epoch: 24 ........... Training Accuracy: 84.5933%.....Training Loss: 0.5253.....Test Accuracy : 85.5800%\n",
            "Epoch: 25 ........... Training Accuracy: 85.0083%.....Training Loss: 0.5085.....Test Accuracy : 85.9700%\n",
            "Epoch: 26 ........... Training Accuracy: 85.3067%.....Training Loss: 0.4938.....Test Accuracy : 86.4100%\n",
            "Epoch: 27 ........... Training Accuracy: 85.6883%.....Training Loss: 0.4806.....Test Accuracy : 86.7200%\n",
            "Epoch: 28 ........... Training Accuracy: 86.1833%.....Training Loss: 0.4683.....Test Accuracy : 87.3100%\n",
            "Epoch: 29 ........... Training Accuracy: 86.5850%.....Training Loss: 0.4572.....Test Accuracy : 87.7500%\n",
            "Epoch: 30 ........... Training Accuracy: 86.9600%.....Training Loss: 0.4467.....Test Accuracy : 87.9800%\n",
            "Epoch: 31 ........... Training Accuracy: 87.2083%.....Training Loss: 0.4378.....Test Accuracy : 88.3300%\n",
            "Epoch: 32 ........... Training Accuracy: 87.4283%.....Training Loss: 0.4287.....Test Accuracy : 88.5800%\n",
            "Epoch: 33 ........... Training Accuracy: 87.6733%.....Training Loss: 0.4195.....Test Accuracy : 88.8600%\n",
            "Epoch: 34 ........... Training Accuracy: 88.0067%.....Training Loss: 0.4117.....Test Accuracy : 89.0400%\n",
            "Epoch: 35 ........... Training Accuracy: 88.2583%.....Training Loss: 0.4045.....Test Accuracy : 89.2900%\n",
            "Epoch: 36 ........... Training Accuracy: 88.4617%.....Training Loss: 0.3972.....Test Accuracy : 89.5700%\n",
            "Epoch: 37 ........... Training Accuracy: 88.6417%.....Training Loss: 0.3898.....Test Accuracy : 89.6200%\n",
            "Epoch: 38 ........... Training Accuracy: 88.7717%.....Training Loss: 0.3834.....Test Accuracy : 89.7100%\n",
            "Epoch: 39 ........... Training Accuracy: 88.9150%.....Training Loss: 0.3771.....Test Accuracy : 89.8200%\n",
            "Epoch: 40 ........... Training Accuracy: 89.1467%.....Training Loss: 0.3710.....Test Accuracy : 89.9600%\n",
            "Epoch: 41 ........... Training Accuracy: 89.3017%.....Training Loss: 0.3655.....Test Accuracy : 90.0400%\n",
            "Epoch: 42 ........... Training Accuracy: 89.4900%.....Training Loss: 0.3603.....Test Accuracy : 90.1300%\n",
            "Epoch: 43 ........... Training Accuracy: 89.6033%.....Training Loss: 0.3553.....Test Accuracy : 90.2400%\n",
            "Epoch: 44 ........... Training Accuracy: 89.6917%.....Training Loss: 0.3506.....Test Accuracy : 90.2400%\n",
            "Epoch: 45 ........... Training Accuracy: 89.8217%.....Training Loss: 0.3465.....Test Accuracy : 90.3300%\n",
            "Epoch: 46 ........... Training Accuracy: 89.9250%.....Training Loss: 0.3427.....Test Accuracy : 90.4600%\n",
            "Epoch: 47 ........... Training Accuracy: 90.0050%.....Training Loss: 0.3387.....Test Accuracy : 90.5400%\n",
            "Epoch: 48 ........... Training Accuracy: 90.0867%.....Training Loss: 0.3353.....Test Accuracy : 90.6400%\n",
            "Epoch: 49 ........... Training Accuracy: 90.1650%.....Training Loss: 0.3320.....Test Accuracy : 90.7500%\n",
            "Epoch: 50 ........... Training Accuracy: 90.2750%.....Training Loss: 0.3288.....Test Accuracy : 90.8400%\n"
          ],
          "name": "stdout"
        }
      ]
    },
    {
      "cell_type": "code",
      "metadata": {
        "id": "YIh5SIh0LukG"
      },
      "source": [
        "TestAcc = np.array(TestAcc)\r\n",
        "TrainAcc = np.array(TrainAcc)\r\n",
        "BestTestError = 100 - TestAcc[:, 49]\r\n",
        "BestTrainError = 100 -  TrainAcc[:, 49]"
      ],
      "execution_count": 45,
      "outputs": []
    },
    {
      "cell_type": "code",
      "metadata": {
        "colab": {
          "base_uri": "https://localhost:8080/"
        },
        "id": "ammVtz4ye_XI",
        "outputId": "84711827-cb74-495f-874c-d91c779fac1a"
      },
      "source": [
        "LearningRateOptions"
      ],
      "execution_count": 72,
      "outputs": [
        {
          "output_type": "execute_result",
          "data": {
            "text/plain": [
              "[0.025, 0.05, 0.1, 0.2, 0.5]"
            ]
          },
          "metadata": {
            "tags": []
          },
          "execution_count": 72
        }
      ]
    },
    {
      "cell_type": "code",
      "metadata": {
        "colab": {
          "base_uri": "https://localhost:8080/",
          "height": 373
        },
        "id": "VwHkJRPte2ve",
        "outputId": "30f4ebcc-58d5-4949-837a-437a43983a9f"
      },
      "source": [
        "### Plotting the test accuracies Vs Epochs for different Learning rates\r\n",
        "fig = plt.figure(figsize=[15,5]) \r\n",
        "plt.subplot(121)\r\n",
        "plt.title(\"Acc vs Epoch\",  fontsize = 20,fontname=\"Times New Roman Bold\")\r\n",
        "plt.plot(range(50),TestAcc[0, :],'r-',label='Batch size=64,lr=.025') \r\n",
        "plt.plot(range(50),TestAcc[1, :],'r-',color='blue',label='Batch size=64,lr=.05') \r\n",
        "\r\n",
        "plt.legend()\r\n",
        "plt.xlabel('Epochs')\r\n",
        "plt.ylabel('Test Accuracy')\r\n",
        "plt.subplot(122)\r\n",
        "plt.title(\"Acc vs Epoch\",  fontsize = 20,fontname=\"Times New Roman Bold\")\r\n",
        "plt.plot(range(50),TestAcc[3, :], 'g-',label='Batch size=64,lr=.2') \r\n",
        "plt.plot(range(50),TestAcc[4, :],'g-', color='blue',label='Batch size=64, lr=.5') \r\n",
        " \r\n",
        "plt.legend()\r\n",
        "plt.xlabel('Epochs')\r\n",
        "plt.ylabel('Test Accuracy')"
      ],
      "execution_count": 76,
      "outputs": [
        {
          "output_type": "execute_result",
          "data": {
            "text/plain": [
              "Text(0, 0.5, 'Test Accuracy')"
            ]
          },
          "metadata": {
            "tags": []
          },
          "execution_count": 76
        },
        {
          "output_type": "display_data",
          "data": {
            "image/png": "[encoded data removed]",
            "text/plain": [
              "<Figure size 1080x360 with 2 Axes>"
            ]
          },
          "metadata": {
            "tags": [],
            "needs_background": "light"
          }
        }
      ]
    },
    {
      "cell_type": "code",
      "metadata": {
        "colab": {
          "base_uri": "https://localhost:8080/",
          "height": 431
        },
        "id": "MnOV56YRSy1A",
        "outputId": "6d65eecb-a838-46a4-91a7-0589a9210f65"
      },
      "source": [
        "fig = plt.figure(figsize = (10, 6)) \r\n",
        "#plt.title(\"Learning Rate = 0.1\",  fontsize = 20,fontname=\"Times New Roman Bold\")\r\n",
        "\r\n",
        "plt.plot(LearningRateOptions, BestTestAcc,'r-',label='Testing') \r\n",
        "plt.legend()\r\n",
        "plt.title(\"Best Testing Error % vs Learning Rate\", fontsize = 20,fontname=\"Times New Roman Bold\")\r\n",
        "plt.xlabel('Learning Rate', fontsize = 16)\r\n",
        "plt.ylabel('Error %', fontsize = 16)"
      ],
      "execution_count": 77,
      "outputs": [
        {
          "output_type": "execute_result",
          "data": {
            "text/plain": [
              "Text(0, 0.5, 'Error %')"
            ]
          },
          "metadata": {
            "tags": []
          },
          "execution_count": 77
        },
        {
          "output_type": "display_data",
          "data": {
            "image/png": "[encoded data removed]",
            "text/plain": [
              "<Figure size 720x432 with 1 Axes>"
            ]
          },
          "metadata": {
            "tags": [],
            "needs_background": "light"
          }
        }
      ]
    },
    {
      "cell_type": "code",
      "metadata": {
        "id": "Y7JCuyjKS9Ie"
      },
      "source": [
        ""
      ],
      "execution_count": null,
      "outputs": []
    },
    {
      "cell_type": "markdown",
      "metadata": {
        "id": "xlr_O4EpUVk4"
      },
      "source": [
        "Question 6B) Here it is evident that if the learning rate is increased then our Testing Error decreases, hence we need to Train our model with a higher Learning Rate, i.e Learning Rate = 0.5\r\n",
        "\r\n",
        "Conclusion: 6b) Learning Rate = 0.5 gives the best test accuarcy. So I would prefer learning rate = 0.5 for this problem"
      ]
    },
    {
      "cell_type": "markdown",
      "metadata": {
        "id": "Ua2M3UobU6uK"
      },
      "source": [
        "We also need to note that If the Learning Rate is lower then the convergence is slower, hence we would need to train it for more number of Epochs for lwer learning Rate. For 50 Epochs, learning rate 0.5 is the most desirable"
      ]
    },
    {
      "cell_type": "code",
      "metadata": {
        "id": "IP4ezvFVU088"
      },
      "source": [
        ""
      ],
      "execution_count": null,
      "outputs": []
    },
    {
      "cell_type": "markdown",
      "metadata": {
        "id": "NnNiV4WbVsDp"
      },
      "source": [
        "# Question 6C: Stochastic Gradient Descent with **Restarts**"
      ]
    },
    {
      "cell_type": "code",
      "metadata": {
        "id": "fZJ5NDxMV4C9"
      },
      "source": [
        "### The Algorithm that we use is We initialise the Learning Rate at 0.5, which gave the best Results as per 6 B)\r\n",
        "## We train the algorithm for say 100 Epochs and after 50 for evry 10 Epochs we reduce the Learning Rate by 0.2 till 70 epochs\r\n",
        "### Then from 70 Epochs to 100 Epochs we divide the learning Rate by 2 for every 10 epochs\r\n",
        "## So roughly Learning rate algorithm is \r\n"
      ],
      "execution_count": 9,
      "outputs": []
    },
    {
      "cell_type": "code",
      "metadata": {
        "id": "Jjcs6ERbW-6h"
      },
      "source": [
        "Epoch no.              Learning Rate\r\n",
        "0 - 50                 0.5\r\n",
        "50 - 60                0.3    # -0.2\r\n",
        "60 - 70                0.1\r\n",
        "70 - 80                0.05   # / 2\r\n",
        "80 - 90                0.025\r\n",
        "90 - 100               0.0125"
      ],
      "execution_count": null,
      "outputs": []
    },
    {
      "cell_type": "code",
      "metadata": {
        "colab": {
          "base_uri": "https://localhost:8080/"
        },
        "id": "pwD1TbsOXI6y",
        "outputId": "856dd8ac-16e1-466e-c948-444d8445dc96"
      },
      "source": [
        "### This is the Training Cell,\r\n",
        "## We have encoded the Learning Rate Restart in the function\r\n",
        "\r\n",
        "input_size = 784\r\n",
        "hidden_size = 100\r\n",
        "output_size = 10\r\n",
        "model = FullyConnected(input_size, hidden_size, output_size).to(device)\r\n",
        "loss = nn.CrossEntropyLoss()\r\n",
        "\r\n",
        "EPOCHS = 100\r\n",
        "\r\n",
        "train_loss =  []\r\n",
        "train_acc = []\r\n",
        "test_acc = []\r\n",
        "\r\n",
        "intitial_learning_rate = 0.5 ##\r\n",
        "\r\n",
        "optimizer = optim.SGD( model.parameters(), lr = 0.5,  momentum=0.9 )\r\n",
        "lr = intitial_learning_rate\r\n",
        "for epoch in range(EPOCHS):\r\n",
        "        \r\n",
        "        if(epoch >= 50 and epoch < 70):         ## First LR restart ## Linear decrease\r\n",
        "            lr = intitial_learning_rate - 0.02*(epoch - 50)\r\n",
        "            optimizer = optim.SGD( model.parameters(), lr = intitial_learning_rate - 0.02*(epoch - 50),  momentum=0.9 )\r\n",
        "        \r\n",
        "        if(epoch >= 70 and (epoch %10) == 0):  ## More LR restart, as we go closer to 100 Eochs we make it exponential decrease instead of linear\r\n",
        "           lr = 0.1/(2**((epoch - 60)/10))\r\n",
        "           optimizer = optim.SGD( model.parameters(), lr = lr,  momentum=0.9 )\r\n",
        "\r\n",
        "\r\n",
        "\r\n",
        "        running_loss = 0\r\n",
        "        correct_predictions = 0\r\n",
        "        \r\n",
        "        for batch_index, (image_data, classes) in enumerate(train_loader_64):\r\n",
        "            \r\n",
        "            X = image_data.to(device)\r\n",
        "            y = classes.to(device)\r\n",
        "            \r\n",
        "            X = X.view(X.shape[0], -1)  ## do this for the FCC part\r\n",
        "            \r\n",
        "            logits = model.forward(X)\r\n",
        "            \r\n",
        "            predictions = torch.argmax(logits, dim = 1)\r\n",
        "            \r\n",
        "            running_loss += loss(logits, y)\r\n",
        "            \r\n",
        "            #print(classes)\r\n",
        "            correct_predictions += torch.sum(predictions == y)\r\n",
        "            \r\n",
        "            optimizer.zero_grad()\r\n",
        "            \r\n",
        "        totalLoss = running_loss/(batch_index + 1)\r\n",
        "        \r\n",
        "        totalLoss.backward()\r\n",
        "        \r\n",
        "        optimizer.step()\r\n",
        "        \r\n",
        "        epoch_loss = running_loss.item()/(batch_index + 1)\r\n",
        "        epoch_acc = correct_predictions/(60000)\r\n",
        "        \r\n",
        "        train_loss.append(epoch_loss)\r\n",
        "        train_acc.append(epoch_acc)\r\n",
        "        test_acc.append(test_accuracy(model, test_loader, 0, True).item())\r\n",
        "        \r\n",
        "        print(\"lr: {}  Epoch: {} ........... Training Accuracy: {:.4f}%.....Training Loss: {:.4f}.....Test Accuracy : {:.4f}%\".format(lr, epoch + 1, epoch_acc*100, epoch_loss, test_accuracy(model, test_loader, 0, True).item()))"
      ],
      "execution_count": 10,
      "outputs": [
        {
          "output_type": "stream",
          "text": [
            "lr: 0.5  Epoch: 1 ........... Training Accuracy: 10.4417%.....Training Loss: 2.3632.....Test Accuracy : 11.3500%\n",
            "lr: 0.5  Epoch: 2 ........... Training Accuracy: 11.2450%.....Training Loss: 2.3042.....Test Accuracy : 11.3500%\n",
            "lr: 0.5  Epoch: 3 ........... Training Accuracy: 11.2367%.....Training Loss: 2.3475.....Test Accuracy : 36.3000%\n",
            "lr: 0.5  Epoch: 4 ........... Training Accuracy: 35.4033%.....Training Loss: 2.2500.....Test Accuracy : 13.7300%\n",
            "lr: 0.5  Epoch: 5 ........... Training Accuracy: 13.6767%.....Training Loss: 2.2143.....Test Accuracy : 11.9800%\n",
            "lr: 0.5  Epoch: 6 ........... Training Accuracy: 11.8917%.....Training Loss: 2.1769.....Test Accuracy : 43.7600%\n",
            "lr: 0.5  Epoch: 7 ........... Training Accuracy: 42.1650%.....Training Loss: 2.0612.....Test Accuracy : 38.5500%\n",
            "lr: 0.5  Epoch: 8 ........... Training Accuracy: 36.7700%.....Training Loss: 2.0096.....Test Accuracy : 57.8500%\n",
            "lr: 0.5  Epoch: 9 ........... Training Accuracy: 56.7983%.....Training Loss: 1.8732.....Test Accuracy : 69.5900%\n",
            "lr: 0.5  Epoch: 10 ........... Training Accuracy: 68.7817%.....Training Loss: 1.7238.....Test Accuracy : 55.7700%\n",
            "lr: 0.5  Epoch: 11 ........... Training Accuracy: 55.7933%.....Training Loss: 1.5942.....Test Accuracy : 71.0500%\n",
            "lr: 0.5  Epoch: 12 ........... Training Accuracy: 70.1550%.....Training Loss: 1.3993.....Test Accuracy : 72.3300%\n",
            "lr: 0.5  Epoch: 13 ........... Training Accuracy: 70.9300%.....Training Loss: 1.2530.....Test Accuracy : 74.2800%\n",
            "lr: 0.5  Epoch: 14 ........... Training Accuracy: 73.1300%.....Training Loss: 1.1059.....Test Accuracy : 79.8300%\n",
            "lr: 0.5  Epoch: 15 ........... Training Accuracy: 78.9267%.....Training Loss: 0.9615.....Test Accuracy : 78.8900%\n",
            "lr: 0.5  Epoch: 16 ........... Training Accuracy: 77.9717%.....Training Loss: 0.8689.....Test Accuracy : 81.0100%\n",
            "lr: 0.5  Epoch: 17 ........... Training Accuracy: 80.0200%.....Training Loss: 0.7820.....Test Accuracy : 82.2800%\n",
            "lr: 0.5  Epoch: 18 ........... Training Accuracy: 81.8950%.....Training Loss: 0.7084.....Test Accuracy : 82.1100%\n",
            "lr: 0.5  Epoch: 19 ........... Training Accuracy: 81.5600%.....Training Loss: 0.6640.....Test Accuracy : 83.0000%\n",
            "lr: 0.5  Epoch: 20 ........... Training Accuracy: 82.3833%.....Training Loss: 0.6204.....Test Accuracy : 83.8700%\n",
            "lr: 0.5  Epoch: 21 ........... Training Accuracy: 83.2033%.....Training Loss: 0.5852.....Test Accuracy : 84.3200%\n",
            "lr: 0.5  Epoch: 22 ........... Training Accuracy: 83.7783%.....Training Loss: 0.5608.....Test Accuracy : 85.0000%\n",
            "lr: 0.5  Epoch: 23 ........... Training Accuracy: 84.3083%.....Training Loss: 0.5375.....Test Accuracy : 85.3800%\n",
            "lr: 0.5  Epoch: 24 ........... Training Accuracy: 84.7967%.....Training Loss: 0.5164.....Test Accuracy : 85.8100%\n",
            "lr: 0.5  Epoch: 25 ........... Training Accuracy: 85.2667%.....Training Loss: 0.5005.....Test Accuracy : 86.0700%\n",
            "lr: 0.5  Epoch: 26 ........... Training Accuracy: 85.7133%.....Training Loss: 0.4878.....Test Accuracy : 86.5300%\n",
            "lr: 0.5  Epoch: 27 ........... Training Accuracy: 86.2350%.....Training Loss: 0.4733.....Test Accuracy : 87.0700%\n",
            "lr: 0.5  Epoch: 28 ........... Training Accuracy: 86.7550%.....Training Loss: 0.4593.....Test Accuracy : 87.6200%\n",
            "lr: 0.5  Epoch: 29 ........... Training Accuracy: 86.9900%.....Training Loss: 0.4493.....Test Accuracy : 88.0200%\n",
            "lr: 0.5  Epoch: 30 ........... Training Accuracy: 87.2517%.....Training Loss: 0.4400.....Test Accuracy : 88.3400%\n",
            "lr: 0.5  Epoch: 31 ........... Training Accuracy: 87.6133%.....Training Loss: 0.4300.....Test Accuracy : 88.5100%\n",
            "lr: 0.5  Epoch: 32 ........... Training Accuracy: 87.9517%.....Training Loss: 0.4205.....Test Accuracy : 88.6700%\n",
            "lr: 0.5  Epoch: 33 ........... Training Accuracy: 88.2067%.....Training Loss: 0.4121.....Test Accuracy : 88.9200%\n",
            "lr: 0.5  Epoch: 34 ........... Training Accuracy: 88.3900%.....Training Loss: 0.4047.....Test Accuracy : 89.2000%\n",
            "lr: 0.5  Epoch: 35 ........... Training Accuracy: 88.5583%.....Training Loss: 0.3976.....Test Accuracy : 89.3000%\n",
            "lr: 0.5  Epoch: 36 ........... Training Accuracy: 88.7717%.....Training Loss: 0.3902.....Test Accuracy : 89.5500%\n",
            "lr: 0.5  Epoch: 37 ........... Training Accuracy: 88.9733%.....Training Loss: 0.3836.....Test Accuracy : 89.5400%\n",
            "lr: 0.5  Epoch: 38 ........... Training Accuracy: 89.1117%.....Training Loss: 0.3775.....Test Accuracy : 89.5600%\n",
            "lr: 0.5  Epoch: 39 ........... Training Accuracy: 89.2450%.....Training Loss: 0.3718.....Test Accuracy : 89.8200%\n",
            "lr: 0.5  Epoch: 40 ........... Training Accuracy: 89.3150%.....Training Loss: 0.3662.....Test Accuracy : 89.9300%\n",
            "lr: 0.5  Epoch: 41 ........... Training Accuracy: 89.4517%.....Training Loss: 0.3608.....Test Accuracy : 90.0500%\n",
            "lr: 0.5  Epoch: 42 ........... Training Accuracy: 89.5900%.....Training Loss: 0.3559.....Test Accuracy : 90.1300%\n",
            "lr: 0.5  Epoch: 43 ........... Training Accuracy: 89.6400%.....Training Loss: 0.3516.....Test Accuracy : 90.2100%\n",
            "lr: 0.5  Epoch: 44 ........... Training Accuracy: 89.8000%.....Training Loss: 0.3475.....Test Accuracy : 90.2600%\n",
            "lr: 0.5  Epoch: 45 ........... Training Accuracy: 89.9150%.....Training Loss: 0.3433.....Test Accuracy : 90.3000%\n",
            "lr: 0.5  Epoch: 46 ........... Training Accuracy: 90.0183%.....Training Loss: 0.3396.....Test Accuracy : 90.4200%\n",
            "lr: 0.5  Epoch: 47 ........... Training Accuracy: 90.1267%.....Training Loss: 0.3360.....Test Accuracy : 90.4600%\n",
            "lr: 0.5  Epoch: 48 ........... Training Accuracy: 90.2300%.....Training Loss: 0.3329.....Test Accuracy : 90.5900%\n",
            "lr: 0.5  Epoch: 49 ........... Training Accuracy: 90.3167%.....Training Loss: 0.3298.....Test Accuracy : 90.6300%\n",
            "lr: 0.5  Epoch: 50 ........... Training Accuracy: 90.4167%.....Training Loss: 0.3267.....Test Accuracy : 90.8100%\n",
            "lr: 0.5  Epoch: 51 ........... Training Accuracy: 90.4750%.....Training Loss: 0.3239.....Test Accuracy : 90.8300%\n",
            "lr: 0.48  Epoch: 52 ........... Training Accuracy: 90.4917%.....Training Loss: 0.3236.....Test Accuracy : 90.8000%\n",
            "lr: 0.46  Epoch: 53 ........... Training Accuracy: 90.5100%.....Training Loss: 0.3232.....Test Accuracy : 90.8000%\n",
            "lr: 0.44  Epoch: 54 ........... Training Accuracy: 90.5150%.....Training Loss: 0.3230.....Test Accuracy : 90.8100%\n",
            "lr: 0.42  Epoch: 55 ........... Training Accuracy: 90.5250%.....Training Loss: 0.3227.....Test Accuracy : 90.8100%\n",
            "lr: 0.4  Epoch: 56 ........... Training Accuracy: 90.5333%.....Training Loss: 0.3225.....Test Accuracy : 90.8200%\n",
            "lr: 0.38  Epoch: 57 ........... Training Accuracy: 90.5500%.....Training Loss: 0.3222.....Test Accuracy : 90.8200%\n",
            "lr: 0.36  Epoch: 58 ........... Training Accuracy: 90.5600%.....Training Loss: 0.3220.....Test Accuracy : 90.8300%\n",
            "lr: 0.33999999999999997  Epoch: 59 ........... Training Accuracy: 90.5583%.....Training Loss: 0.3218.....Test Accuracy : 90.8300%\n",
            "lr: 0.32  Epoch: 60 ........... Training Accuracy: 90.5617%.....Training Loss: 0.3217.....Test Accuracy : 90.8300%\n",
            "lr: 0.3  Epoch: 61 ........... Training Accuracy: 90.5617%.....Training Loss: 0.3216.....Test Accuracy : 90.8400%\n",
            "lr: 0.28  Epoch: 62 ........... Training Accuracy: 90.5650%.....Training Loss: 0.3213.....Test Accuracy : 90.8500%\n",
            "lr: 0.26  Epoch: 63 ........... Training Accuracy: 90.5733%.....Training Loss: 0.3212.....Test Accuracy : 90.8600%\n",
            "lr: 0.24  Epoch: 64 ........... Training Accuracy: 90.5717%.....Training Loss: 0.3210.....Test Accuracy : 90.8700%\n",
            "lr: 0.21999999999999997  Epoch: 65 ........... Training Accuracy: 90.5733%.....Training Loss: 0.3209.....Test Accuracy : 90.8700%\n",
            "lr: 0.2  Epoch: 66 ........... Training Accuracy: 90.5817%.....Training Loss: 0.3209.....Test Accuracy : 90.8800%\n",
            "lr: 0.18  Epoch: 67 ........... Training Accuracy: 90.5867%.....Training Loss: 0.3206.....Test Accuracy : 90.9000%\n",
            "lr: 0.15999999999999998  Epoch: 68 ........... Training Accuracy: 90.5933%.....Training Loss: 0.3206.....Test Accuracy : 90.9100%\n",
            "lr: 0.14  Epoch: 69 ........... Training Accuracy: 90.5933%.....Training Loss: 0.3204.....Test Accuracy : 90.9100%\n",
            "lr: 0.12  Epoch: 70 ........... Training Accuracy: 90.5917%.....Training Loss: 0.3204.....Test Accuracy : 90.9200%\n",
            "lr: 0.05  Epoch: 71 ........... Training Accuracy: 90.5917%.....Training Loss: 0.3206.....Test Accuracy : 90.9200%\n",
            "lr: 0.05  Epoch: 72 ........... Training Accuracy: 90.5900%.....Training Loss: 0.3203.....Test Accuracy : 90.9100%\n",
            "lr: 0.05  Epoch: 73 ........... Training Accuracy: 90.5933%.....Training Loss: 0.3202.....Test Accuracy : 90.9200%\n",
            "lr: 0.05  Epoch: 74 ........... Training Accuracy: 90.5983%.....Training Loss: 0.3203.....Test Accuracy : 90.9200%\n",
            "lr: 0.05  Epoch: 75 ........... Training Accuracy: 90.6017%.....Training Loss: 0.3201.....Test Accuracy : 90.9200%\n",
            "lr: 0.05  Epoch: 76 ........... Training Accuracy: 90.6050%.....Training Loss: 0.3201.....Test Accuracy : 90.9200%\n",
            "lr: 0.05  Epoch: 77 ........... Training Accuracy: 90.6083%.....Training Loss: 0.3199.....Test Accuracy : 90.9300%\n",
            "lr: 0.05  Epoch: 78 ........... Training Accuracy: 90.6067%.....Training Loss: 0.3199.....Test Accuracy : 90.9500%\n",
            "lr: 0.05  Epoch: 79 ........... Training Accuracy: 90.6133%.....Training Loss: 0.3196.....Test Accuracy : 90.9600%\n",
            "lr: 0.05  Epoch: 80 ........... Training Accuracy: 90.6217%.....Training Loss: 0.3194.....Test Accuracy : 90.9600%\n",
            "lr: 0.025  Epoch: 81 ........... Training Accuracy: 90.6283%.....Training Loss: 0.3194.....Test Accuracy : 90.9600%\n",
            "lr: 0.025  Epoch: 82 ........... Training Accuracy: 90.6283%.....Training Loss: 0.3192.....Test Accuracy : 90.9600%\n",
            "lr: 0.025  Epoch: 83 ........... Training Accuracy: 90.6283%.....Training Loss: 0.3193.....Test Accuracy : 90.9600%\n",
            "lr: 0.025  Epoch: 84 ........... Training Accuracy: 90.6283%.....Training Loss: 0.3193.....Test Accuracy : 90.9600%\n",
            "lr: 0.025  Epoch: 85 ........... Training Accuracy: 90.6283%.....Training Loss: 0.3191.....Test Accuracy : 90.9600%\n",
            "lr: 0.025  Epoch: 86 ........... Training Accuracy: 90.6283%.....Training Loss: 0.3191.....Test Accuracy : 90.9700%\n",
            "lr: 0.025  Epoch: 87 ........... Training Accuracy: 90.6317%.....Training Loss: 0.3190.....Test Accuracy : 90.9700%\n",
            "lr: 0.025  Epoch: 88 ........... Training Accuracy: 90.6333%.....Training Loss: 0.3190.....Test Accuracy : 90.9700%\n",
            "lr: 0.025  Epoch: 89 ........... Training Accuracy: 90.6367%.....Training Loss: 0.3189.....Test Accuracy : 90.9700%\n",
            "lr: 0.025  Epoch: 90 ........... Training Accuracy: 90.6400%.....Training Loss: 0.3190.....Test Accuracy : 90.9700%\n",
            "lr: 0.0125  Epoch: 91 ........... Training Accuracy: 90.6467%.....Training Loss: 0.3188.....Test Accuracy : 90.9700%\n",
            "lr: 0.0125  Epoch: 92 ........... Training Accuracy: 90.6467%.....Training Loss: 0.3188.....Test Accuracy : 90.9700%\n",
            "lr: 0.0125  Epoch: 93 ........... Training Accuracy: 90.6467%.....Training Loss: 0.3188.....Test Accuracy : 90.9700%\n",
            "lr: 0.0125  Epoch: 94 ........... Training Accuracy: 90.6467%.....Training Loss: 0.3187.....Test Accuracy : 90.9700%\n",
            "lr: 0.0125  Epoch: 95 ........... Training Accuracy: 90.6467%.....Training Loss: 0.3188.....Test Accuracy : 90.9600%\n",
            "lr: 0.0125  Epoch: 96 ........... Training Accuracy: 90.6483%.....Training Loss: 0.3186.....Test Accuracy : 90.9600%\n",
            "lr: 0.0125  Epoch: 97 ........... Training Accuracy: 90.6483%.....Training Loss: 0.3187.....Test Accuracy : 90.9600%\n",
            "lr: 0.0125  Epoch: 98 ........... Training Accuracy: 90.6483%.....Training Loss: 0.3185.....Test Accuracy : 90.9600%\n",
            "lr: 0.0125  Epoch: 99 ........... Training Accuracy: 90.6483%.....Training Loss: 0.3185.....Test Accuracy : 90.9600%\n",
            "lr: 0.0125  Epoch: 100 ........... Training Accuracy: 90.6483%.....Training Loss: 0.3186.....Test Accuracy : 90.9600%\n"
          ],
          "name": "stdout"
        }
      ]
    },
    {
      "cell_type": "code",
      "metadata": {
        "id": "d5taE9ZUZSYb"
      },
      "source": [
        "test_acc = np.array(train_acc)"
      ],
      "execution_count": 71,
      "outputs": []
    },
    {
      "cell_type": "code",
      "metadata": {
        "id": "zRuDkKKN29TV"
      },
      "source": [
        "lr = []          ## We keep LR constant, then decrease linearly, then exponentially ## One expt, this gave best results\r\n",
        "for i in range(50):\r\n",
        "  lr.append(0.5)\r\n",
        "for i in range(50, 70):\r\n",
        "  lr.append(0.5 - 0.02*(i - 50) )\r\n",
        "\r\n",
        "for i in range(70, 100):\r\n",
        "  lr.append(0.1/(2**((i - 60)/10)))"
      ],
      "execution_count": 16,
      "outputs": []
    },
    {
      "cell_type": "markdown",
      "metadata": {
        "id": "FNSPLXvC8Ihf"
      },
      "source": [
        "The following Cell shows How I varied the Learning Rate with Epochs"
      ]
    },
    {
      "cell_type": "code",
      "metadata": {
        "colab": {
          "base_uri": "https://localhost:8080/",
          "height": 367
        },
        "id": "5ZlmU_ZB3imE",
        "outputId": "77476400-73ef-4330-e146-4569fa5e5a88"
      },
      "source": [
        "plt.figure(figsize = (8, 5))\r\n",
        "plt.plot(range(100), lr)\r\n",
        "plt.title(\" Variation of Learning Rate with Epochs\")\r\n",
        "plt.xlabel(\" Epochs \")\r\n",
        "plt.ylabel(\"Learning Rate\")"
      ],
      "execution_count": 19,
      "outputs": [
        {
          "output_type": "execute_result",
          "data": {
            "text/plain": [
              "Text(0, 0.5, 'Learning Rate')"
            ]
          },
          "metadata": {
            "tags": []
          },
          "execution_count": 19
        },
        {
          "output_type": "display_data",
          "data": {
            "image/png": "[encoded data removed]",
            "text/plain": [
              "<Figure size 576x360 with 1 Axes>"
            ]
          },
          "metadata": {
            "tags": [],
            "needs_background": "light"
          }
        }
      ]
    },
    {
      "cell_type": "markdown",
      "metadata": {
        "id": "SsgKyUEg8Hf2"
      },
      "source": [
        ""
      ]
    },
    {
      "cell_type": "code",
      "metadata": {
        "colab": {
          "base_uri": "https://localhost:8080/",
          "height": 340
        },
        "id": "uiV3mj-vZTkl",
        "outputId": "03b08480-21e9-448d-f185-fe351ef50885"
      },
      "source": [
        "visualise(EPOCHS, train_loss, train_acc, test_acc, 64)"
      ],
      "execution_count": 12,
      "outputs": [
        {
          "output_type": "stream",
          "text": [
            "findfont: Font family ['Times New Roman Bold'] not found. Falling back to DejaVu Sans.\n"
          ],
          "name": "stderr"
        },
        {
          "output_type": "stream",
          "text": [
            "Batch Size :  64\n"
          ],
          "name": "stdout"
        },
        {
          "output_type": "display_data",
          "data": {
            "image/png": "[encoded data removed]",
            "text/plain": [
              "<Figure size 1368x288 with 3 Axes>"
            ]
          },
          "metadata": {
            "tags": [],
            "needs_background": "light"
          }
        }
      ]
    },
    {
      "cell_type": "code",
      "metadata": {
        "id": "2ybsaqbz24IK"
      },
      "source": [
        ""
      ],
      "execution_count": null,
      "outputs": []
    },
    {
      "cell_type": "markdown",
      "metadata": {
        "id": "YuJHWX0H4SOq"
      },
      "source": [
        "Question 6c) As we can see from how the Loss Function decreases through the EPOCHS we can see that the rate of decrease of LOSS has become slower in the Higher Epoch range. This is because our learning Rate has decreased, hence the Parameteres are changed by smaller values as the number of Epochs increases.\r\n",
        "This is done because as we move the parameters closer to the Optimal value, we need to slow down the update otherwise we may OVERSHOOT past the optimal value. Hence we gradually decrease learning rate and allow or Algorithm to take smaller Gradient steps as we go closer to the Optimal Loss function"
      ]
    },
    {
      "cell_type": "markdown",
      "metadata": {
        "id": "rMBQ25c85Qrn"
      },
      "source": [
        "I came with this methodolgy of Reducing learning rate as it gave me the best among other Restart methods that I tried. It is conclusive that if we Gradually decrease learning rate, our model converges to a better optimal value of Cost and gives a better Test Accuracy. In a nutshell we take baby steps as we go closer to our Optimal value and the size of Baby steps decreases exponentially as we go closer."
      ]
    },
    {
      "cell_type": "markdown",
      "metadata": {
        "id": "dJHdCy4y5ylm"
      },
      "source": [
        "A higher learning rate may cause us to Overshoot from the Minima and go past the Minimum value, this will prevent our Gradient descent from converging. Hence we need to have a smaller learning rate and decreasing the learning rate stepwise as we go closer to minima ensures a better convergence"
      ]
    },
    {
      "cell_type": "code",
      "metadata": {
        "id": "MDB7-2p15DdI"
      },
      "source": [
        ""
      ],
      "execution_count": null,
      "outputs": []
    }
  ]
}