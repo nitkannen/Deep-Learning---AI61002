{
  "nbformat": 4,
  "nbformat_minor": 0,
  "metadata": {
    "colab": {
      "name": "Sentiment_Analysis_PyTorch_TorchText.ipynb",
      "provenance": [],
      "collapsed_sections": []
    },
    "kernelspec": {
      "name": "python3",
      "display_name": "Python 3"
    },
    "accelerator": "GPU"
  },
  "cells": [
    {
      "cell_type": "code",
      "metadata": {
        "id": "hu-5V4oiMsu5"
      },
      "source": [
        "#### Import Dataset from DropBox\n",
        "! wget -q \"https://www.dropbox.com/s/mykvyi2rm8j267v/IMDB%20Dataset.csv?dl=0\" -O \"IMDB_dataset.csv\""
      ],
      "execution_count": 1,
      "outputs": []
    },
    {
      "cell_type": "code",
      "metadata": {
        "id": "mOabGnUBOH5r"
      },
      "source": [
        "import pandas as pd\n",
        "import numpy as np\n",
        "import matplotlib.pyplot as plt\n",
        "import seaborn as sns\n",
        "from torchtext.legacy import data\n",
        "from collections import defaultdict"
      ],
      "execution_count": 2,
      "outputs": []
    },
    {
      "cell_type": "code",
      "metadata": {
        "id": "gdilxZD4Ojo7"
      },
      "source": [
        "#### CONFIGURATION FOR PLOTS\n",
        "sns.set(style='whitegrid', palette='muted', font_scale=1.2)\n",
        "HAPPY_COLORS_PALETTE = [\"#01BEFE\", \"#FFDD00\", \"#FF7D00\", \"#FF006D\", \"#ADFF02\", \"#8F00FF\"]\n",
        "sns.set_palette(sns.color_palette(HAPPY_COLORS_PALETTE))"
      ],
      "execution_count": 3,
      "outputs": []
    },
    {
      "cell_type": "code",
      "metadata": {
        "colab": {
          "base_uri": "https://localhost:8080/"
        },
        "id": "9KewaoyuWtps",
        "outputId": "a4c7441f-f87d-4970-9f43-6557fde49e66"
      },
      "source": [
        "import nltk\n",
        "from string import punctuation\n",
        "from nltk.corpus import stopwords\n",
        "from sklearn.pipeline import Pipeline\n",
        "from nltk.stem import WordNetLemmatizer \n",
        "from nltk import word_tokenize\n",
        "import time\n",
        "import spacy\n",
        "NLP = spacy.load('en')\n",
        "import re\n",
        "import torch\n",
        "from torch import nn, optim\n",
        "import torch.nn.functional as F\n",
        "nltk.download('stopwords')\n",
        "nltk.download('punkt')"
      ],
      "execution_count": 4,
      "outputs": [
        {
          "output_type": "stream",
          "text": [
            "[nltk_data] Downloading package stopwords to /root/nltk_data...\n",
            "[nltk_data]   Unzipping corpora/stopwords.zip.\n",
            "[nltk_data] Downloading package punkt to /root/nltk_data...\n",
            "[nltk_data]   Unzipping tokenizers/punkt.zip.\n"
          ],
          "name": "stdout"
        },
        {
          "output_type": "execute_result",
          "data": {
            "text/plain": [
              "True"
            ]
          },
          "metadata": {
            "tags": []
          },
          "execution_count": 4
        }
      ]
    },
    {
      "cell_type": "code",
      "metadata": {
        "id": "fDjwY_yvwtcH"
      },
      "source": [
        "RANDOM_SEED = 42\n",
        "np.random.seed(RANDOM_SEED)\n",
        "torch.manual_seed(RANDOM_SEED)\n",
        "torch.cuda.manual_seed_all(RANDOM_SEED)\n",
        "device = torch.device(\"cuda:0\" if torch.cuda.is_available() else \"cpu\")"
      ],
      "execution_count": 5,
      "outputs": []
    },
    {
      "cell_type": "code",
      "metadata": {
        "id": "kzo_bZzeUQSe"
      },
      "source": [
        "import sklearn\n",
        "from sklearn.model_selection import train_test_split\n",
        "from sklearn.metrics import classification_report"
      ],
      "execution_count": 111,
      "outputs": []
    },
    {
      "cell_type": "code",
      "metadata": {
        "id": "qdTmTPpC5Pq_"
      },
      "source": [
        ""
      ],
      "execution_count": null,
      "outputs": []
    },
    {
      "cell_type": "markdown",
      "metadata": {
        "id": "M7uqF7rY5P9O"
      },
      "source": [
        "LOAD DATA"
      ]
    },
    {
      "cell_type": "code",
      "metadata": {
        "id": "IXUFPnRWOQk_"
      },
      "source": [
        "IMDB_data = pd.read_csv(\"IMDB_dataset.csv\")"
      ],
      "execution_count": 7,
      "outputs": []
    },
    {
      "cell_type": "code",
      "metadata": {
        "colab": {
          "base_uri": "https://localhost:8080/"
        },
        "id": "x0SSxBHtUjYk",
        "outputId": "83e8628b-343c-4290-b31f-ee841c208fc1"
      },
      "source": [
        "len(IMDB_data)"
      ],
      "execution_count": 8,
      "outputs": [
        {
          "output_type": "execute_result",
          "data": {
            "text/plain": [
              "50000"
            ]
          },
          "metadata": {
            "tags": []
          },
          "execution_count": 8
        }
      ]
    },
    {
      "cell_type": "code",
      "metadata": {
        "id": "tnpRd87yXgY1",
        "colab": {
          "base_uri": "https://localhost:8080/",
          "height": 202
        },
        "outputId": "e06ff4b1-c13e-4f2a-844c-ed158bdaa29c"
      },
      "source": [
        "IMDB_data.head()"
      ],
      "execution_count": 70,
      "outputs": [
        {
          "output_type": "execute_result",
          "data": {
            "text/html": [
              "<div>\n",
              "<style scoped>\n",
              "    .dataframe tbody tr th:only-of-type {\n",
              "        vertical-align: middle;\n",
              "    }\n",
              "\n",
              "    .dataframe tbody tr th {\n",
              "        vertical-align: top;\n",
              "    }\n",
              "\n",
              "    .dataframe thead th {\n",
              "        text-align: right;\n",
              "    }\n",
              "</style>\n",
              "<table border=\"1\" class=\"dataframe\">\n",
              "  <thead>\n",
              "    <tr style=\"text-align: right;\">\n",
              "      <th></th>\n",
              "      <th>review</th>\n",
              "      <th>sentiment</th>\n",
              "    </tr>\n",
              "  </thead>\n",
              "  <tbody>\n",
              "    <tr>\n",
              "      <th>0</th>\n",
              "      <td>one of the other reviewers has mentioned that ...</td>\n",
              "      <td>1</td>\n",
              "    </tr>\n",
              "    <tr>\n",
              "      <th>1</th>\n",
              "      <td>a wonderful little production. the filming tec...</td>\n",
              "      <td>1</td>\n",
              "    </tr>\n",
              "    <tr>\n",
              "      <th>2</th>\n",
              "      <td>i thought this was a wonderful way to spend ti...</td>\n",
              "      <td>1</td>\n",
              "    </tr>\n",
              "    <tr>\n",
              "      <th>3</th>\n",
              "      <td>basically there's a family where a little boy ...</td>\n",
              "      <td>0</td>\n",
              "    </tr>\n",
              "    <tr>\n",
              "      <th>4</th>\n",
              "      <td>petter mattei's love in the time of money is a...</td>\n",
              "      <td>1</td>\n",
              "    </tr>\n",
              "  </tbody>\n",
              "</table>\n",
              "</div>"
            ],
            "text/plain": [
              "                                              review  sentiment\n",
              "0  one of the other reviewers has mentioned that ...          1\n",
              "1  a wonderful little production. the filming tec...          1\n",
              "2  i thought this was a wonderful way to spend ti...          1\n",
              "3  basically there's a family where a little boy ...          0\n",
              "4  petter mattei's love in the time of money is a...          1"
            ]
          },
          "metadata": {
            "tags": []
          },
          "execution_count": 70
        }
      ]
    },
    {
      "cell_type": "code",
      "metadata": {
        "id": "PmhoMjFaNuBI"
      },
      "source": [
        ""
      ],
      "execution_count": null,
      "outputs": []
    },
    {
      "cell_type": "markdown",
      "metadata": {
        "id": "KSBiMSyyXmUZ"
      },
      "source": [
        "# **DATA PREPROCESSING**"
      ]
    },
    {
      "cell_type": "code",
      "metadata": {
        "colab": {
          "base_uri": "https://localhost:8080/"
        },
        "id": "6L8qIWLVYqFH",
        "outputId": "5e36b771-c447-44bc-db81-9c97f578ae84"
      },
      "source": [
        "###Checking if there are any null points or empty points // missing data\n",
        "IMDB_data.isnull().sum()"
      ],
      "execution_count": 10,
      "outputs": [
        {
          "output_type": "execute_result",
          "data": {
            "text/plain": [
              "review       0\n",
              "sentiment    0\n",
              "dtype: int64"
            ]
          },
          "metadata": {
            "tags": []
          },
          "execution_count": 10
        }
      ]
    },
    {
      "cell_type": "code",
      "metadata": {
        "id": "m6U9DES9Z0e_"
      },
      "source": [
        "def replace(x):\n",
        "  \"\"\"\n",
        "    This function is a lambda for each sentiment column: Replaces 'pos'-> 1 and 'neg'-> 0\n",
        "  \"\"\"\n",
        "  if x == 'positive':\n",
        "    return 1\n",
        "  elif x == 'negative':\n",
        "    return 0"
      ],
      "execution_count": 11,
      "outputs": []
    },
    {
      "cell_type": "code",
      "metadata": {
        "id": "MvgD5_GvWdMP"
      },
      "source": [
        "IMDB_data['sentiment']  = IMDB_data['sentiment'].apply(lambda x: replace(x)) ## replaces 'positive' -> 1 and 'negative' -> 0"
      ],
      "execution_count": 12,
      "outputs": []
    },
    {
      "cell_type": "code",
      "metadata": {
        "id": "B1JKh_1rah8D"
      },
      "source": [
        "def remove_punc_word(word):\n",
        "    punc = '''()-[]{};:'\"\\,<>.£+/@#$%^&*_”+–~’’=“–।”–’’||'''\n",
        "    for ele in word:  \n",
        "      if ele in punc:  \n",
        "        word = word.replace(ele, \"\") \n",
        "    return word"
      ],
      "execution_count": 13,
      "outputs": []
    },
    {
      "cell_type": "code",
      "metadata": {
        "id": "lQK1dgChMm4z"
      },
      "source": [
        "class Preprocessing:\n",
        "    \"\"\"\n",
        "    This is the parent ProeProcessing Class, that removes punctuation, removes html tags, URLs and does PreProcessing\n",
        "\n",
        "    \"\"\"\n",
        "\n",
        "    def __init__(self, pre = True ):\n",
        "        self.flag = pre\n",
        "\n",
        "    def run(self, raw_str):\n",
        "\n",
        "        preprocessed_str = ((self.remove_punctuation((self.remove_URL(self.remove_htmltags(self.remove_users(raw_str)))))).lower())\n",
        "        return preprocessed_str\n",
        "\n",
        "    def only_nonascii(self, input_str):\n",
        "        \"\"\"Substitutes ASCII characters with empty string\"\"\"\n",
        "        _ascii_letters = re.compile(r'[a-zA-Z0-9/.:-]', flags=re.UNICODE)\n",
        "        return _ascii_letters.sub(\"\", input_str)\n",
        "\n",
        "    def remove_URL(self, input_str):\n",
        "        \"\"\"Remove URLs from an input string\"\"\"\n",
        "        return re.sub(r\"http\\S+\", \"\", input_str)\n",
        "        \n",
        "    def remove_users(self, input_str):\n",
        "        \"\"\"Removes strings @userhandle to clean twitter data\"\"\"\n",
        "        raw_str = re.sub(r\"@\\w+\", '', input_str).strip() # .lstrip('RT').lstrip('QT')\n",
        "        final_str = re.sub('RT|QT' , '', str(raw_str))\n",
        "        return final_str\n",
        "\n",
        "    def remove_htmltags(self, input_str):\n",
        "        \"\"\"Removes html tags of the form <any character(s)> from an input string\"\"\"\n",
        "        return re.sub(r\"<.*?>\", \"\", input_str)\n",
        "\n",
        "    def remove_non_ascii(self, input_str):\n",
        "        \"\"\"Remove non-ASCII characters from an input string\"\"\"\n",
        "        tokenized_words = word_tokenize(input_str)\n",
        "        tokens = []\n",
        "        for token in tokenized_words:\n",
        "            cleaned_token = unicodedata.normalize('NFKD', token).encode('ascii', 'ignore').decode('utf-8', 'ignore')\n",
        "            tokens.append(cleaned_token)\n",
        "        return ' '.join(tokens)\n",
        "    \n",
        "    def remove_punctuation(self, sample_str):\n",
        "        \"\"\"Remove punctuation from a input string\"\"\"\n",
        "        comment = sample_str\n",
        "        comment = re.sub(\n",
        "        r\"[\\*\\\"“”\\|\\~\\n\\\\\\@\\{\\}\\%\\_\\#\\^\\&\\$\\£\\+\\<\\>\\…\\+\\-\\/\\=\\(\\)‘•:\\[\\]\\|’\\!;]\", \" \", \n",
        "        str(comment))\n",
        "        comment = re.sub(r\"[ ]+\", \" \", comment)\n",
        "        comment = re.sub(r\"\\!+\", \"!\", comment)\n",
        "        comment = re.sub(r\"\\,+\", \",\", comment)\n",
        "        comment = re.sub(r\"\\?+\", \"?\", comment)\n",
        "        return comment\n",
        "\n",
        "\n",
        "    def replace_nan(self, input_str):\n",
        "        \"\"\"Replacing nan strings with empty strings - required for textrank\"\"\"        \n",
        "        input_str = re.sub('nan' , '' , str(input_str))\n",
        "        return input_str\n",
        "    \n"
      ],
      "execution_count": 73,
      "outputs": []
    },
    {
      "cell_type": "code",
      "metadata": {
        "id": "b8OEcR7dYzNy"
      },
      "source": [
        "preprocessor = Preprocessing(True)\n",
        "IMDB_data['review'] = IMDB_data['review'].apply(lambda x: preprocessor.run(x)) ## The DataFrame has PreProcessed text"
      ],
      "execution_count": 15,
      "outputs": []
    },
    {
      "cell_type": "code",
      "metadata": {
        "id": "f4uXmEAv7yLb",
        "colab": {
          "base_uri": "https://localhost:8080/",
          "height": 202
        },
        "outputId": "e360a80d-cd10-469a-d0cf-bac76d69f317"
      },
      "source": [
        "IMDB_data.head()"
      ],
      "execution_count": 74,
      "outputs": [
        {
          "output_type": "execute_result",
          "data": {
            "text/html": [
              "<div>\n",
              "<style scoped>\n",
              "    .dataframe tbody tr th:only-of-type {\n",
              "        vertical-align: middle;\n",
              "    }\n",
              "\n",
              "    .dataframe tbody tr th {\n",
              "        vertical-align: top;\n",
              "    }\n",
              "\n",
              "    .dataframe thead th {\n",
              "        text-align: right;\n",
              "    }\n",
              "</style>\n",
              "<table border=\"1\" class=\"dataframe\">\n",
              "  <thead>\n",
              "    <tr style=\"text-align: right;\">\n",
              "      <th></th>\n",
              "      <th>review</th>\n",
              "      <th>sentiment</th>\n",
              "    </tr>\n",
              "  </thead>\n",
              "  <tbody>\n",
              "    <tr>\n",
              "      <th>0</th>\n",
              "      <td>one of the other reviewers has mentioned that ...</td>\n",
              "      <td>1</td>\n",
              "    </tr>\n",
              "    <tr>\n",
              "      <th>1</th>\n",
              "      <td>a wonderful little production. the filming tec...</td>\n",
              "      <td>1</td>\n",
              "    </tr>\n",
              "    <tr>\n",
              "      <th>2</th>\n",
              "      <td>i thought this was a wonderful way to spend ti...</td>\n",
              "      <td>1</td>\n",
              "    </tr>\n",
              "    <tr>\n",
              "      <th>3</th>\n",
              "      <td>basically there's a family where a little boy ...</td>\n",
              "      <td>0</td>\n",
              "    </tr>\n",
              "    <tr>\n",
              "      <th>4</th>\n",
              "      <td>petter mattei's love in the time of money is a...</td>\n",
              "      <td>1</td>\n",
              "    </tr>\n",
              "  </tbody>\n",
              "</table>\n",
              "</div>"
            ],
            "text/plain": [
              "                                              review  sentiment\n",
              "0  one of the other reviewers has mentioned that ...          1\n",
              "1  a wonderful little production. the filming tec...          1\n",
              "2  i thought this was a wonderful way to spend ti...          1\n",
              "3  basically there's a family where a little boy ...          0\n",
              "4  petter mattei's love in the time of money is a...          1"
            ]
          },
          "metadata": {
            "tags": []
          },
          "execution_count": 74
        }
      ]
    },
    {
      "cell_type": "markdown",
      "metadata": {
        "id": "NMnOjPTv6CYG"
      },
      "source": [
        "# **ANALYSING SENTIMENT**"
      ]
    },
    {
      "cell_type": "markdown",
      "metadata": {
        "id": "-ixuCfi-61eG"
      },
      "source": [
        "NEGATIVE REVIEW"
      ]
    },
    {
      "cell_type": "code",
      "metadata": {
        "colab": {
          "base_uri": "https://localhost:8080/"
        },
        "id": "sf7Si9sI6xjI",
        "outputId": "b6cb5f92-9c84-4858-93be-e55eb6c5a147"
      },
      "source": [
        "print(f\"Sentiment  = {IMDB_data.at[3, 'sentiment']}\")"
      ],
      "execution_count": 116,
      "outputs": [
        {
          "output_type": "stream",
          "text": [
            "Sentiment  = 0\n"
          ],
          "name": "stdout"
        }
      ]
    },
    {
      "cell_type": "code",
      "metadata": {
        "colab": {
          "base_uri": "https://localhost:8080/",
          "height": 105
        },
        "id": "tsMpoEQ46GFy",
        "outputId": "913fa1fa-eb60-461d-9732-4d8b971c10e3"
      },
      "source": [
        "(IMDB_data.at[3, 'review'])"
      ],
      "execution_count": 117,
      "outputs": [
        {
          "output_type": "execute_result",
          "data": {
            "application/vnd.google.colaboratory.intrinsic+json": {
              "type": "string"
            },
            "text/plain": [
              "\"basically there's a family where a little boy jake thinks there's a zombie in his closet his parents are fighting all the time.this movie is slower than a soap opera... and suddenly, jake decides to become rambo and kill the zombie.ok, first of all when you're going to make a film you must decide if its a thriller or a drama as a drama the movie is watchable. parents are divorcing arguing like in real life. and then we have jake with his closet which totally ruins all the film i expected to see a boogeyman similar movie, and instead i watched a drama with some meaningless thriller spots.3 out of 10 just for the well playing parents descent dialogs. as for the shots with jake just ignore them.\""
            ]
          },
          "metadata": {
            "tags": []
          },
          "execution_count": 117
        }
      ]
    },
    {
      "cell_type": "markdown",
      "metadata": {
        "id": "EvsZlHgo638a"
      },
      "source": [
        "POSITIVE REVIEW"
      ]
    },
    {
      "cell_type": "code",
      "metadata": {
        "colab": {
          "base_uri": "https://localhost:8080/"
        },
        "id": "NgihCug97Cki",
        "outputId": "a7e3968f-bc32-498b-a85a-49951294c404"
      },
      "source": [
        "print(f\"Sentiment  = {IMDB_data.at[1, 'sentiment']}\")"
      ],
      "execution_count": 118,
      "outputs": [
        {
          "output_type": "stream",
          "text": [
            "Sentiment  = 1\n"
          ],
          "name": "stdout"
        }
      ]
    },
    {
      "cell_type": "code",
      "metadata": {
        "colab": {
          "base_uri": "https://localhost:8080/",
          "height": 139
        },
        "id": "gwfEBOeU7E09",
        "outputId": "3e97ca31-2561-4108-85e9-c92db20c4a25"
      },
      "source": [
        "(IMDB_data.at[1, 'review'])"
      ],
      "execution_count": 119,
      "outputs": [
        {
          "output_type": "execute_result",
          "data": {
            "application/vnd.google.colaboratory.intrinsic+json": {
              "type": "string"
            },
            "text/plain": [
              "\"a wonderful little production. the filming technique is very unassuming very old time bbc fashion and gives a comforting, and sometimes discomforting, sense of realism to the entire piece. the actors are extremely well chosen michael sheen not only has got all the polari but he has all the voices down pat too you can truly see the seamless editing guided by the references to williams' diary entries, not only is it well worth the watching but it is a terrificly written and performed piece. a masterful production about one of the great master's of comedy and his life. the realism really comes home with the little things the fantasy of the guard which, rather than use the traditional 'dream' techniques remains solid then disappears. it plays on our knowledge and our senses, particularly with the scenes concerning orton and halliwell and the sets particularly of their flat with halliwell's murals decorating every surface are terribly well done.\""
            ]
          },
          "metadata": {
            "tags": []
          },
          "execution_count": 119
        }
      ]
    },
    {
      "cell_type": "code",
      "metadata": {
        "id": "M66wCiJU8jz_"
      },
      "source": [
        "### INFERENCE : on analysing the data is labelled fine and the sentiments of the sentence is given by the label"
      ],
      "execution_count": null,
      "outputs": []
    },
    {
      "cell_type": "markdown",
      "metadata": {
        "id": "cjL6c52nNnKt"
      },
      "source": [
        "# **VISUALIZATION**"
      ]
    },
    {
      "cell_type": "code",
      "metadata": {
        "colab": {
          "base_uri": "https://localhost:8080/",
          "height": 487
        },
        "id": "xPKGCc3IOdKK",
        "outputId": "3753d625-1a9e-4ffd-9d6c-702d657bdf8f"
      },
      "source": [
        "####### PLOT 1\n",
        "plt.figure(figsize = (10, 6))\n",
        "plt.title(\"Class Distibution\")\n",
        "sns.countplot(IMDB_data['sentiment'])"
      ],
      "execution_count": null,
      "outputs": [
        {
          "output_type": "stream",
          "text": [
            "/usr/local/lib/python3.7/dist-packages/seaborn/_decorators.py:43: FutureWarning: Pass the following variable as a keyword arg: x. From version 0.12, the only valid positional argument will be `data`, and passing other arguments without an explicit keyword will result in an error or misinterpretation.\n",
            "  FutureWarning\n"
          ],
          "name": "stderr"
        },
        {
          "output_type": "execute_result",
          "data": {
            "text/plain": [
              "<matplotlib.axes._subplots.AxesSubplot at 0x7fda8da59c50>"
            ]
          },
          "metadata": {
            "tags": []
          },
          "execution_count": 23
        },
        {
          "output_type": "display_data",
          "data": {
            "image/png": "[encoded data removed]",
            "text/plain": [
              "<Figure size 720x432 with 1 Axes>"
            ]
          },
          "metadata": {
            "tags": []
          }
        }
      ]
    },
    {
      "cell_type": "code",
      "metadata": {
        "id": "OgXtv1z-OdMs"
      },
      "source": [
        "###Inference: We can see that it is a perfectly balanced distribution with equal representation from each class"
      ],
      "execution_count": null,
      "outputs": []
    },
    {
      "cell_type": "markdown",
      "metadata": {
        "id": "MsttOcxS5vI_"
      },
      "source": [
        "ANALYSIS OF REVIEW LENGTH"
      ]
    },
    {
      "cell_type": "code",
      "metadata": {
        "colab": {
          "base_uri": "https://localhost:8080/",
          "height": 541
        },
        "id": "UIxusUjUOdPV",
        "outputId": "8a969ffc-1695-4eee-ea22-60c079ee1b3f"
      },
      "source": [
        "###### PLOT 2\n",
        "plt.figure(figsize = (11, 7))\n",
        "plt.title(\"Sentence Length Distribution\")\n",
        "sns.distplot((IMDB_data['review'].apply(lambda x: len(x.split(' ')))))"
      ],
      "execution_count": null,
      "outputs": [
        {
          "output_type": "stream",
          "text": [
            "/usr/local/lib/python3.7/dist-packages/seaborn/distributions.py:2557: FutureWarning: `distplot` is a deprecated function and will be removed in a future version. Please adapt your code to use either `displot` (a figure-level function with similar flexibility) or `histplot` (an axes-level function for histograms).\n",
            "  warnings.warn(msg, FutureWarning)\n"
          ],
          "name": "stderr"
        },
        {
          "output_type": "execute_result",
          "data": {
            "text/plain": [
              "<matplotlib.axes._subplots.AxesSubplot at 0x7fda8d52ab90>"
            ]
          },
          "metadata": {
            "tags": []
          },
          "execution_count": 28
        },
        {
          "output_type": "display_data",
          "data": {
            "image/png": "[encoded data removed]",
            "text/plain": [
              "<Figure size 792x504 with 1 Axes>"
            ]
          },
          "metadata": {
            "tags": []
          }
        }
      ]
    },
    {
      "cell_type": "code",
      "metadata": {
        "id": "sRpv32XxOdTP"
      },
      "source": [
        "### INFERENCE \n",
        "## The sentence length distribution mostly looks like a distorted Gaussian Distribution\n",
        "## The mean of the Distribution of sentence length is around 250 words\n",
        "### Hence we take a maximum lenght of sentences as 300 words\n",
        "### MAX LENGTH = 300"
      ],
      "execution_count": null,
      "outputs": []
    },
    {
      "cell_type": "code",
      "metadata": {
        "id": "LhMBlReyxM72"
      },
      "source": [
        "### PLOT 3 , anlaysing most occuring bigrams in text\n",
        "STOPWORDS = list((stopwords.words('english')))\n",
        "\n",
        "def generate_ngrams(text, n_gram = 2):\n",
        "  token_list = [token for token in text.split(' ') if token != '' if token not in STOPWORDS]\n",
        "  ngrams = zip(*[ token_list[i:] for i in range(n_gram)]  )\n",
        "  return [' '.join(ngram) for ngram in ngrams]\n",
        "\n",
        "ngram_dict = defaultdict(int)\n",
        "for row in IMDB_data['review']:\n",
        "  for pair in generate_ngrams(row):\n",
        "    ngram_dict[pair] += 1\n",
        "\n",
        "df_ngram = pd.DataFrame(sorted(ngram_dict.items(), key=lambda x: x[1])[::-1])"
      ],
      "execution_count": null,
      "outputs": []
    },
    {
      "cell_type": "code",
      "metadata": {
        "colab": {
          "base_uri": "https://localhost:8080/",
          "height": 433
        },
        "id": "8ya95yay6atk",
        "outputId": "623aaf41-edbf-4a56-da47-9acf5958f8de"
      },
      "source": [
        "plt.figure(figsize= (10, 6))\n",
        "plt.title(\"Most Frequently occuring 2grams\")\n",
        "sns.barplot(y=df_ngram[0].values[:10], x=df_ngram[1].values[:10], color='red')\n",
        "plt.ylabel(\"2Grams\")\n",
        "plt.xlabel(\"Frequency\")"
      ],
      "execution_count": null,
      "outputs": [
        {
          "output_type": "execute_result",
          "data": {
            "text/plain": [
              "Text(0.5, 0, 'Frequency')"
            ]
          },
          "metadata": {
            "tags": []
          },
          "execution_count": 94
        },
        {
          "output_type": "display_data",
          "data": {
            "image/png": "[encoded data removed]",
            "text/plain": [
              "<Figure size 720x432 with 1 Axes>"
            ]
          },
          "metadata": {
            "tags": []
          }
        }
      ]
    },
    {
      "cell_type": "markdown",
      "metadata": {
        "id": "wcomglMY72LC"
      },
      "source": [
        "TRAIN TEST SPLIT"
      ]
    },
    {
      "cell_type": "code",
      "metadata": {
        "id": "KrI_5FiqPOoD"
      },
      "source": [
        "# split the data into train and test set\n",
        "train, test  =    train_test_split(IMDB_data, test_size=0.2, random_state=42, shuffle=True)\n",
        "##### 40000 samples for train and 10000 samples for test"
      ],
      "execution_count": 16,
      "outputs": []
    },
    {
      "cell_type": "code",
      "metadata": {
        "id": "dWlBKtUZUukZ"
      },
      "source": [
        "train.to_csv('train.csv')\n",
        "test.to_csv('test.csv')"
      ],
      "execution_count": 18,
      "outputs": []
    },
    {
      "cell_type": "markdown",
      "metadata": {
        "id": "4yYbr3A25qLm"
      },
      "source": [
        "TOKENIZATION"
      ]
    },
    {
      "cell_type": "code",
      "metadata": {
        "id": "xZTzmTpenZkd"
      },
      "source": [
        "def tokenizer(comment):\n",
        "    \"\"\" \n",
        "    This performs the tokenization of text using Spacy\n",
        "    \"\"\"\n",
        "    return [x.text for x in NLP.tokenizer(comment) if x.text != \" \"]"
      ],
      "execution_count": 19,
      "outputs": []
    },
    {
      "cell_type": "markdown",
      "metadata": {
        "id": "eS0rNHm55glU"
      },
      "source": [
        "PADDING AND VOCAB"
      ]
    },
    {
      "cell_type": "code",
      "metadata": {
        "id": "Mqp8cQ0KPaD9"
      },
      "source": [
        "#### Note based on the plot, we can conclude that we can fix a MaxLength = 300, which is nominal\n",
        "MAX_LENGTH = 300\n",
        "TEXT = data.Field(sequential=True, fix_length = MAX_LENGTH, tokenize=tokenizer, lower=True)\n",
        "LABEL = data.Field(sequential=False, use_vocab=False)"
      ],
      "execution_count": 20,
      "outputs": []
    },
    {
      "cell_type": "code",
      "metadata": {
        "id": "dSGlzXuAm7Rn"
      },
      "source": [
        "fields = {'review': ('t', TEXT), 'sentiment': ('l', LABEL)}"
      ],
      "execution_count": 21,
      "outputs": []
    },
    {
      "cell_type": "code",
      "metadata": {
        "id": "U5qh8PhwU4Cx"
      },
      "source": [
        "train_data, test_data = data.TabularDataset.splits(\n",
        "                                        path = '',\n",
        "                                        train = 'train.csv',\n",
        "                                        test = 'test.csv',\n",
        "                                        format = 'csv',\n",
        "                                        fields = fields\n",
        "                                        \n",
        ")"
      ],
      "execution_count": 22,
      "outputs": []
    },
    {
      "cell_type": "code",
      "metadata": {
        "colab": {
          "base_uri": "https://localhost:8080/"
        },
        "id": "4hE0DXVXoqJl",
        "outputId": "b50d1aa6-a9e5-42c6-99ee-3f115ebbae7a"
      },
      "source": [
        "print(f'Number of training examples: {len(train_data)}')\n",
        "print(f'Number of testing examples: {len(test_data)}')"
      ],
      "execution_count": 23,
      "outputs": [
        {
          "output_type": "stream",
          "text": [
            "Number of training examples: 40000\n",
            "Number of testing examples: 10000\n"
          ],
          "name": "stdout"
        }
      ]
    },
    {
      "cell_type": "markdown",
      "metadata": {
        "id": "KGZh8gPfc0vj"
      },
      "source": [
        "BUILD VOCAB WITH GLOVE EMBEDDINGS"
      ]
    },
    {
      "cell_type": "code",
      "metadata": {
        "colab": {
          "base_uri": "https://localhost:8080/"
        },
        "id": "p2CDnAdCoKL9",
        "outputId": "8d142d88-b494-47d8-c1b1-083f6b0ebda4"
      },
      "source": [
        "print(vars(train_data.examples[11])) ###Example train_data"
      ],
      "execution_count": 24,
      "outputs": [
        {
          "output_type": "stream",
          "text": [
            "{'t': ['this', 'movie', 'was', 'so', 'bad', 'and', 'so', 'cheap', 'and', 'so', 'corny', ',', 'i', 'found', 'this', 'movie', 'to', 'be', 'one', 'of', 'the', 'most', 'boring', 'slow', 'paced', 'early', '80', \"'s\", 'movies', 'that', 'i', 'have', 'ever', 'seen', '.', 'i', 'like', 'most', '80', \"'s\", 'cheap', 'horror', 'movies', 'but', 'i', 'would', 'never', 'rent', 'this', 'one', 'again', '.', 'it', 'just', 'did', 'not', 'make', 'any', 'sense', '.', 'a', 'family', 'that', 'lives', 'in', 'the', 'woods', 'invites', 'their', 'son', ',', 'his', 'wife', 'and', 'their', 'daughter', 'to', 'spend', 'time', 'with', 'them', 'for', 'the', 'holidays', 'and', 'during', 'the', 'movie', 'for', 'some', 'reason', 'the', 'mother', 'and', 'daughter', 'in', 'law', 'do', 'not', 'get', 'along', 'well', '.', 'we', 'never', 'figure', 'out', 'why', 'until', 'almost', 'till', 'the', 'end', 'of', 'the', 'movie', 'but', 'until', 'then', ',', 'all', 'we', 'see', 'is', 'the', 'fact', 'that', 'the', 'mother', 'has', 'some', 'form', 'of', 'esp', 'and', 'the', 'daughter', 'in', 'law', 'is', 'having', 'nightmares', 'and', 'flashbacks', 'of', 'a', 'catastrophe', 'of', 'what', 'will', 'happen', 'to', 'unfortunate', 'victims', 'to', 'this', 'thing', 'that', 'we', 'have', 'no', 'clue', 'as', 'to', 'what', 'it', 'looks', 'like', ',', 'all', 'we', 'see', 'is', 'a', 'bright', 'light', 'signaling', 'his', 'approach', 'and', 'all', 'we', 'hear', 'is', 'a', 'cheap', 'interpretation', 'of', 'darth', 'vadar', 'voices', 'and', 'a', 'soundtrack', 'stolen', 'from', 'various', 'horror', 'movies', '.', 'then', 'when', 'we', 'finally', 'find', 'out', 'what', 'and', 'who', 'it', 'is', 'all', 'i', 'did', 'was', 'laugh', '.', 'this', 'killer', 'turns', 'out', 'to', 'be', 'some', 'kind', 'of', 'alien', 'japanese', 'warrior', 'from', 'ww2', 'who', 'has', 'apparently', 'come', 'back', 'to', 'life', 'to', 'claim', 'the', 'mother', 'and', 'her', 'family', '.', 'and', 'all', 'the', 'mother', 'does', 'is', 'stand', 'there', 'in', 'front', 'of', 'the', 'living', 'room', 'shaking', 'with', 'her', 'hands', 'on', 'fire', 'or', 'something', 'like', 'she', \"'s\", 'going', 'into', 'some', 'kind', 'of', 'convulsion', '.', 'this', 'movie', 'is', 'pathetic', 'avoid', 'it', ',', 'it', \"'s\", 'not', 'even', 'worth', 'renting', '.'], 'l': '0'}\n"
          ],
          "name": "stdout"
        }
      ]
    },
    {
      "cell_type": "code",
      "metadata": {
        "colab": {
          "base_uri": "https://localhost:8080/"
        },
        "id": "zLW1-Ul1qGfQ",
        "outputId": "b1f7087d-b12d-49e3-addc-142edc06b39c"
      },
      "source": [
        "#### We build the vocabulary of Fields based on text\n",
        "MAX_VOCAB_SIZE = 50000\n",
        "\n",
        "\n",
        "TEXT.build_vocab(train_data, \n",
        "                 max_size = MAX_VOCAB_SIZE, \n",
        "                 vectors = \"glove.6B.100d\", \n",
        "                 unk_init = torch.Tensor.normal_)\n",
        "\n",
        "LABEL.build_vocab(train_data)"
      ],
      "execution_count": 25,
      "outputs": [
        {
          "output_type": "stream",
          "text": [
            ".vector_cache/glove.6B.zip: 862MB [02:40, 5.36MB/s]                          \n",
            " 99%|█████████▉| 397183/400000 [00:14<00:00, 29014.15it/s]"
          ],
          "name": "stderr"
        }
      ]
    },
    {
      "cell_type": "code",
      "metadata": {
        "colab": {
          "base_uri": "https://localhost:8080/"
        },
        "id": "Xyl5HcltsNZ6",
        "outputId": "2600c6e3-bca6-4117-a841-f250182356a8"
      },
      "source": [
        "print(LABEL.vocab.freqs.most_common(20))"
      ],
      "execution_count": null,
      "outputs": [
        {
          "output_type": "stream",
          "text": [
            "[('0', 20039), ('1', 19961)]\n"
          ],
          "name": "stdout"
        }
      ]
    },
    {
      "cell_type": "code",
      "metadata": {
        "colab": {
          "base_uri": "https://localhost:8080/"
        },
        "id": "G2kAEF89pr-l",
        "outputId": "2cfc1e97-33db-4165-d507-0484d299ca1a"
      },
      "source": [
        "print(f\"Unique tokens in TEXT vocabulary: {len(TEXT.vocab)}\")\n",
        "print(f\"Unique tokens in LABEL vocabulary: {len(LABEL.vocab)}\")"
      ],
      "execution_count": null,
      "outputs": [
        {
          "output_type": "stream",
          "text": [
            "Unique tokens in TEXT vocabulary: 50002\n",
            "Unique tokens in LABEL vocabulary: 3\n"
          ],
          "name": "stdout"
        }
      ]
    },
    {
      "cell_type": "markdown",
      "metadata": {
        "id": "i-e5qSce51bz"
      },
      "source": [
        "BATCHING AND LOADING"
      ]
    },
    {
      "cell_type": "code",
      "metadata": {
        "id": "IgNsi3GgtM9B"
      },
      "source": [
        "BATCH_SIZE = 50 ### Given in question\n",
        "\n",
        "device = torch.device('cuda' if torch.cuda.is_available() else 'cpu')\n",
        "\n",
        "train_iterator, test_iterator = data.BucketIterator.splits(\n",
        "    (train_data, test_data), \n",
        "    batch_size = BATCH_SIZE,\n",
        "    sort_within_batch = False, # lambda x: len(x.text),\n",
        "    device = device)"
      ],
      "execution_count": 75,
      "outputs": []
    },
    {
      "cell_type": "markdown",
      "metadata": {
        "id": "vH6_MPXU9JYu"
      },
      "source": [
        "MODEL DESIGNING"
      ]
    },
    {
      "cell_type": "code",
      "metadata": {
        "id": "FzFPJgWv9shR"
      },
      "source": [
        "class LSTMModel(nn.Module):\n",
        "  \"\"\"\n",
        "  This is the Model Class that is used for training the classifier\n",
        "  \"\"\"\n",
        "  def __init__(self,   num_directions,  batch_size, output_dimension, hidden_dimension , \n",
        "               vocab_size,embedding_dimension, num_layers, dropout, pad_idx):\n",
        "    \"\"\"\n",
        "    Inititalises the layers and variables\n",
        "    \"\"\"\n",
        "    self.vocab_size = vocab_size\n",
        "    self.num_layers = num_layers\n",
        "    self.hidden_dimension = hidden_dimension\n",
        "    self.output_dimension = output_dimension\n",
        "    self.batch_size = 50\n",
        "    self.num_directions = num_directions\n",
        "\n",
        "    super(LSTMModel, self).__init__()\n",
        "    self.embedding = nn.Embedding(vocab_size, embedding_dimension, padding_idx = pad_idx)\n",
        "    self.LSTM = nn.LSTM(embedding_dimension, hidden_dimension, num_layers ,  bidirectional = True)\n",
        "    self.linear = nn.Linear(hidden_dimension*2, output_dimension)\n",
        "\n",
        "  def forward(self, x): ##batch_szie * seq_len\n",
        "\n",
        "    \"\"\"\n",
        "    returns outputs after one forward pass\n",
        "\n",
        "    \"\"\"\n",
        "    x = self.embedding(x) ##batch_size*seq_Len*hidden_dimension\n",
        "\n",
        "    h_0 = torch.zeros(self.num_layers*self.num_directions, self.batch_size, self.hidden_dimension, requires_grad= True ).to(device)\n",
        "    c_0 = torch.zeros(self.num_layers*self.num_directions, self.batch_size, self.hidden_dimension, requires_grad= True ).to(device)\n",
        "\n",
        "    _, (h_n, c_n) = self.LSTM(x,   (h_0, c_0))\n",
        "\n",
        "    x = self.linear( torch.cat(  (h_n[-1,:, :], h_n[-2, :, :] ), dim = 1  ) )###h_n = (num_layers*num_directions*batch*hidden_size)\n",
        "\n",
        "    return x\n",
        "\n"
      ],
      "execution_count": 110,
      "outputs": []
    },
    {
      "cell_type": "code",
      "metadata": {
        "id": "MTQoUzTL9s13"
      },
      "source": [
        "#### Following is the model specification ###\n",
        "INPUT_DIM = len(TEXT.vocab)\n",
        "EMBEDDING_DIM = 100\n",
        "HIDDEN_DIM = 256\n",
        "OUTPUT_DIM = 1\n",
        "N_LAYERS = 3\n",
        "BIDIRECTIONAL = True\n",
        "PAD_IDX = TEXT.vocab.stoi[TEXT.pad_token]\n",
        "BATCH_SIZE = 50\n",
        "DROPOUT = 0.3\n",
        "\n",
        "model = LSTMModel(2, BATCH_SIZE, OUTPUT_DIM, HIDDEN_DIM, INPUT_DIM, EMBEDDING_DIM,\n",
        "                  N_LAYERS, DROPOUT, PAD_IDX).to(device)"
      ],
      "execution_count": 77,
      "outputs": []
    },
    {
      "cell_type": "code",
      "metadata": {
        "colab": {
          "base_uri": "https://localhost:8080/"
        },
        "id": "9XKOiJ9ofLVF",
        "outputId": "4bcdb5db-a18a-4190-bc69-c8810d46f91c"
      },
      "source": [
        "model"
      ],
      "execution_count": null,
      "outputs": [
        {
          "output_type": "execute_result",
          "data": {
            "text/plain": [
              "LSTMModel(\n",
              "  (embedding): Embedding(50002, 100, padding_idx=1)\n",
              "  (LSTM): LSTM(100, 256, num_layers=3, bidirectional=True)\n",
              "  (linear): Linear(in_features=512, out_features=1, bias=True)\n",
              ")"
            ]
          },
          "metadata": {
            "tags": []
          },
          "execution_count": 60
        }
      ]
    },
    {
      "cell_type": "code",
      "metadata": {
        "colab": {
          "base_uri": "https://localhost:8080/"
        },
        "id": "7hLzd26tfLXh",
        "outputId": "6a6a1678-76bf-4669-da2c-f79480a947a0"
      },
      "source": [
        "def count_parameters(model):\n",
        "  \n",
        "    return sum(p.numel() for p in model.parameters() if p.requires_grad)\n",
        "\n",
        "print(f'The model has {count_parameters(model):,} trainable parameters')"
      ],
      "execution_count": 78,
      "outputs": [
        {
          "output_type": "stream",
          "text": [
            "The model has 8,887,817 trainable parameters\n"
          ],
          "name": "stdout"
        }
      ]
    },
    {
      "cell_type": "code",
      "metadata": {
        "colab": {
          "base_uri": "https://localhost:8080/"
        },
        "id": "3MkG-lZefLaA",
        "outputId": "5ff33117-90fd-487e-c301-3aeb296418d4"
      },
      "source": [
        "pretrained_embeddings = TEXT.vocab.vectors\n",
        "\n",
        "print(pretrained_embeddings.shape)"
      ],
      "execution_count": 79,
      "outputs": [
        {
          "output_type": "stream",
          "text": [
            "torch.Size([50002, 100])\n"
          ],
          "name": "stdout"
        }
      ]
    },
    {
      "cell_type": "code",
      "metadata": {
        "colab": {
          "base_uri": "https://localhost:8080/"
        },
        "id": "pRDK-nvVfLdN",
        "outputId": "ef7b9aed-9c60-47ca-ffad-54a585964fbd"
      },
      "source": [
        "model.embedding.weight.data.copy_(pretrained_embeddings) ### Here we initialise the embedding layer with PreTrained Embeddings"
      ],
      "execution_count": 80,
      "outputs": [
        {
          "output_type": "execute_result",
          "data": {
            "text/plain": [
              "tensor([[ 1.9269,  1.4873,  0.9007,  ...,  0.1233,  0.3499,  0.6173],\n",
              "        [ 0.7262,  0.0912, -0.3891,  ...,  0.0821,  0.4440, -0.7240],\n",
              "        [-0.0382, -0.2449,  0.7281,  ..., -0.1459,  0.8278,  0.2706],\n",
              "        ...,\n",
              "        [-0.3304,  0.0942, -0.0592,  ..., -0.4125, -0.9753,  0.1846],\n",
              "        [-0.0577, -0.2255, -0.4133,  ...,  0.7712,  0.0799,  1.1282],\n",
              "        [ 0.2163, -0.2596, -0.6434,  ...,  0.2349, -0.2631, -0.3824]],\n",
              "       device='cuda:0')"
            ]
          },
          "metadata": {
            "tags": []
          },
          "execution_count": 80
        }
      ]
    },
    {
      "cell_type": "code",
      "metadata": {
        "colab": {
          "base_uri": "https://localhost:8080/"
        },
        "id": "zlz1tK_QfLfK",
        "outputId": "469d66e3-5700-407b-99ee-6c2571deabf1"
      },
      "source": [
        "UNK_IDX = TEXT.vocab.stoi[TEXT.unk_token]\n",
        "\n",
        "model.embedding.weight.data[UNK_IDX] = torch.zeros(EMBEDDING_DIM) ### Padding and Unknown index are given a zero tensor\n",
        "model.embedding.weight.data[PAD_IDX] = torch.zeros(EMBEDDING_DIM)\n",
        "\n",
        "print(model.embedding.weight.data)"
      ],
      "execution_count": 81,
      "outputs": [
        {
          "output_type": "stream",
          "text": [
            "tensor([[ 0.0000,  0.0000,  0.0000,  ...,  0.0000,  0.0000,  0.0000],\n",
            "        [ 0.0000,  0.0000,  0.0000,  ...,  0.0000,  0.0000,  0.0000],\n",
            "        [-0.0382, -0.2449,  0.7281,  ..., -0.1459,  0.8278,  0.2706],\n",
            "        ...,\n",
            "        [-0.3304,  0.0942, -0.0592,  ..., -0.4125, -0.9753,  0.1846],\n",
            "        [-0.0577, -0.2255, -0.4133,  ...,  0.7712,  0.0799,  1.1282],\n",
            "        [ 0.2163, -0.2596, -0.6434,  ...,  0.2349, -0.2631, -0.3824]],\n",
            "       device='cuda:0')\n"
          ],
          "name": "stdout"
        }
      ]
    },
    {
      "cell_type": "code",
      "metadata": {
        "id": "xm5MPqnSgs9M"
      },
      "source": [
        "############## Optimizer and Loss Function #################\n",
        "EPOCHS = 5\n",
        "optimizer = optim.AdamW(model.parameters()) \n",
        "criterion = nn.BCEWithLogitsLoss()\n",
        "\n",
        "model = model.to(device)\n",
        "criterion = criterion.to(device)"
      ],
      "execution_count": 83,
      "outputs": []
    },
    {
      "cell_type": "code",
      "metadata": {
        "id": "fXsBHPDEfLhn"
      },
      "source": [
        "def accuracy(preds, y):\n",
        "  \"\"\"\n",
        "  This function returns the accuracy given the true predictions and the model predictions\n",
        "  \"\"\"\n",
        "  preds = torch.round(torch.sigmoid(preds))\n",
        "  correct = (preds == y).float()\n",
        "  acc = correct.sum()/len(correct)\n",
        "\n",
        "  return acc"
      ],
      "execution_count": 84,
      "outputs": []
    },
    {
      "cell_type": "markdown",
      "metadata": {
        "id": "a3LfWo_k9GFj"
      },
      "source": [
        "TRAINING"
      ]
    },
    {
      "cell_type": "code",
      "metadata": {
        "id": "gO6ZV87liYxD"
      },
      "source": [
        "def train_epoch(model, iterator, optimizer, criterion):\n",
        "  \"\"\"\n",
        "  This function trains the model, i.e forwward propopgates and backward \n",
        "  propogates for complete train set for one epoch\n",
        "  \"\"\"\n",
        "  epoch_loss = 0\n",
        "  epoch_acc = 0\n",
        "  i = 0\n",
        "  for batch in iterator:\n",
        "\n",
        "        optimizer.zero_grad()\n",
        "        \n",
        "        text = (batch.t).to(device)\n",
        "        \n",
        "        predictions = model(text).squeeze(1)\n",
        "        #predictions = predictions.long()\n",
        "        target = batch.l.type_as(predictions)\n",
        "        loss = criterion(predictions, target)\n",
        "        \n",
        "        acc = accuracy(predictions.long(),batch.l)\n",
        "        \n",
        "        loss.backward()\n",
        "        \n",
        "        optimizer.step()\n",
        "        \n",
        "        epoch_loss += loss.item()\n",
        "        epoch_acc += acc.item()\n",
        "        #return predictions.long(), batch.l\n",
        "  return epoch_loss / len(iterator), epoch_acc / len(iterator)\n",
        "    "
      ],
      "execution_count": 85,
      "outputs": []
    },
    {
      "cell_type": "code",
      "metadata": {
        "colab": {
          "base_uri": "https://localhost:8080/"
        },
        "id": "248x5xtFAVln",
        "outputId": "f8da84bf-c366-4379-cbea-3d1897faee48"
      },
      "source": [
        "################### This cell repeatedly calls the train_epoch function for N_EPOCHS times\n",
        "N_EPOCHS = 5\n",
        "\n",
        "for epoch in range(N_EPOCHS):\n",
        "\n",
        "\n",
        "    train_loss, train_acc = train_epoch(model, train_iterator, optimizer, criterion)\n",
        "    \n",
        "    # if valid_loss < best_valid_loss:\n",
        "    #     best_valid_loss = valid_loss\n",
        "    #     torch.save(model.state_dict(), 'tut2-model.pt')\n",
        "    \n",
        "    print(f'Epoch: {epoch+1:02} ')\n",
        "    print(f'\\tTrain Loss: {train_loss:.3f} | Train Acc: {train_acc*100:.2f}%')\n",
        "    "
      ],
      "execution_count": 42,
      "outputs": [
        {
          "output_type": "stream",
          "text": [
            "Epoch: 01 \n",
            "\tTrain Loss: 0.540 | Train Acc: 66.75%\n",
            "Epoch: 02 \n",
            "\tTrain Loss: 0.263 | Train Acc: 88.60%\n",
            "Epoch: 03 \n",
            "\tTrain Loss: 0.150 | Train Acc: 94.29%\n",
            "Epoch: 04 \n",
            "\tTrain Loss: 0.079 | Train Acc: 97.47%\n",
            "Epoch: 05 \n",
            "\tTrain Loss: 0.041 | Train Acc: 98.89%\n"
          ],
          "name": "stdout"
        }
      ]
    },
    {
      "cell_type": "code",
      "metadata": {
        "colab": {
          "base_uri": "https://localhost:8080/"
        },
        "id": "p6rLSpwZ4ZSF",
        "outputId": "a3385f28-0c53-4896-be6d-8cdd80cd173f"
      },
      "source": [
        "print(f\"Train Accuracy: {train_acc}%     Train Loss: {train_loss}\")"
      ],
      "execution_count": 108,
      "outputs": [
        {
          "output_type": "stream",
          "text": [
            "Train Accuracy: 98.89%     Train Loss: 0.041\n"
          ],
          "name": "stdout"
        }
      ]
    },
    {
      "cell_type": "code",
      "metadata": {
        "id": "YBzbATv6gSiR"
      },
      "source": [
        "def evaluate(model, iterator, criterion):\n",
        "    \"\"\"\n",
        "    This function returns the evaluation result for model.\n",
        "    If evaluation is to be done on test set, then test_iterator needs to be passed\n",
        "    \"\"\"\n",
        "\n",
        "    epoch_loss = 0\n",
        "    epoch_acc = 0\n",
        "    i = 0\n",
        "\n",
        "    true_labels = []\n",
        "    predicted_labels = []\n",
        "    \n",
        "    model.eval()\n",
        "    \n",
        "    with torch.no_grad():\n",
        "    \n",
        "        for batch in iterator:\n",
        "\n",
        "            \n",
        "            text = (batch.t).to(device)\n",
        "\n",
        "            predictions = model(text).squeeze(1)\n",
        "        \n",
        "            target = batch.l.type_as(predictions)\n",
        "            loss = criterion(predictions, target)\n",
        "            \n",
        "            acc = accuracy(predictions.long(),batch.l)\n",
        "            preds = torch.round(torch.sigmoid(predictions))\n",
        "\n",
        "            predicted_labels.extend(preds.cpu().numpy())\n",
        "            true_labels.extend(target.cpu().numpy())\n",
        "\n",
        "            epoch_loss += loss.item()\n",
        "            \n",
        "            epoch_acc += acc.item()\n",
        "        \n",
        "    return epoch_loss / len(iterator), epoch_acc / len(iterator), true_labels, predicted_labels"
      ],
      "execution_count": 109,
      "outputs": []
    },
    {
      "cell_type": "code",
      "metadata": {
        "id": "ybdHyBH_7eYJ"
      },
      "source": [
        "test_iterator.sort = False"
      ],
      "execution_count": 130,
      "outputs": []
    },
    {
      "cell_type": "markdown",
      "metadata": {
        "id": "Wd5THo7x9V0B"
      },
      "source": [
        "TEST RESULTS"
      ]
    },
    {
      "cell_type": "code",
      "metadata": {
        "id": "ukM4pnXW1q2q"
      },
      "source": [
        "Test_loss, Test_acc, True_labels, Predicted_labels = evaluate(model, test_iterator, criterion)"
      ],
      "execution_count": 102,
      "outputs": []
    },
    {
      "cell_type": "code",
      "metadata": {
        "colab": {
          "base_uri": "https://localhost:8080/"
        },
        "id": "6qPiqbSt3ANo",
        "outputId": "beb087c6-e8cc-4a45-8594-49231eb2bd4b"
      },
      "source": [
        "print(classification_report(True_labels, Predicted_labels))"
      ],
      "execution_count": 121,
      "outputs": [
        {
          "output_type": "stream",
          "text": [
            "              precision    recall  f1-score   support\n",
            "\n",
            "         0.0       0.90      0.86      0.88      4961\n",
            "         1.0       0.87      0.90      0.89      5039\n",
            "\n",
            "    accuracy                           0.88     10000\n",
            "   macro avg       0.88      0.88      0.88     10000\n",
            "weighted avg       0.88      0.88      0.88     10000\n",
            "\n"
          ],
          "name": "stdout"
        }
      ]
    },
    {
      "cell_type": "code",
      "metadata": {
        "colab": {
          "base_uri": "https://localhost:8080/"
        },
        "id": "abZ4Kl711d8e",
        "outputId": "c67c482f-2c51-4745-c63b-3da6d6db6ea0"
      },
      "source": [
        "print(f\"Test Accuracy obtained : {Test_acc*100}%\")"
      ],
      "execution_count": 128,
      "outputs": [
        {
          "output_type": "stream",
          "text": [
            "Test Accuracy obtained : 93.527%\n"
          ],
          "name": "stdout"
        }
      ]
    },
    {
      "cell_type": "code",
      "metadata": {
        "id": "_J-WEVQI747r"
      },
      "source": [
        ""
      ],
      "execution_count": null,
      "outputs": []
    },
    {
      "cell_type": "code",
      "metadata": {
        "id": "N3o7IYk174_M"
      },
      "source": [
        ""
      ],
      "execution_count": null,
      "outputs": []
    },
    {
      "cell_type": "code",
      "metadata": {
        "id": "J3gPFMbO75Bk"
      },
      "source": [
        ""
      ],
      "execution_count": null,
      "outputs": []
    },
    {
      "cell_type": "code",
      "metadata": {
        "id": "ddHSKwd575FG"
      },
      "source": [
        ""
      ],
      "execution_count": null,
      "outputs": []
    },
    {
      "cell_type": "code",
      "metadata": {
        "id": "LjB1D0X375He"
      },
      "source": [
        ""
      ],
      "execution_count": null,
      "outputs": []
    },
    {
      "cell_type": "code",
      "metadata": {
        "id": "_QLl2qZL75Lx"
      },
      "source": [
        ""
      ],
      "execution_count": null,
      "outputs": []
    },
    {
      "cell_type": "code",
      "metadata": {
        "id": "QV3q3M7L75P8"
      },
      "source": [
        "####IGNORE THIS, THE following cells are used to Plot the model"
      ],
      "execution_count": null,
      "outputs": []
    },
    {
      "cell_type": "code",
      "metadata": {
        "colab": {
          "base_uri": "https://localhost:8080/"
        },
        "id": "MVdN-CLSevg-",
        "outputId": "6907b713-a536-4732-895d-81bc52e4a87e"
      },
      "source": [
        "!pip install hiddenlayer"
      ],
      "execution_count": null,
      "outputs": [
        {
          "output_type": "stream",
          "text": [
            "Collecting hiddenlayer\n",
            "  Downloading https://files.pythonhosted.org/packages/64/f8/ea51d02695a4dc397f3b2487fae462cd3f2ce707c54250e0fdfaec2ff92e/hiddenlayer-0.3-py3-none-any.whl\n",
            "Installing collected packages: hiddenlayer\n",
            "Successfully installed hiddenlayer-0.3\n"
          ],
          "name": "stdout"
        }
      ]
    },
    {
      "cell_type": "code",
      "metadata": {
        "colab": {
          "base_uri": "https://localhost:8080/"
        },
        "id": "vkCbLMec-yZM",
        "outputId": "f8b5d6a5-a27f-401a-83a5-80e5b3049f38"
      },
      "source": [
        "import hiddenlayer as hl\n",
        "\n",
        "transforms = [ hl.transforms.Prune('Constant') ] # Removes Constant nodes from graph.\n",
        "\n",
        "graph = hl.build_graph(model, yhat, transforms=transforms)\n",
        "graph.theme = hl.graph.THEMES['blue'].copy()\n",
        "graph.save('rnn_hiddenlayer', format='png')"
      ],
      "execution_count": null,
      "outputs": [
        {
          "output_type": "stream",
          "text": [
            "/usr/local/lib/python3.7/dist-packages/torch/onnx/symbolic_opset9.py:1936: UserWarning: Exporting a model to ONNX with a batch_size other than 1, with a variable length with LSTM can cause an error when running the ONNX model with a different batch size. Make sure to save the model with a batch size of 1, or define the initial states (h0/c0) as inputs of the model. \n",
            "  \"or define the initial states (h0/c0) as inputs of the model. \")\n"
          ],
          "name": "stderr"
        }
      ]
    },
    {
      "cell_type": "code",
      "metadata": {
        "id": "GekZFeQT-7fC"
      },
      "source": [
        ""
      ],
      "execution_count": null,
      "outputs": []
    },
    {
      "cell_type": "code",
      "metadata": {
        "id": "sjBiqSfY_WUi"
      },
      "source": [
        ""
      ],
      "execution_count": null,
      "outputs": []
    },
    {
      "cell_type": "code",
      "metadata": {
        "id": "BosjYxR5kCEa"
      },
      "source": [
        ""
      ],
      "execution_count": null,
      "outputs": []
    }
  ]
}